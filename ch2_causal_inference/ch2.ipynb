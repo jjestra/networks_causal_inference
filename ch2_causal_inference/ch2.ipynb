{
 "cells": [
  {
   "cell_type": "markdown",
   "metadata": {},
   "source": [
    "# <span style=\"color:darkblue\">1. On the Identification and Estimation of Endogenous Peer Effects in Multiplex Networks </span> "
   ]
  },
  {
   "cell_type": "markdown",
   "metadata": {},
   "source": [
    "Juan Estrada, Kim P. Huynh, David T. Jacho-Chavez and Leonardo Sanchez-Aragon"
   ]
  },
  {
   "cell_type": "markdown",
   "metadata": {},
   "source": [
    "# <span style=\"color:darkblue\">2. On the Estimation of Social Effects with Observational Network Data and Random Assignment </span> "
   ]
  },
  {
   "cell_type": "markdown",
   "metadata": {},
   "source": [
    "Julian Chan, Juan Estrada, Kim P. Huynh, David T. Jacho-Chavez, Tom Lam and Leonardo Sanchez-Aragon"
   ]
  },
  {
   "cell_type": "markdown",
   "metadata": {},
   "source": [
    "# 1. Introduction"
   ]
  },
  {
   "cell_type": "markdown",
   "metadata": {},
   "source": [
    "<font size=\"4\"> \n",
    "    \n",
    "- Recent literature has been focused on determining the existence of _peer influences_ (Manski, 1993, Restud), or _network effects_ (a more modern term) in different economic settings.\n",
    "    \n",
    "    \n",
    "- Even after decades of research, and the documentation of strong positive potential peer effects in empirical studies, the original skepticism regarding the existence of peer influences raised by Manski (1993, Restud) still persists (see e.g., Angrist, 2014, LE for a critical review). "
   ]
  },
  {
   "cell_type": "code",
   "execution_count": null,
   "metadata": {
    "tags": []
   },
   "outputs": [],
   "source": [
    "%load_ext tikzmagic"
   ]
  },
  {
   "cell_type": "code",
   "execution_count": null,
   "metadata": {
    "tags": []
   },
   "outputs": [],
   "source": [
    "%%tikz -s 600,600\n",
    "\\node[circle, draw, fill = blue!10, text centered, font = \\normalsize, align = center, minimum size=4cm] (title){Network Effects};\n",
    "\n",
    "\\node[circle, draw, text centered, font = \\normalsize, align = center, minimum size=4cm] (cons) at (90:5.5) {Consumption\\\\DFP(2020, Restud)};\n",
    "\\path [draw] (title) to (cons);\n",
    "\n",
    "\\node[circle, draw, text centered, font = \\normalsize, align = center, minimum size=4cm] (bor) at (90:-5.5){Financial Decisions\\\\BEFY(2014, ECA)};\n",
    "\\path [draw] (title) to (bor);\n",
    "\n",
    "\\node[circle, draw, text centered, font = \\normalsize, align = center, minimum size=4cm] (ed) at (45:-5.5){Education\\\\CPZ(2009, Restud)};\n",
    "\\path [draw] (title) to (ed);\n",
    "\n",
    "\\node[circle, draw, text centered, font = \\normalsize, align = center, minimum size=4cm] (sa) at (45:5.5){Substance Abuse\\\\GR(2001, Restats)};\n",
    "\\path [draw] (title) to (sa);\n",
    "\n",
    "\\node[circle, draw, text centered, font = \\normalsize, align = center, minimum size=4cm] (ca) at (135:5.5){Labor Market\\\\MM(2009, AER)};\n",
    "\\path [draw] (title) to (ca);\n",
    "\n",
    "\\node[circle, draw, text centered, font = \\normalsize, align = center, minimum size=4cm] (ta) at (135:-5.5){Diseases Transmission\\\\MK(2004, ECA)};\n",
    "\\path [draw] (title) to (ta);\n",
    "\n",
    "\\node[circle, draw, text centered, font = \\normalsize, align = center, minimum size=4cm] (tech) at (0:5.5){Technology Adoption\\\\CA(2010, AER)};\n",
    "\\path [draw] (title) to (tech);\n",
    "\n",
    "\\node[circle, draw, text centered, font = \\normalsize, align = center, minimum size=4cm] (rp) at (0:-5.5){Knowledge Spillovers\\\\Z(2020, Restud)};\n",
    "\\path [draw] (title) to (rp);"
   ]
  },
  {
   "cell_type": "markdown",
   "metadata": {},
   "source": [
    "<font size=\"4\"> \n",
    "    \n",
    "**Reason for skepticism:** Identifying and disentangling different types of network effects is methodologically challenging, and may involve strong assumptions."
   ]
  },
  {
   "cell_type": "markdown",
   "metadata": {},
   "source": [
    "<font size=\"4\"> \n",
    "\n",
    "Most empirical research in the social interactions literature has focused on a version of the linear best response function of the Bayesian game of social interactions proposed Blume et al. (2015, QJE). That linear model can be written as a version of Manski's (1993) linear-in-means model:"
   ]
  },
  {
   "cell_type": "markdown",
   "metadata": {},
   "source": [
    "<font size=\"4.5\">$$y_{i}=\\alpha+\\beta\\sum_{j \\neq i}w_{i,j}y_{j}+\\sum_{j \\neq i}w_{i,j}\\mathbf{x}_{j}^{\\top}\\boldsymbol{\\delta}+ \\mathbf{x}_{i}^{\\top}\\boldsymbol{\\gamma}+v_{i}\\text{,}$$</font>"
   ]
  },
  {
   "cell_type": "markdown",
   "metadata": {},
   "source": [
    "<font size=\"4\">\n",
    "\n",
    "- $\\mathbf{x}_{i}$ is a vector of attributes that characterizes the individual.\n",
    "    \n",
    "\n",
    "- $w_{i,j} = 1$ if $j$ is connected with $i$ and zero otherwise (it can also be _row-normalized_).\n",
    "\n",
    "\n",
    "- $v_{i}$ represents an unobserved latent variable."
   ]
  },
  {
   "cell_type": "markdown",
   "metadata": {},
   "source": [
    "<font size=\"4\"> \n",
    "    \n",
    "**Parameters:**\n",
    "    \n",
    "- $\\beta$ are the <span style=\"text-decoration: underline\">_Peer_</span> Effects\n",
    "\n",
    "\n",
    "- $\\delta$ are the <span style=\"text-decoration: underline\">_Contextual_</span> Effects\n",
    "\n",
    "    \n",
    "- $\\gamma$ are the <span style=\"text-decoration: underline\">_Direct_</span> Effects"
   ]
  },
  {
   "cell_type": "code",
   "execution_count": null,
   "metadata": {
    "tags": []
   },
   "outputs": [],
   "source": [
    "%%tikz -s 800,800 \n",
    "\n",
    "\\tikzstyle{node1} = [rectangle, rounded corners, minimum width=3cm, minimum height=1cm, text width=3cm, text centered, draw=black, fill=blue!30]\n",
    "\\tikzstyle{node2} = [rectangle, rounded corners, minimum width=3cm, minimum height=1cm, text width=3cm, text centered, draw=black, fill=blue!5]\n",
    "\\tikzstyle{node3} = [rectangle, rounded corners, minimum width=3cm, minimum height=1cm, text width=4cm, text centered, draw=black, fill=white]\n",
    "\\tikzstyle{node4} = [rectangle, rounded corners, minimum width=3cm, minimum height=1cm, text width=4cm, text centered, draw=black, fill=green!10]\n",
    "\n",
    "\\node (start) [node1] {Identification Issues};\n",
    "\n",
    "\\node (in1) [node2, above right of=start, yshift=1.5cm, xshift=2cm] {Correlated Effects $E[\\mathbf{v}| \\mathbf{X}, \\mathbf{W}] \\neq 0$}; \n",
    "\\path [draw, thin] (start) to (in1);\n",
    "\n",
    "\\node (ts1) [node3, above right of=in1, yshift=0.7cm, xshift=4cm] {Endogenous Choice of Peers}; \n",
    "\\path [draw, thin] (ts1) to (in1);\n",
    "\n",
    "\\node (tsn) [node3, right of=in1, xshift=3.7cm] {Measurment Error}; \n",
    "\\path [draw, thin] (tsn) to (in1);\n",
    "\n",
    "\\node (ts2) [node3, below right of=in1, yshift=-0.7cm, xshift=4cm] {Common Shocks}; \n",
    "\\path [draw, thin] (ts2) to (in1);\n",
    "\n",
    "\\node (in2) [node2, below right of=start, yshift=-1.5cm, xshift=2cm] {Reflection Problem}; \n",
    "\\path [draw, thin] (start) to (in2);\n",
    "\n",
    "\\node (ts3) [node3, above right of=in2, yshift=0.5cm, xshift=4cm] {Simultaneity in Behavior}; \n",
    "\\path [draw, thin] (ts3) to (in2);\n",
    "\n",
    "\\node (ts4) [node3, below right of=in2, yshift=-0.5cm, xshift=4cm] {Distinguishing $\\delta$ from $\\beta$ my be Impossible}; \n",
    "\\path [draw, thin] (ts4) to (in2);\n",
    "\n",
    "\\node (fs1) [node4, right of=in1,  xshift=9cm] {Solution: \\textbf{This Research}}; \n",
    "\\path [draw, thin] (ts1) to (fs1);\n",
    "\\path [draw, thin] (ts2) to (fs1);\n",
    "\\path [draw, thin] (tsn) to (fs1);\n",
    "\n",
    "\\node (fs2) [node4, right of=in2,  xshift=9cm] {Solution: \\textbf{Network Data} (BDF (2009, JoE) - DPR (2010, AEJ))}; \n",
    "\\path [draw, thin] (ts3) to (fs2);\n",
    "\\path [draw, thin] (ts4) to (fs2);\n"
   ]
  },
  {
   "cell_type": "markdown",
   "metadata": {},
   "source": [
    "<font size=\"4\"> \n",
    "    \n",
    "**The objective** is to identify and consistently estimate the structural coefficients $(\\alpha$, $\\beta$, $\\boldsymbol{\\delta}^{\\top}$, $\\boldsymbol{\\gamma}^{\\top})$, when $\\mathbb{E}[\\mathbf{v}|\\mathbf{X}, \\mathbf{W}] \\neq 0$"
   ]
  },
  {
   "cell_type": "markdown",
   "metadata": {},
   "source": [
    "# 2. Main Identification Idea: Multiplex Network Structure "
   ]
  },
  {
   "cell_type": "markdown",
   "metadata": {},
   "source": [
    "<font size=\"4\"> \n",
    "The main insight is to generalize the idea of indirect connections as a source of exclusion restrictions to a framework where the researcher has access to more than one type of network in what is known as multilayer networks."
   ]
  },
  {
   "cell_type": "markdown",
   "metadata": {},
   "source": [
    "## Running Example: Network Effects in the Quality of Peer Reviewed Research Articles"
   ]
  },
  {
   "cell_type": "markdown",
   "metadata": {},
   "source": [
    "<font size=\"4\"> \n",
    "\n",
    "- The researcher has access to data consisting of all peer-reviewed articles published in 4 out of the top 5 general-interest journals in economics, namely the _American Economics Review_ (AER), _Econometrica_ (ECA), the _Journal of Political Economy_ (JPE), and the _Quarterly Journal of Economics_ (QJE) for the years 2000, 2001 and 2002. \n",
    "\n",
    "\n",
    "    \n",
    "- The data contain co-authorship information, research interest, education, and employment history of _all_ the authors who published there in this time window."
   ]
  },
  {
   "cell_type": "code",
   "execution_count": null,
   "metadata": {},
   "outputs": [],
   "source": [
    "import pandas as pd\n",
    "path = '/home/data' # Change this path for the location of empirical_multilayer_cloud/data in your local machine\n",
    "\n",
    "articles_authors = pd.read_csv(path + '/sql/articles_authors.csv')\n",
    "authors_char = pd.read_csv(path + '/sql/authors_char.csv')"
   ]
  },
  {
   "cell_type": "code",
   "execution_count": null,
   "metadata": {},
   "outputs": [],
   "source": [
    "authors_char.head()"
   ]
  },
  {
   "cell_type": "code",
   "execution_count": null,
   "metadata": {},
   "outputs": [],
   "source": [
    "articles_authors.head()"
   ]
  },
  {
   "cell_type": "markdown",
   "metadata": {},
   "source": [
    "<font size=\"4\"> \n",
    "    \n",
    "With these data the researcher is interested on estimating the following version of the linear in means model:"
   ]
  },
  {
   "cell_type": "markdown",
   "metadata": {},
   "source": [
    "<font size=\"4.5\"> \n",
    "    \n",
    "$$y_{i,r,t} =\\alpha+\\beta\\sum_{j \\neq i}w_{i,j}y_{j,r,t}+\\sum_{j \\neq i}w_{i,j}\\mathbf{x}_{j,r,t}^{\\top}\\boldsymbol{\\delta}+ \\mathbf{x}_{i,r,t}^{\\top}\\boldsymbol{\\gamma}+\\lambda_{r}+\\lambda_{t}+\\lambda_{0}+v_{i,r,t}\\text{,}$$ "
   ]
  },
  {
   "cell_type": "markdown",
   "metadata": {},
   "source": [
    "<font size=\"4\"> \n",
    " \n",
    "- $y_{i,r,t}$ represents the natural logarithm of article $i$'s citations 8-year post publication in journal $r$ in year $t$.\n",
    "\n",
    "    \n",
    "- $\\mathbf{x}_{j,r,t}$ includes observable characteristics of article $j$ in journal $r$ in year $t$ (different gender and editor participation).\n",
    "\n",
    "    \n",
    "- $\\mathbf{x}_{i,r,t}$ include the same characteristics for article $i$ plus its number of pages, authors, bibliographic references, and whether or not it shares a co-authors' relationship with other articles.\n",
    "\n",
    "    \n",
    "- Fixed effects in terms of journal ($\\lambda_{r}$), year ($\\lambda_t$), and alumni component ($\\lambda_0$) are also included.\n",
    "\n",
    "    \n",
    "- $w_{i,j} = 1/n_{i}$ if at least one of the authors in article $i$ is a coauthor of at least one of the authors of article $j$, where $n_{i}$ is the number of connections of article $i$."
   ]
  },
  {
   "cell_type": "markdown",
   "metadata": {},
   "source": [
    "# 2.1 Indirect connections as a source of exclusion restrictions BDF (2009, JoE)"
   ]
  },
  {
   "cell_type": "markdown",
   "metadata": {},
   "source": [
    "<font size=\"4\">\n",
    "\n",
    "If the issue of correlated effects was controlled by the observable characteristics in $\\mathbf{x}_{i,r,t}$ and the fixed effects $\\lambda_{r}$, $\\lambda_t$, and $\\lambda_0$, so that $\\mathbb{E}[\\mathbf{v}|\\mathbf{X}, \\mathbf{W}, \\boldsymbol{\\lambda}] = 0$, the reflection problem still needs to be addressed. To see why write the previous equation in matrix form\n",
    "\n",
    "$$\\mathbf{y}=\\boldsymbol{\\iota}\\alpha+\\mathbf{W}\\mathbf{y}\\beta+\\mathbf{W}\\mathbf{X}\\boldsymbol{\\delta}+\\mathbf{X}\\boldsymbol{\\gamma}+\\boldsymbol{\\lambda}+\\mathbf{v}.$$\n",
    "    \n",
    "Note that if $1/\\lambda$ is not an eigenvalue of $\\mathbf{W}$, the solution of this equation can be written as\n",
    "    \n",
    "$$\\mathbf{y}=\\left(\\mathbf{I}-\\beta\\mathbf{W}\\right)^{-1}\\left[\\boldsymbol{\\iota}\\alpha+\\mathbf{W}\\mathbf{X}\\boldsymbol{\\delta}+\\mathbf{X}\\boldsymbol{\\gamma}+\\boldsymbol{\\lambda}+\\mathbf{v}\\right],$$\n",
    "\n",
    "which makes clear that $\\mathbf{W}\\mathbf{y}$ is correlated with the errors $\\mathbf{v}$. \n"
   ]
  },
  {
   "cell_type": "markdown",
   "metadata": {},
   "source": [
    "<font size=\"4\">\n",
    "    \n",
    "**Addressing the reflection problem** using network data:\n",
    "\n",
    "The reflection problem is cause by a particular data structure where the population of individuals are partitioned into dense sub-networks of the same size (think about classrooms for example). The problem arises because of a lack of exclusion restrictions in the system of simultaneous equations generated by the outcome equations $y_{i,r,t}$.\n",
    "    "
   ]
  },
  {
   "cell_type": "code",
   "execution_count": null,
   "metadata": {},
   "outputs": [],
   "source": [
    "import pandas as pd\n",
    "import networkx as nx\n",
    "import numpy as np\n",
    "\n",
    "path = '/home/data' # Change this path for the location of empirical_multilayer_cloud/data in your local machine\n",
    "\n",
    "edges = pd.read_csv(path + '/csv/edges.csv')"
   ]
  },
  {
   "cell_type": "code",
   "execution_count": null,
   "metadata": {},
   "outputs": [],
   "source": [
    "articles = pd.read_csv(path + '/csv/articles_dta_article_id.csv')"
   ]
  },
  {
   "cell_type": "code",
   "execution_count": null,
   "metadata": {},
   "outputs": [],
   "source": [
    "np.random.seed(417)\n",
    "ml_rnodes = np.random.choice(articles.article.unique(),135).tolist()\n",
    "ml_redges = edges[(edges['source'].isin(ml_rnodes)) & (edges['target'].isin(ml_rnodes))]"
   ]
  },
  {
   "cell_type": "markdown",
   "metadata": {},
   "source": [
    "![alt text](network.png \"Net\")"
   ]
  },
  {
   "cell_type": "markdown",
   "metadata": {},
   "source": [
    "<font size=\"4\">**Instransitive Triads**<font>"
   ]
  },
  {
   "cell_type": "markdown",
   "metadata": {},
   "source": [
    "<font size=\"4\">\n",
    "    \n",
    "$y_{509} = \\beta y_{717}+ \\delta x_{717} + \\gamma x_{509} + v_{509}$\n",
    "    \n",
    "$y_{630} = \\beta y_{717}+ \\delta x_{717} + \\gamma x_{630} + v_{630}$\n",
    "    \n",
    "$y_{717} = \\beta (y_{509}+y_{630}) + \\delta (x_{509}+x_{630}) + \\gamma x_{717} + v_{717}$\n",
    "\n",
    "In this case $x_{630}$ can be used as an instrument for $y_{717}$ in the equation for $y_{509}$ while $x_{509}$ can be used as an **instrument** for the same variable in the equation for $y_{630}$. In terms of the rank conditions, the network provides **natural exclusions restrictions** to identify the first and third equations."
   ]
  },
  {
   "cell_type": "markdown",
   "metadata": {},
   "source": [
    "<font size=\"4\">**Complete Triangle**<font>"
   ]
  },
  {
   "cell_type": "markdown",
   "metadata": {},
   "source": [
    "<font size=\"4\">\n",
    "    \n",
    "$y_{464} = \\beta (y_{466}+y_{560}) + \\delta (x_{466}+x_{560}) + \\gamma x_{464} + v_{464}$\n",
    "    \n",
    "$y_{466} = \\beta (y_{464}+y_{560}) + \\delta (x_{464}+x_{560}) + \\gamma x_{466} + v_{466}$\n",
    "    \n",
    "$y_{560} = \\beta (y_{464}+y_{466}) + \\delta (x_{464}+x_{466}) + \\gamma x_{560} + v_{560}$\n",
    "\n",
    "In this case, there are not exogenous variables excluded from any equation which makes the system of equations non identified."
   ]
  },
  {
   "cell_type": "markdown",
   "metadata": {},
   "source": [
    "<font size=\"4\">\n",
    "    \n",
    "<font color='darkblue'>\n",
    "\n",
    "**Formally:**\n",
    "\n",
    "1. Validity: $\\mathbb{E}[\\mathbf{v}|\\mathbf{X}, \\mathbf{W}, \\boldsymbol{\\lambda}] = 0$\n",
    "2. Relevance: $\\mathbf{I}$, $\\mathbf{W}$, $\\mathbf{W}^{2}$ and $\\gamma\\beta + \\delta \\neq 0$ \n",
    "    \n",
    "If conditions 1 and 2 hold, the parameters in the linear-in-means model are identified. The second condition for relevance comes from the fact that the expectation of $\\mathbf{W}\\mathbf{y}$ can be written as\n",
    "\n",
    "\n",
    "$$\\mathbb{E}(\\mathbf{W} \\mathbf{y} \\mid \\mathbf{x})=\\alpha /(1-\\beta) \\iota+\\gamma \\mathbf{W} \\mathbf{x}+(\\gamma \\beta+\\delta) \\sum_{k=0}^{\\infty} \\beta^{k} \\mathbf{W}^{k+2} \\mathbf{x}$$\n",
    "    \n",
    "<font> "
   ]
  },
  {
   "cell_type": "code",
   "execution_count": null,
   "metadata": {},
   "outputs": [],
   "source": [
    "def rank(matrices):\n",
    "    n = matrices[0].shape[0]\n",
    "    long = np.identity(n).reshape((1,n*n))\n",
    "\n",
    "    for j in range(len(matrices)):\n",
    "        long = np.append(long, matrices[j].reshape((1,n*n)), axis = 0)\n",
    "\n",
    "    return np.linalg.matrix_rank(long)"
   ]
  },
  {
   "cell_type": "code",
   "execution_count": null,
   "metadata": {},
   "outputs": [],
   "source": [
    "Wint = np.array([[0,0,1],\n",
    "                [0,0,1],\n",
    "                [1,1,0]])\n",
    "Wt = np.array([[0,1,1],\n",
    "               [1,0,1],\n",
    "               [1,1,0]])"
   ]
  },
  {
   "cell_type": "code",
   "execution_count": null,
   "metadata": {},
   "outputs": [],
   "source": [
    "rank([np.identity(3),Wint, Wint@Wint])"
   ]
  },
  {
   "cell_type": "code",
   "execution_count": null,
   "metadata": {},
   "outputs": [],
   "source": [
    "rank([np.identity(3),Wt, Wt@Wt])"
   ]
  },
  {
   "cell_type": "markdown",
   "metadata": {},
   "source": [
    "# 2.2 Multiplex Networks as a Source of Identification Under Correlated Effects"
   ]
  },
  {
   "cell_type": "markdown",
   "metadata": {},
   "source": [
    "<font size=\"4\"> \n",
    " \n",
    "- Identification in this challenging setting is made possible by the existence of more than one type of social connections relating two individuals. For instance, scholars may be connected to each other because they write papers together (coauthors), but also because they graduated from the same institution during the same time (classmates), or because they work together (coworkers). \n",
    "    \n",
    "\n",
    "- This type of data structure is becoming more prominent in the literature. Some examples include NST(2018, AEJ) which uses data with two types of connections: family members and neighbors, NR(2019, JAE) considers siblings and classmates, and DFP(2019, Restud) considers coworkers and spouses. \n",
    "\n",
    "    \n",
    "- These types of data structures can be formalized as **multiplex networks**, where the same set of individuals can have different types of connections. \n",
    "\n",
    "    \n",
    "- This paper considers the existence of two types of networks <font color='red'>$\\mathbf{W}$</font> and <font color='blue'>$\\mathbf{W}_{0}$</font> with the following assumptions:\n",
    "\n",
    "    \n",
    "   **Assumption 1:**\n",
    "    $$\\mathbb{E}[\\mathbf{v}|\\mathbf{W}, \\mathbf{X}] \\neq 0$$ \n",
    "    $$\\mathbb{E}[\\mathbf{v}|\\mathbf{W}_{0}, \\mathbf{X}] = 0$$\n",
    "    \n",
    "\n",
    "- In the empirical example, the issue of correlated effects can arise because of the possibility that authors who produce high quality papers may be connected with each other just because they are similar in their labels of skills, i.e., **peer effects can be confounded with unobserved heterogeneity or unobserved homophily**.\n",
    "\n",
    "    \n",
    "- The connections generated between two scholars who finished their Ph.D. together from the same institution can be consider an exogenous network. Its **natural timing** allows it to be considered pre-determined because it was formed prior to the endogenous co-authorship network. The empirical specification includes fixed effects  for Ph.D. institutions ($\\lambda_{0}$), to control for the possibility that intrinsically productive future scholars self-select themselves into better graduate programs, and that universities maximize the quality of each incoming class."
   ]
  },
  {
   "cell_type": "markdown",
   "metadata": {},
   "source": [
    "## Example of the identification result"
   ]
  },
  {
   "cell_type": "markdown",
   "metadata": {},
   "source": [
    "## a. Randomly choose some nodes from the coauthors and alumni networks"
   ]
  },
  {
   "cell_type": "code",
   "execution_count": null,
   "metadata": {},
   "outputs": [],
   "source": [
    "np.random.seed(710)\n",
    "mp_rnodes = np.random.choice(articles.article.unique(),100).tolist()\n",
    "mp_redges = edges[(edges['source'].isin(mp_rnodes)) & (edges['target'].isin(mp_rnodes))]\n",
    "\n",
    "edges0 = pd.read_csv(path + '/csv/edges0.csv')\n",
    "mp_redges0 = edges0[(edges0['source'].isin(mp_rnodes)) & (edges0['target'].isin(mp_rnodes))]\n",
    "\n",
    "tuples = [tuple(x) for x in mp_redges.to_numpy()]\n",
    "tuples0 = [tuple(x) for x in mp_redges0.to_numpy()]"
   ]
  },
  {
   "cell_type": "markdown",
   "metadata": {},
   "source": [
    "## b. Create multiplex network visualization"
   ]
  },
  {
   "cell_type": "markdown",
   "metadata": {},
   "source": [
    "<font size=\"4\"> \n",
    "    \n",
    "To execute the code for network visualization, you are required to clone the ```pymnet``` GitHub repository (https://github.com/bolozna/multilayer-networks-library). I placed the local repository in my local anaconda installation under the ```multilayer``` anaconda environment. To make sure that Python can find the location to the ```pymnet``` library file, append the directory to you Python path using ```sys.path.append```. "
   ]
  },
  {
   "cell_type": "code",
   "execution_count": null,
   "metadata": {},
   "outputs": [],
   "source": [
    "import sys\n",
    "#sys.path.append(r\"D:\\Users\\JuanEstrada\\anaconda3\\envs\\multilayer\\lib\\site-packages\\Multilayer-networks-library-master\") \n",
    "# Change the location of this path to the folder where you locally save the pymnet repo\n",
    "from pymnet import *"
   ]
  },
  {
   "cell_type": "code",
   "execution_count": null,
   "metadata": {},
   "outputs": [],
   "source": [
    "%matplotlib inline\n",
    "\n",
    "mplex = MultiplexNetwork(couplings=('categorical'))\n",
    "mplex.add_layer('$W$')\n",
    "mplex.add_layer('$W_0$')\n",
    "\n",
    "for t in range(len(tuples0)):\n",
    "    mplex.A['$W_0$'][tuples0[t]] = 1\n",
    "    \n",
    "for t in range(len(tuples)):\n",
    "    mplex.A['$W$'][tuples[t]] = 1\n",
    "\n",
    "mplex.A['$W$'][516,447] = 1\n",
    "\n",
    "fig = draw(mplex,layershape=\"rectangle\",show=True,\n",
    "           layerColorDict={'$W$':\"mistyrose\",'$W_0$':\"lightsteelblue\"},\n",
    "           layerLabelColorDict= {'$W$':\"red\",'$W_0$':\"blue\"},\n",
    "           nodeColorDict = {(447,'$W_0$'):\"blue\",(189,'$W_0$'):\"blue\", (516,'$W_0$'):\"blue\", (516,'$W$'):\"red\",(189,'$W$'):\"red\", (447,'$W$'):\"red\"},\n",
    "           defaultEdgeColor='gray', defaultEdgeWidth=2.0, figsize = (12,12), layout=\"circular\")"
   ]
  },
  {
   "cell_type": "markdown",
   "metadata": {},
   "source": [
    "## c. Analysis of the consequences of correlated effects"
   ]
  },
  {
   "cell_type": "code",
   "execution_count": null,
   "metadata": {
    "tags": []
   },
   "outputs": [],
   "source": [
    "Wint @ Wint"
   ]
  },
  {
   "cell_type": "markdown",
   "metadata": {},
   "source": [
    "\n",
    "_________________________________________________________________________________________________________________________________________________________________________________________________________\n",
    "\n",
    "<font size=\"4\">\n",
    "    \n",
    "**Structural Equation**\n",
    "\n",
    "Under the specification assumption that only one network is relevant in the outcome equation (common in the literature), the system of equations for scholars 189, 516, and 447 (<font color='red'>in red</font>) can be written as:\n",
    "\n",
    "$ y_{189} = \\alpha + \\beta y_{516} + \\delta x_{516} + \\gamma x_{189} + v_{189}$\n",
    "\n",
    "$ y_{447} = \\alpha + \\beta y_{516} + \\delta x_{516} + \\gamma x_{447} + v_{447}$\n",
    "    \n",
    "$ y_{516} = \\alpha + \\beta (y_{189} + y_{447})+ \\delta (x_{189} + x_{447}) + \\gamma x_{516} + v_{516}$\n",
    "\n",
    "\n",
    "- Under the assumption that $\\mathbb{E}[\\mathbf{v}|\\mathbf{W}, \\mathbf{x}] \\neq 0$, the previous strategy of using $x_{447}$ as an instrument for $y_{516}$ in the $y_{189}$ equation is **no longer valid**. \n",
    "\n",
    "\n",
    "- The **validity** of that instrument comes from the moment condition \n",
    "    \n",
    "$$\\mathbb{E}[W_{189}^{2}\\mathbf{x}v_{189}] = \\mathbb{E}[x_{189}v_{189}] + \\mathbb{E}[x_{447}v_{189}]$$ \n",
    "    \n",
    "    \n",
    "Which does not necessarily equal to zero when correlated effects are a problem.\n",
    "\n",
    "___"
   ]
  },
  {
   "cell_type": "markdown",
   "metadata": {},
   "source": [
    "### d.1 Solution for the problem of correlated effects: **Three-Stage Least Squares Approach**"
   ]
  },
  {
   "cell_type": "markdown",
   "metadata": {},
   "source": [
    "<font size=\"4\">\n",
    "    \n",
    "The solution comes from the second layer of connections. If the networks are correlated (some classmates end up writing papers together), the following projection provides relevant information regarding that relationship:\n",
    "    \n",
    "**Assumption 2(a):**\n",
    "    \n",
    "$$\\mathbf{W}\\mathbf{S} = \\mathbf{W}_{0}\\mathbf{S}\\mathbf{\\Pi} + \\mathbf{U},$$\n",
    "    \n",
    "- $\\mathbf{S} = \\left[\\mathbf{y}, \\mathbf{X}\\right]$ is a $n \\times (k+1)$ matrix \n",
    "\n",
    "\n",
    "- The $n \\times (k+1)$ matrix of system errors $\\mathbf{U}$ is such that $E\\left[\\mathbf{U}| \\mathbf{W}_{0}\\mathbf{y}, \\mathbf{W}_{0}, \\mathbf{X}\\right] = \\mathbf{O}]$ (matrix of zeros)\n",
    "\n",
    "    \n",
    "- The $(k+1) \\times (k+1)$ matrix of projection coefficients $\\Pi$ is such that rank$(\\Pi) = k+1$\n",
    "\n",
    " \n",
    "- The first row of $\\mathbf{\\Pi}$, $\\boldsymbol{\\pi}_{1}$, is such that $\\boldsymbol{\\pi}_{1}^{\\top}\\theta <1/\\lambda_{max}$ where $\\lambda_{max}$ is the largest eigenvalue of $\\mathbf{W}_{0}$ and $\\boldsymbol{\\theta} = \\left(\\beta,\\boldsymbol{\\delta^{\\top}}\\right)$\n",
    "    "
   ]
  },
  {
   "cell_type": "markdown",
   "metadata": {},
   "source": [
    "<font size=\"4\">\n",
    "\n",
    "The projection equation on **Assumption 2** can be written as the following system of equations:\n",
    "    \n",
    "- The set of equations related with $\\mathbf{y}$ is:\n",
    "    \n",
    "    $y_{516} = \\pi_{11}(y_{447} + y_{516}) + \\pi_{21}(x_{447} + x_{516}) + u_{11}$\n",
    "\n",
    "    $y_{516} = \\pi_{11}y_{189} + \\pi_{21}x_{189}+ u_{21}$\n",
    "\n",
    "    $(y_{189} + y_{447}) = \\pi_{11}y_{189} + \\pi_{21}x_{189}+ u_{31}$\n",
    "\n",
    "    \n",
    "- The set of equations related with $\\mathbf{x}$ is:\n",
    "    \n",
    "    $x_{516} = \\pi_{12}(y_{447} + y_{516}) + \\pi_{22}(x_{447} + x_{516}) + u_{21}$\n",
    "\n",
    "    $x_{516} = \\pi_{12}y_{189} + \\pi_{22}x_{189}+ u_{22}$\n",
    "\n",
    "    $(x_{189} + x_{447}) = \\pi_{12}y_{189} + \\pi_{22}x_{189}+ u_{32}$\n",
    "    "
   ]
  },
  {
   "cell_type": "markdown",
   "metadata": {},
   "source": [
    "____________________________________________________________________________________________________________________________________________________________________________________________________________________________________\n",
    "    \n",
    "<font size=\"4\">\n",
    "    \n",
    "These equations can be replace back into the **structural equation** to obtain \n",
    "\n",
    "    \n",
    "$y_{189} = \\alpha + (\\beta\\pi_{11} + \\delta\\pi_{12}) (y_{447} + y_{516}) + (\\beta\\pi_{11} + \\delta\\pi_{12}) (x_{447} + x_{516}) + \\gamma x_{189} + e_{189}$\n",
    "\n",
    "$y_{447} = \\alpha + (\\beta\\pi_{11} + \\delta\\pi_{12}) y_{189} + (\\beta\\pi_{11} + \\delta\\pi_{12}) x_{189} + \\gamma x_{447} + e_{447}$\n",
    "    \n",
    "$y_{516} = \\alpha + (\\beta\\pi_{11} + \\delta\\pi_{12}) y_{189} + (\\beta\\pi_{11} + \\delta\\pi_{12}) x_{189} + \\gamma x_{516} + e_{516}$\n",
    "    \n",
    "\n",
    "\n",
    "- In this case, under the assumption $\\mathbb{E}\\left[\\mathbf{v}|\\mathbf{W}_{0}, \\mathbf{x}\\right] = 0$, $x_{447}$ can be used as an instrument for $y_{189}$ in the $y_{516}$. \n",
    "    \n",
    "\n",
    "\n",
    "- The **validity** of that instrument comes from the moment condition $\\mathbb{E}\\left[W_{0,189}^{2}\\mathbf{x}v_{516}\\right] = \\mathbb{E}\\left[x_{516}v_{516}\\right] + \\mathbb{E}\\left[x_{447}v_{516}\\right] = 0$ because by the law of iterated expectations $\\mathbb{E}\\left[\\mathbf{v}|\\mathbf{W}_{0}, \\mathbf{x}\\right] = 0$ implies $\\mathbb{E}\\left[W_{0}^{2}\\mathbf{x}\\mathbf{v}\\right] = 0$.\n",
    "\n",
    "____________________________________________________________________________________________________________________________________________________________________________________________________________________________________"
   ]
  },
  {
   "cell_type": "markdown",
   "metadata": {},
   "source": [
    "<font size=\"4\">\n",
    "\n",
    "**Steps where Assumption 2(a) is required:**\n",
    "\n",
    "In general, the matrix form, the previous structural equation can be written as\n",
    "    \n",
    "\n",
    "\n",
    "$$\\mathbf{y}=\\alpha\\boldsymbol{\\iota}+\\mathbf{W}_{0}\\mathbf{S}\\mathbf{\\Pi}\\boldsymbol{\\theta}+\\mathbf{X}\\boldsymbol{\\gamma}+\\mathbf{e},$$\n",
    "    \n",
    "\n",
    "    \n",
    "where $\\mathbf{e} = \\mathbf{U}\\boldsymbol{\\theta} + \\mathbf{v}$. From this equation it is clear that if there are enough exclusions restrictions generated by $\\mathbf{W}_{0}$, it is possible to identify the parameters $\\boldsymbol{\\theta}^{\\ast} = \\mathbf{\\Pi}\\boldsymbol{\\theta}$. Under **Assumption 2**, rank$(\\Pi) = k+1$, so that the structural parameters $\\boldsymbol{\\theta}$ can be identified by $\\boldsymbol{\\theta} = \\mathbf{\\Pi}^{-1}\\boldsymbol{\\theta}^{\\ast}$.\n",
    "    \n",
    "\n",
    "The reduced form is easier to write When $k=1$, the previous equation can be expanded to be\n",
    "    \n",
    "\n",
    "\n",
    "$$\\mathbf{y} = \\alpha\\boldsymbol{\\iota} + \\left(\\boldsymbol{\\pi}_{1}^{\\top}\\boldsymbol{\\theta}\\right)\\mathbf{y} + \\left(\\boldsymbol{\\pi}_{2}^{\\top}\\boldsymbol{\\theta}\\right)\\mathbf{W}_{0}\\mathbf{x}+\\gamma \\mathbf{x}+\\mathbf{e}\\text{.}$$\n",
    "    \n",
    "\n",
    "    \n",
    "Under **Assumption 2**, $\\boldsymbol{\\pi}_{1}^{\\top}\\theta <1/\\lambda_{\\text{max}}$ so that $\\mathbf{I} - (\\boldsymbol{\\pi}_{1}^{\\top}\\theta) \\mathbf{W}_{0}$ can be inverted which leads\n",
    "    \n",
    "\n",
    "    \n",
    "$$\\mathbf{y} = \\left(\\mathbf{I} - (\\boldsymbol{\\pi}_{1}^{\\top}\\theta) \\mathbf{W}_{0}\\right)^{-1}\\left(\\alpha\\boldsymbol{\\iota}  + \\left(\\boldsymbol{\\pi}_{2}^{\\top}\\boldsymbol{\\theta}\\right)\\mathbf{W}_{0}\\mathbf{x}+\\gamma \\mathbf{x}+\\mathbf{e}\\right)\\text{.}$$\n",
    "\n",
    "    \n",
    "    \n",
    "Using a series expansion, the previous equation can be also written as \n",
    "    \n",
    "\n",
    "   \n",
    "$$\\mathbf{y}=\\frac{\\alpha}{\\left(1-\\boldsymbol{\\pi}_{1}^{\\top}\\theta\\right)} \\boldsymbol{\\iota}+\\gamma \\mathbf{x}+\\left(\\gamma\\boldsymbol{\\pi}_{1}^{\\top}\\theta+\\boldsymbol{\\pi}_{2}^{\\top}\\theta\\right)\\sum_{r=0}^{\\infty} \\left(\\boldsymbol{\\pi}_{1}^{\\top}\\theta\\right)^{r}\\mathbf{W}_{0}^{r+1}\\mathbf{x} +\\sum_{r=0}^{\\infty}\\left(\\boldsymbol{\\pi}_{1}^{\\top}\\theta\\right)^{r}\\mathbf{W}_{0}^{r}\\mathbf{e}\\text{.}$$\n",
    "\n",
    "____________________________________________________________________________________________________________________________________________________________________________________________________________________________________"
   ]
  },
  {
   "cell_type": "markdown",
   "metadata": {},
   "source": [
    "<font size=\"4\">\n",
    "\n",
    "**Some remarks about the rank condition in Assumption 2(a):**\n",
    "    \n",
    "\n",
    "By definition rank $(\\mathbf{\\Pi})\\leq \\min \\{\\text{rank}(E[\\mathbf{S}^{\\top}\\mathbf{w}_{0;i}\\mathbf{w}_{0;i}^{\\top}\\mathbf{S}]^{-1}),\\text{rank}(E[\\mathbf{S}^{\\top}\\mathbf{w}_{0;i}\\mathbf{w}_{i}^{\\top}\\mathbf{S}])\\}$, so that a necessary condition for rank$(\\mathbf{\\Pi})=k+1$ is that $\\text{rank}(E[\\mathbf{S}^{\\top}\\mathbf{w}_{0;i}\\mathbf{w}_{i}^{\\top}\\mathbf{S}])=k+1$. For $n$ large enough empirically, we would require\n",
    "    \n",
    "    \n",
    "    \n",
    "$$\\text{rank}(\\mathbf{S}^{\\top}\\mathbf{W}_{0}\\mathbf{W}\\mathbf{S}])=k+1.$$\n",
    "    \n",
    "    \n",
    "The matrix formed by $\\mathbf{W}_{0}\\mathbf{W}$ is such that: \n",
    "    \n",
    "\n",
    "- The $i,i$ th position contains the number of nodes that share both types of connections ($\\mathbf{W}$ and $\\mathbf{W}_{0}$) with individual $i$.\n",
    "  \n",
    "    \n",
    "  - In the empirical application: number of classmates that end up collaborating as coauthors with scholar $i$.\n",
    "    \n",
    "    \n",
    "    \n",
    "- The $i,j$ th position contains the number of paths length two (indirect connections) that change edges from type $\\mathbf{W}_{0}$ to type $\\mathbf{W}$.\n",
    "    \n",
    "  \n",
    "  - In the empirical application: number of $i$'s classmates that have a coauthor connection with any scholar $j$.\n",
    "    \n",
    " \n",
    "Note that if the two matrices do not have any connections in common, or enough indirect connections that change, there would be rank deficiency problems. Therefore, the rank condition on $\\mathbf{\\Pi}$ is closely related with the condition that the two matrices $\\mathbf{W}$ and $\\mathbf{W}_{0}$ have to be correlated.\n",
    "    \n",
    "____________________________________________________________________________________________________________________________________________________________________________________________________________________________________"
   ]
  },
  {
   "cell_type": "markdown",
   "metadata": {},
   "source": [
    "<font size=\"4\">\n",
    "    \n",
    "<font color='darkblue'>\n",
    "    \n",
    "**Formal Identification Result:**\n",
    "\n",
    "1. Validity: $\\mathbb{E}[\\mathbf{v}|\\mathbf{X}, \\mathbf{W}_{0}, \\boldsymbol{\\lambda}] = 0$\n",
    "2. Relevance: $\\mathbf{I}$, $\\mathbf{W}_{0}$, $\\mathbf{W}_{0}^{2}$ and $\\gamma\\boldsymbol{\\pi}_{1}^{\\top}\\theta+\\boldsymbol{\\pi}_{2}^{\\top}\\theta \\neq 0$\n",
    "    \n",
    "If **Assumptions 1** and **2(a)** hold, the parameters in the linear-in-means model are identified. \n",
    "    \n",
    "<font>"
   ]
  },
  {
   "cell_type": "markdown",
   "metadata": {},
   "source": [
    "____________________________________________________________________________________________________________________________________________________________________________________________________________________________________\n",
    "### d.2 Solution for the problem of correlated effects: **Generalized Method of Moments Approach**"
   ]
  },
  {
   "cell_type": "markdown",
   "metadata": {},
   "source": [
    "<font size=\"4\">\n",
    "    \n",
    "Instead of adding an auxiliary equation, in the GMM approach, we impose a high-level condition requiring the probability of two individuals to connect in the network of interest to be larger if they are connected in the exogenous network. \n",
    "    \n",
    "**Assumption 2(b):**\n",
    "\n",
    "$\\forall\\mathcal{G}_{0} \\in \\mathscr{G}_{0}$ and $\\mathbf{X} \\in \\mathscr{X}$, the conditional probability $\\mathcal{F}(\\mathcal{G}, \\mathbf{v}\\mid \\mathcal{G}_{0},\\mathbf{X})$ is such that $\\Pr(w_{i,j}>0|\\mathcal{G}_{0},\\mathbf{X})=\\rho(w_{0;i,j},\\mathcal{G}_{0},\\mathbf{X},\\mathbf{v})$, for some real-valued function $\\rho: \\mathscr{G}_{0} \\times \\mathscr{X} \\times \\mathbb{R}^N \\to [0,1]$. Moreover, $\\rho(0,\\mathcal{G}_{0},\\mathbf{X},\\mathbf{v})<\\rho(\\boldsymbol{1}\\{w_{0;i,j}>0\\},\\mathcal{G}_{0},\\mathbf{X},\\mathbf{v})$ $\\forall (\\mathcal{G}_{0},\\mathbf{X},\\mathbf{v})\\in\\mathscr{G}_{0} \\times \\mathscr{X} \\times \\mathbb{R}^N$, where $\\boldsymbol{1}(\\cdot)$ is the usual indicator function that equals one if its argument is true and zero otherwise."
   ]
  },
  {
   "cell_type": "markdown",
   "metadata": {},
   "source": [
    "____________________________________________________________________________________________________________________________________________________________________________________________________________________________________\n",
    "<font size=\"4\">\n",
    "\n",
    "**Moment Condition:**\n",
    "\n",
    "We define the matrices $\\mathbf{D}=[\\mathbf{W}\\mathbf{y}, \\mathbf{W}\\mathbf{X}, \\widetilde{\\mathbf{X}}]$ to be the matrix of regressors in the matrix-notation counterpart of the linear-in-means model and $\\mathbf{Z}=[\\mathbf{W}_{N,0}^{p}\\mathbf{X},\\mathbf{W}_{N,0}^{p-1}\\mathbf{X},\\dots,\\mathbf{W}_{N,0}\\mathbf{X}, \\widetilde{\\mathbf{X}}]$ to be the matrix of *instruments*.\n",
    "\n",
    "Defining the function $\\boldsymbol{m}(\\boldsymbol{\\psi}):=\\sum_{i\\in\\mathcal{I}}\\mathbf{z}_{i}v{i}$, it follows that $\\mathbb{E}[\\boldsymbol{m}(\\boldsymbol{\\psi}_{0})]=\\boldsymbol{0}$, where $\\mathbf{z}_{i}$ is the $i$ th row of the matrix $\\mathbf{Z}$.\n",
    "\n",
    "**Assumption 3:**\n",
    "\n",
    "The matrix $\\mathbb{E}[\\sum_{i \\in \\mathcal{I}_{N}}\\mathbf{z}_{i}\\mathbf{d}_{i}^{\\top}]<\\infty$ has full column rank.\n",
    "____________________________________________________________________________________________________________________________________________________________________________________________________________________________________"
   ]
  },
  {
   "cell_type": "markdown",
   "metadata": {},
   "source": [
    "<font size=\"4\">\n",
    "    \n",
    "<font color='darkblue'>\n",
    "    \n",
    "**Formal Identification Result:**\n",
    "\n",
    "Let **Assumptions 1**, **2(b)**, and **3** hold, then  $\\mathbb{E}[\\boldsymbol{m}(\\boldsymbol{\\psi})]=\\boldsymbol{0}_{K}$ if and only if $\\boldsymbol{\\psi}=\\boldsymbol{\\psi}_{0}$, where $\\boldsymbol{m}(\\boldsymbol{\\psi}):=\\sum_{i\\in\\mathcal{I}_{N}}\\mathbf{z}_{i}v{i}$.\n",
    "    \n",
    "<font>"
   ]
  },
  {
   "cell_type": "markdown",
   "metadata": {},
   "source": [
    "# 3.1 Estimation: **Three-Stage Least Squares Approach**"
   ]
  },
  {
   "cell_type": "markdown",
   "metadata": {},
   "source": [
    "<font size=\"4\">\n",
    "\n",
    "- **Step 1:**\n",
    "\n",
    "Regress $\\mathbf{W}\\mathbf{S}$ on $\\mathbf{W}_0\\mathbf{S}$ by OLS. Get $\\widehat{\\mathbf{W}\\mathbf{S}}$ and $\\widehat{\\mathbf{U}}$.\n",
    "    \n",
    "    \n",
    "    \n",
    "- **Step 2:**\n",
    "    \n",
    "    \n",
    "Regress $\\mathbf{y}$ on $\\boldsymbol{\\iota}$, $\\mathbf{X}$, $\\mathbf{W}_{0}\\mathbf{y}$, and $\\mathbf{W}_{0}\\mathbf{X}$ by 2SLS using $\\boldsymbol{\\iota}$, $\\mathbf{X}$, $\\mathbf{W}_{0}^{2}\\mathbf{X}$, and $\\mathbf{W}_{0}\\mathbf{X}$ as instruments. From the equation \n",
    "    \n",
    "    \n",
    "$$\\widehat{\\alpha}_{\\text{2SLS}}\\boldsymbol{\\iota}+\\widehat{\\theta}^\\ast_{\\text{2SLS}}\\mathbf{W}_{0}\\mathbf{S}+\\widehat{\\gamma}_{\\text{2SLS}}\\mathbf{X},$$\n",
    "    \n",
    "    \n",
    "    \n",
    "get the parameters $[\\widehat{\\alpha}_{\\text{2SLS}},\\widehat{\\gamma}_{\\text{2SLS}},\\widehat{\\theta}_{\\text{2SLS}}]^{\\top}$ where $\\widehat{\\boldsymbol{\\theta}}_{\\text{2SLS}} = \\widehat{\\Pi}^{-1}\\widehat{\\theta}^\\ast_{\\text{2SLS}}$.\n",
    "    \n",
    "    \n",
    "- **Step 3:**\n",
    "    \n",
    "    \n",
    "\n",
    "Regress $\\mathbf{y}$ on $\\boldsymbol{\\iota}$, $\\mathbf{X}$, and $\\widehat{\\mathbf{W}\\mathbf{S}}$ by IV using $\\boldsymbol{\\iota}$, $\\mathbf{X}$, and $[\\widehat{\\mathbf{Z}}\\quad \\mathbf{W}_{0}\\mathbf{X}]\\widehat{\\boldsymbol{\\Pi}}$ as instruments, where $\\widehat{\\mathbf{Z}}=\\mathbf{W}_{0}\\left(\\mathbf{I}-(\\widehat{\\boldsymbol{\\pi}}_1^\\top\\widehat{\\boldsymbol{\\theta}}_{\\text{2SLS}})\\mathbf{W}_{0}\\right)^{-1}\\left\\{\\widehat{\\alpha}_{\\text{2SLS}}\\boldsymbol{\\iota}+\\left(\\widehat{\\gamma}_{\\text{2SLS}}\\mathbf{I}+(\\widehat{\\boldsymbol{\\pi}}_2^\\top\\widehat{\\boldsymbol{\\theta}}_{\\text{2SLS}})\\mathbf{W}_{0}\\right)\\mathbf{X}\\right\\}$. From the equation\n",
    "    \n",
    "    \n",
    "    \n",
    "$$\\widehat{\\alpha}_{\\text{G3SLS}}\\boldsymbol{\\iota}+\\widehat{\\theta}_{\\text{G3SLS}}\\mathbf{W}\\mathbf{S}+\\widehat{\\gamma}_{\\text{G3SLS}}\\mathbf{X},$$\n",
    "    \n",
    "    \n",
    "    \n",
    "get the parameters $[\\widehat{\\alpha}_{\\text{G3SLS}},\\widehat{\\gamma}_{\\text{G3SLS}},\\widehat{\\beta}_{\\text{G3SLS}},\\widehat{\\delta}_{\\text{G3SLS}}]^{\\top}$ and the residuals $\\widehat{\\mathbf{v}}\\equiv\\mathbf{y}-\\widehat{\\alpha}_{\\text{G3SLS}}\\boldsymbol{\\iota}-\\widehat{\\gamma}_{\\text{G3SLS}}\\mathbf{X}-\\widehat{\\beta}_{\\text{G3SLS}}\\mathbf{W}\\mathbf{y}-\\widehat{\\delta}_{\\text{G3SLS}}\\mathbf{W}\\mathbf{X}$."
   ]
  },
  {
   "cell_type": "markdown",
   "metadata": {},
   "source": [
    "<font size=\"4\">\n",
    "    \n",
    "- **Standard Errors**\n",
    "\n",
    "    \n",
    "The standard errors in the Network IV regression are based on a consistent estimator for the asymptotic variance covariance matrix given by\n",
    "    \n",
    "\n",
    "$$\\widehat{\\mathbf{V}}_{\\boldsymbol{\\psi}}=\\left(n^{-1}\\widehat{\\mathbf{Z}}{}^{\\ast\\top}\\widehat{\\mathbf{D}}\\right)^{-1} \\left(n^{-1}\\sum\\nolimits_{i=1}^{n}\\widehat{\\mathbf{z}}^{\\ast}_{i}\\widehat{\\mathbf{z}}{}^{\\ast\\top}_{i}\\widehat{e}_{i}^{\\ast 2}\\right) \\left(n^{-1}\\widehat{\\mathbf{D}}^{\\top}\\widehat{\\mathbf{Z}}{}^{\\ast}\\right)^{-1}$$\n",
    "    \n",
    "    \n",
    "    \n",
    "- $\\widehat{\\mathbf{Z}}^{\\ast}=\\left(\\boldsymbol{\\iota} \\quad \\mathbf{X} \\quad [\\widehat{\\mathbf{Z}}\\quad \\mathbf{W}_{0}\\mathbf{X}]\\widehat{\\boldsymbol{\\Pi}}\\right)$ \n",
    "\n",
    "    \n",
    "    \n",
    "- $\\widehat{\\mathbf{D}} = \\left(\\mathbf{\\iota}\\quad \\mathbf{X} \\quad [\\mathbf{W}_{0}\\mathbf{y} \\quad \\mathbf{W}_{0}\\mathbf{X}]\\widehat{\\boldsymbol{\\Pi}}\\right)$\n",
    "\n",
    "    \n",
    "    \n",
    "- $\\widehat{\\mathbf{e}}^{\\ast}=\\mathbf{M}_{\\mathbf{W}_0}\\widehat{\\mathbf{U}}\\widehat{\\boldsymbol{\\theta}}+\\widehat{\\mathbf{v}}$ for $\\mathbf{M}_{\\mathbf{W}_0}\\equiv\\mathbf{I}-\\mathbf{W_{0}}\\mathbf{S}(\\mathbf{S}^{\\top}\\mathbf{W}_{0}^{2}\\mathbf{S})^{-1}\\mathbf{S}^{\\top}\\mathbf{W_{0}}$\n",
    "\n",
    "    \n",
    "    \n",
    "The asymptotic variance-covariance matrix, $\\mathbf{V}_{\\boldsymbol{\\psi}}$, takes into account the estimation effects from the various steps, i.e, the error $\\mathbf{e}^{\\ast}$ is composed of the structural errors $\\mathbf{v}$ and also the first step errors $\\mathbf{U}$.    \n",
    "    \n",
    "    "
   ]
  },
  {
   "cell_type": "markdown",
   "metadata": {},
   "source": [
    "# 3.1 Estimation: **Generalized Method of Moments Approach**"
   ]
  },
  {
   "cell_type": "markdown",
   "metadata": {},
   "source": [
    "<font size=\"4\">\n",
    "\n",
    "Standard linear GMM estimator:\n",
    "\n",
    "$$\\widehat{\\boldsymbol{\\psi}}_{\\text{GMM}} =  [\\mathbf{D}_{n}^{\\top}\\mathbf{Z}_{n}\\mathbf{A}_{n} \\mathbf{Z}_{n}^{\\top}\\mathbf{D}_{n}]^{-1} [\\mathbf{D}_{n}^{\\top}\\mathbf{Z}_{n}\\mathbf{A}_{n}\\mathbf{Z}_{n}^{\\top}\\mathbf{y}_{n}]$$\n",
    "\n",
    "where the full rank weighting matrix $\\mathbf{A}_{n}$ is assumed to converge in probability to $\\mathbf{A}$"
   ]
  },
  {
   "cell_type": "markdown",
   "metadata": {},
   "source": [
    "<font size=\"4\">\n",
    "    \n",
    "- **Standard Errors**\n",
    "\n",
    "The asymptotic variance-covariance matrix $\\mathbf{\\Omega}$ that accounts for network dependence is given by \n",
    "\n",
    "$$\\mathbf{\\Omega} = \\lim_{n \\to\\infty} n^{-1}\\left[\\sum_{i=1}^{n} \\text{var}(\\mathbf{z}_{i}v_{i}) + \\sum_{i \\neq j}\\text{cov}(\\mathbf{z}_{i}v_{i}, \\mathbf{z}_{j}v_{j})\\right]\\equiv\\sum_{d\\geq 0} \\mathbf{\\Gamma}(d)<\\infty.$$\n",
    "\n",
    "The efficient asymptotic variance-covariance matrix for the GMM estimator $\\widehat{\\boldsymbol{\\psi}}_{\\text{GMM}}$ is then given by \n",
    "\n",
    "$$\\mathbf{\\Sigma}=(\\mathbb{E}[\\Sigma_{i \\in \\mathcal{I}_{N}}\\mathbf{z}_{i}\\mathbf{d}_{i}^{\\top}]^{\\top}\\mathbf{\\Omega}^{-1}\\mathbb{E}[\\Sigma_{i \\in \\mathcal{I}_{N}}\\mathbf{z}_{i}\\mathbf{d}_{i}^{\\top}])^{-1}.$$\n",
    "\n",
    "We propose the following consistent estimator for $\\mathbf{\\Omega}$\n",
    "\n",
    "$$\\widetilde{\\mathbf{\\Omega}} =\\sum_{d\\geq 0}K(d/D) \\frac{1}{n}\\sum_{i=1}^{n}\\sum_{j \\in \\mathcal{P}_{n}(i,d)}\\mathbf{z}_{i}\\widetilde{\\varepsilon}_{i}\\widetilde{\\varepsilon}_{j}\\mathbf{z}_{j}^{\\top},$$\n",
    "\n",
    "where $\\widetilde{\\varepsilon}_{n;i} = y_{n;i} - \\mathbf{d}_{n;i}^{\\top}\\widetilde{\\boldsymbol{\\psi}}_{\\text{GMM}}$; $K(\\cdot)$ is a kernel (weighting) function, such that $K(0)=1$ and $K(u)=0$ for $u>1$; and $\\widetilde{\\boldsymbol{\\psi}}_{\\text{GMM}}$ is a preliminary consistent estimator.\n",
    "\n",
    "Therefore, the estimator for the **variance-covariance matrix for inference** is given by \n",
    "\n",
    "$$\\left[n^{-1}\\mathbf{D}^{\\top}\\mathbf{Z}\\widehat{\\mathbf{\\Omega}}^{\\star-1}n^{-1}\\mathbf{Z}^{\\top}\\mathbf{D}\\right]^{-1},$$\n",
    "\n",
    "where $\\widehat{\\mathbf{\\Omega}}_{n}^{\\star}$ is calculated as using $\\widehat{\\boldsymbol{\\theta}}_{\\text{GMM}}^\\ast$ instead. The **standard errors** can then be calculated by taking the squared-root of the main diagonal elements of \\eqref{feasible_var_cov} after dividing them by $n$."
   ]
  },
  {
   "cell_type": "markdown",
   "metadata": {
    "tags": []
   },
   "source": [
    "### Results for more years"
   ]
  },
  {
   "cell_type": "markdown",
   "metadata": {},
   "source": [
    "![alt text](empirical.png \"Title\")"
   ]
  }
 ],
 "metadata": {
  "kernelspec": {
   "display_name": "Python 3 (ipykernel)",
   "language": "python",
   "name": "python3"
  },
  "language_info": {
   "codemirror_mode": {
    "name": "ipython",
    "version": 3
   },
   "file_extension": ".py",
   "mimetype": "text/x-python",
   "name": "python",
   "nbconvert_exporter": "python",
   "pygments_lexer": "ipython3",
   "version": "3.9.7"
  }
 },
 "nbformat": 4,
 "nbformat_minor": 4
}
