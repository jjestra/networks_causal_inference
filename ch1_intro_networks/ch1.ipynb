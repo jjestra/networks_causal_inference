{
 "cells": [
  {
   "cell_type": "markdown",
   "metadata": {},
   "source": [
    "# <span style=\"color:darkblue\">Quick start with PostgreSQL for Network Data Construction, Networkx for Analysis of Global Network Statistics, and Network Visualization </span> "
   ]
  }
 ],
 "metadata": {
  "interpreter": {
   "hash": "a63a193d9ed4d12c78783fe3399720957b7a87052417fcb402e5c3805523312f"
  },
  "kernelspec": {
   "display_name": "Python 3.8.5 ('base')",
   "language": "python",
   "name": "python3"
  },
  "language_info": {
   "name": "python",
   "version": "3.8.5"
  },
  "orig_nbformat": 4
 },
 "nbformat": 4,
 "nbformat_minor": 2
}
