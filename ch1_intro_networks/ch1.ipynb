{
 "cells": [
  {
   "cell_type": "markdown",
   "metadata": {},
   "source": [
    "# <center><span style=\"color:darkblue\">Quick start with PostgreSQL for Network Data Construction, Networkx for Analysis of Global Network Statistics, and Network Visualization </span><center> "
   ]
  },
  {
   "cell_type": "markdown",
   "metadata": {},
   "source": [
    "Juan Estrada and Leonardo Sanchez-Aragon"
   ]
  },
  {
   "cell_type": "markdown",
   "metadata": {},
   "source": [
    "## <span style=\"color:darkblue\">1. Quick start with PostgreSQL and SQL Language </span>\n",
    "\n",
    "<font size=\"4\"> \n",
    "\n",
    "-  A database is a program which helps store data and provides functionality for **adding, modifying, and querying** that data.\n",
    "\n",
    "-  One of the most popular types of databases is the **relational database**. It stores each kind of data in a table where rows represent an item and columns represent properties of those items.\n",
    "\n",
    "-  Relational databases are particularly useful to form relationships between tables. This form of storage is more efficient than having to repeat rows to store all the information of related tables. See for example *authors_char, articles_char and articles_authors* tables."
   ]
  },
  {
   "cell_type": "code",
   "execution_count": 1,
   "metadata": {},
   "outputs": [],
   "source": [
    "%load_ext tikzmagic"
   ]
  },
  {
   "cell_type": "code",
   "execution_count": 2,
   "metadata": {},
   "outputs": [
    {
     "name": "stderr",
     "output_type": "stream",
     "text": [
      "No image generated.\n"
     ]
    }
   ],
   "source": [
    "%%tikz -s 600,600\n",
    "\\makeatletter\n",
    "\\tikzset{\n",
    "    database/.style={\n",
    "        path picture={\n",
    "            \\draw (0, 1.5*\\database@segmentheight) circle [x radius=\\database@radius,y radius=\\database@aspectratio*\\database@radius];\n",
    "            \\draw (-\\database@radius, 0.5*\\database@segmentheight) arc [start angle=180,end angle=360,x radius=\\database@radius, y radius=\\database@aspectratio*\\database@radius];\n",
    "            \\draw (-\\database@radius,-0.5*\\database@segmentheight) arc [start angle=180,end angle=360,x radius=\\database@radius, y radius=\\database@aspectratio*\\database@radius];\n",
    "            \\draw (-\\database@radius,1.5*\\database@segmentheight) -- ++(0,-3*\\database@segmentheight) arc [start angle=180,end angle=360,x radius=\\database@radius, y radius=\\database@aspectratio*\\database@radius] -- ++(0,3*\\database@segmentheight);\n",
    "        },\n",
    "        minimum width=2*\\database@radius + \\pgflinewidth,\n",
    "        minimum height=3*\\database@segmentheight + 2*\\database@aspectratio*\\database@radius + \\pgflinewidth,\n",
    "    },\n",
    "    database segment height/.store in=\\database@segmentheight,\n",
    "    database radius/.store in=\\database@radius,\n",
    "    database aspect ratio/.store in=\\database@aspectratio,\n",
    "    database segment height=0.1cm,\n",
    "    database radius=0.25cm,\n",
    "    database aspect ratio=0.35,\n",
    "}\n",
    "\\makeatother\n",
    "\n",
    "\\node[database,label=below:Database, database radius=1cm,database segment height=0.5cm] (database){};\n",
    "\n",
    "\\node[circle, draw, text centered, font = \\normalsize, align = center, minimum size=2cm] (dta) at (0:-3.5) {Data};\n",
    "\\path [draw] (database) to (dta);\n",
    "\n",
    "\\node[circle, draw, text centered, font = \\normalsize, align = center, minimum size=2cm] (res) at (0:3.5) {Results};\n",
    "\\path [draw] (database) to (res);"
   ]
  },
  {
   "cell_type": "markdown",
   "metadata": {},
   "source": [
    "![alt text](publications_data.png \"Title\")"
   ]
  },
  {
   "cell_type": "markdown",
   "metadata": {},
   "source": [
    "<font size=\"4\"> \n",
    "\n",
    "SQL is a language design entirely for accessing databases and it allows to:\n",
    "\n",
    "\n",
    "- Create tables.\n",
    "\n",
    "- Update and change data.\n",
    "\n",
    "- Query the database."
   ]
  },
  {
   "cell_type": "markdown",
   "metadata": {},
   "source": [
    "## <span style=\"color:darkblue\">1.1 PostgreSQL </span>\n",
    "\n",
    "<font size=\"4\"> \n",
    "\n",
    "- Relational database management system (RDBMS).\n",
    "\n",
    "- One of the most popular RDBMS and increasing popularity during the last 6 years.\n",
    "\n",
    "- Open-source software in active development for over 30 years.\n",
    "\n",
    "- It has reputation for being a reliable, robust and secure data platform."
   ]
  },
  {
   "cell_type": "markdown",
   "metadata": {},
   "source": [
    "### <span style=\"color:darkblue\">RDBMS Advantages </span>\n",
    "\n",
    "<font size=\"4\"> \n",
    "\n",
    "- Creates a protective wrapper around your data and gives the ability to control modification.\n",
    "\n",
    "- Secures your data by enforcing access permission (particularly good for join projects).\n",
    "\n",
    "- Manages system performance which helps enter data and retrieve information in the most efficient ways possible.\n",
    "\n",
    "### <span style=\"color:darkblue\">Server/Client Model </span>"
   ]
  },
  {
   "cell_type": "code",
   "execution_count": 2,
   "metadata": {},
   "outputs": [
    {
     "name": "stderr",
     "output_type": "stream",
     "text": [
      "No image generated.\n"
     ]
    }
   ],
   "source": [
    "%%tikz -s 500,500 -l fit\n",
    "\n",
    "\\tikzset{\n",
    "  comp/.style = {\n",
    "    minimum width  = 8cm,\n",
    "    minimum height = 4.5cm,\n",
    "    text width     = 8cm,\n",
    "    inner sep      = 0pt,\n",
    "    text           = green,\n",
    "    align          = center,\n",
    "    font           = \\Huge,\n",
    "    transform shape,\n",
    "    thick\n",
    "  },\n",
    "  monitor/.style = {draw = none, xscale = 18/16, yscale = 11/9},\n",
    "  display/.style = {shading = axis, left color = black!60, right color = black},\n",
    "  ut/.style      = {fill = gray}\n",
    "}\n",
    "\\tikzset{\n",
    "  computer/.pic = {\n",
    "    % screen (with border)\n",
    "    \\node(-m) [comp, pic actions, monitor]\n",
    "      {\\phantom{\\parbox{\\linewidth}{\\tikzpictext}}};\n",
    "    % display (without border)\n",
    "    \\node[comp, pic actions, display] {\\tikzpictext};\n",
    "    \\begin{scope}[x = (-m.east), y = (-m.north)]\n",
    "      % filling the lower part\n",
    "      \\path[pic actions, draw = none]\n",
    "        ([yshift=2\\pgflinewidth]-0.1,-1) -- (-0.1,-1.3) -- (-1,-1.3) --\n",
    "        (-1,-2.4) -- (1,-2.4) -- (1,-1.3) -- (0.1,-1.3) --\n",
    "        ([yshift=2\\pgflinewidth]0.1,-1);\n",
    "      % filling the border of the lower part\n",
    "      \\path[ut]\n",
    "        (-1,-2.4) rectangle (1,-1.3)\n",
    "        (-0.9,-1.4) -- (-0.7,-2.3) -- (0.7,-2.3) -- (0.9,-1.4) -- cycle;\n",
    "      % drawing the frame of the whole computer\n",
    "      \\path[pic actions, fill = none]\n",
    "        (-1,1) -- (-1,-1) -- (-0.1,-1) -- (-0.1,-1.3) -- (-1,-1.3) --\n",
    "        (-1,-2.4) coordinate(sw)coordinate[pos=0.5] (-b west) --\n",
    "        (1,-2.4) -- (1,-1.3) coordinate[pos=0.5] (-b east) --\n",
    "        (0.1,-1.3) -- (0.1,-1) -- (1,-1) -- (1,1) -- cycle;\n",
    "      % node around the whole computer\n",
    "      \\node(-c) [fit = (sw)(-m.north east), inner sep = 0pt] {};\n",
    "    \\end{scope}\n",
    "  }\n",
    "}\n",
    "\n",
    "\\makeatletter\n",
    "\\tikzset{\n",
    "    database/.style={\n",
    "        path picture={\n",
    "            \\draw (0, 1.5*\\database@segmentheight) circle [x radius=\\database@radius,y radius=\\database@aspectratio*\\database@radius];\n",
    "            \\draw (-\\database@radius, 0.5*\\database@segmentheight) arc [start angle=180,end angle=360,x radius=\\database@radius, y radius=\\database@aspectratio*\\database@radius];\n",
    "            \\draw (-\\database@radius,-0.5*\\database@segmentheight) arc [start angle=180,end angle=360,x radius=\\database@radius, y radius=\\database@aspectratio*\\database@radius];\n",
    "            \\draw (-\\database@radius,1.5*\\database@segmentheight) -- ++(0,-3*\\database@segmentheight) arc [start angle=180,end angle=360,x radius=\\database@radius, y radius=\\database@aspectratio*\\database@radius] -- ++(0,3*\\database@segmentheight);\n",
    "        },\n",
    "        minimum width=2*\\database@radius + \\pgflinewidth,\n",
    "        minimum height=3*\\database@segmentheight + 2*\\database@aspectratio*\\database@radius + \\pgflinewidth,\n",
    "    },\n",
    "    database segment height/.store in=\\database@segmentheight,\n",
    "    database radius/.store in=\\database@radius,\n",
    "    database aspect ratio/.store in=\\database@aspectratio,\n",
    "    database segment height=0.1cm,\n",
    "    database radius=0.25cm,\n",
    "    database aspect ratio=0.35,\n",
    "}\n",
    "\\makeatother\n",
    "\n",
    "\\node[database,label=below:Postgres Server, database radius=1cm,database segment height=0.5cm] (database){};\n",
    "\\pic[draw,fill = gray!30, scale = 0.25, pic text = {Client 2}](pc2) at (0:3.5){computer};\n",
    "\\node[circle](client2) at (0:2.5){};\n",
    "\\path [draw] (database) to (client2);\n",
    "\n",
    "\\pic[draw,fill = gray!30, scale = 0.25, pic text = {Client 1}](pc1) at (45:5){computer};\n",
    "\\node[circle](client1) at (45:3.5){};\n",
    "\\path [draw] (database) to (client1);\n",
    "\n",
    "\\pic[draw,fill = gray!30, scale = 0.25, pic text = {Client 3}](pc1) at (-45:5){computer};\n",
    "\\node[circle](client3) at (-45:4){};\n",
    "\\path [draw] (database) to (client3);"
   ]
  },
  {
   "cell_type": "markdown",
   "metadata": {},
   "source": [
    "<font size=\"4\"> \n",
    "\n",
    "- In our case, we will be using an Amazon Web Service (AWS) Postgres Relational Database Service (RDS).\n",
    "\n",
    "- I will follow the steps of how to connect to the Postgres server from my local machine.\n",
    "\n",
    "- Once the connection is established, I will show how to create the relational database containing the data that I will be using to construct the networks.\n",
    "\n",
    "- The following process assumes that you have installed an interface client in your local machine, and you have already created an AWS Postgres server.\n",
    "\n",
    "- You can go back to presentation 2 for more information about cloud computing and how to set up the AWS Postgres server.\n",
    "\n",
    "- I will be using the graphical user interface called pgAdmin 4, here is a tutorial to install Postgres in your local machine https://www.postgresqltutorial.com/install-postgresql/ (it includes instructions for Windows, Linux and macOS)."
   ]
  },
  {
   "cell_type": "markdown",
   "metadata": {},
   "source": [
    "### <span style=\"color:darkblue\">Process to Connect AWS Postgres Server to Local pgAdmin 4 </span>\n",
    "\n",
    "<font size=\"4\"> \n",
    "\n",
    "1. Go to the AWS instance containing the Postgres server and copy the Endpoint where you will be connecting to.\n",
    "\n",
    "2. In your pdAdmin 4 click on servers and then Add New Server.\n",
    "\n",
    "3. A new window asking for the server information will pop up. In the name section, you can use any name you want for the new AWS server.\n",
    "\n",
    "4. Click on to the connection page and in the Host name/address paste the Endpoint that you copied from the AWS instance. If the Endpoint includes the port at the end after a colon, erase it and write the port number in the Port space.\n",
    "\n",
    "5. Input the username and password that were created during the server set up process.\n"
   ]
  },
  {
   "cell_type": "markdown",
   "metadata": {},
   "source": [
    "### <span style=\"color:darkblue\">Create the Database in the AWS Server </span>\n",
    "\n",
    "<font size=\"4\"> \n",
    "\n",
    "- To create the database and the tables inside, we will be using Structure Query Language (SQL).\n",
    "\n",
    "- The command to create the database is simple:\n",
    "\n",
    "<font size=\"3\"> \n",
    "\n",
    "``` sql\n",
    "    CREATE DATABASE name\n",
    "      [ [ WITH ] [ OWNER [=] user_name ]\n",
    "            [ TEMPLATE [=] template ]\n",
    "            [ ENCODING [=] encoding ]\n",
    "            [ LC_COLLATE [=] lc_collate ]\n",
    "            [ LC_CTYPE [=] lc_ctype ]\n",
    "            [ TABLESPACE [=] tablespace ]\n",
    "            [ CONNECTION LIMIT [=] connlimit ] ]\n",
    "```\n",
    "\n",
    "<font size=\"4\"> \n",
    "\n",
    "- I will use all the default options to create the database that we will be using in this course:\n",
    "\n",
    "<font size=\"3\"> \n",
    "\n",
    "```sql\n",
    "    CREATE DATABASE publications\n",
    "```\n",
    "\n",
    "- The database is created and it comes with the default schemas ```public```, you can use that schema, change its name, or create different schemas for different parts of the database. For this example, I will change the Schema name for *table*."
   ]
  },
  {
   "cell_type": "markdown",
   "metadata": {},
   "source": [
    "### <span style=\"color:darkblue\">Create Tables in the Publications Database </span>\n",
    "\n",
    "<font size=\"4\"> \n",
    "\n",
    "The first step in process of inputting data into a database is to create a table. You can create different tables depending on the structure of the data that you are using. In this case, we provided you with the data structures and the tables' information in CSV format. We have 5 tables that are structured as illustrated in the **Entry Relationship Diagram** presented before. Therefore, we want the structure of the tables in the publications database to reflect the same structure.\n",
    "\n",
    "The 5 required tables can be constructed using the following SQL commands:\n",
    "\n",
    "<font size=\"4\"> \n",
    "\n",
    "**1) Table with the relations between articles and authors:**\n",
    "\n",
    "<font size=\"3\"> \n",
    "\n",
    "``` sql\n",
    "        CREATE TABLE public.articles_authors\n",
    "        (\n",
    "            articles_authors_id integer NOT NULL,\n",
    "            article integer NOT NULL,\n",
    "            year integer NOT NULL,\n",
    "            author integer NOT NULL,\n",
    "            editor_incharge boolean NOT NULL,\n",
    "            PRIMARY KEY (articles_authors_id)\n",
    "        );\n",
    "```\n",
    "\n",
    "<font size=\"4\"> \n",
    "\n",
    "**2) Table with the characteristics of the articles (such as number of pages, journal, number of citations, etc.):**\n",
    "\n",
    "<font size=\"3\"> \n",
    "\n",
    "``` sql\n",
    "        CREATE TABLE public.articles_char\n",
    "        (\n",
    "            articles_char_id integer NOT NULL,\n",
    "            article integer NOT NULL,\n",
    "            citation8 integer NOT NULL,\n",
    "            jelcode1 character(4),\n",
    "            jelcode2 character(4),\n",
    "            jelcode3 character(4),\n",
    "            jelcode4 character(4),\n",
    "            jelcode5 character(4),\n",
    "            jelcode6 character(4),\n",
    "            jelcode7 character(4),\n",
    "            keywords character(240),\n",
    "            \"references\" character(8910),\n",
    "            n_references integer NOT NULL,\n",
    "            n_authors integer NOT NULL,\n",
    "            title character(210) NOT NULL,\n",
    "            journal character(35) NOT NULL,\n",
    "            year integer NOT NULL,\n",
    "            issue integer NOT NULL,\n",
    "            start_page integer NOT NULL,\n",
    "            end_page integer NOT NULL,\n",
    "            abstract_scopus character(2030),\n",
    "            scival_scopus character(100),\n",
    "            pro_percentil_scopus numeric,\n",
    "            view_ref_scopus integer,\n",
    "            cit_scopus integer,\n",
    "            cit_impact_scopus numeric,\n",
    "            cit_by_scopus integer,\n",
    "            PRIMARY KEY (articles_char_id)\n",
    "        );\n",
    "```\n",
    "\n",
    "<font size=\"4\"> \n",
    "\n",
    "**3) Table with the relations between articles and their editors in charge:**\n",
    "\n",
    "<font size=\"3\"> \n",
    "\n",
    "```sql\n",
    "        CREATE TABLE public.articles_editors\n",
    "        (\n",
    "            articles_editors_id integer NOT NULL,\n",
    "            article integer NOT NULL,\n",
    "            year integer NOT NULL,\n",
    "            term integer NOT NULL,\n",
    "            incharge boolean NOT NULL,\n",
    "            editor_authorid integer,\n",
    "            PRIMARY KEY (articles_editors_id)\n",
    "        );\n",
    "```\n",
    "\n",
    "<font size=\"4\"> \n",
    "\n",
    "**4) Table with the characteristics of the authors:**\n",
    "\n",
    "<font size=\"3\"> \n",
    "\n",
    "```sql\n",
    "        CREATE TABLE public.authors_char\n",
    "        (\n",
    "            authors_char_id integer NOT NULL,\n",
    "            author integer NOT NULL,\n",
    "            male integer,\n",
    "            phd_inst character(35),\n",
    "            phd_year integer,\n",
    "            jel1_author character(1),\n",
    "            jel2_author character(1),\n",
    "            editor boolean NOT NULL,\n",
    "            PRIMARY KEY (authors_char_id)\n",
    "        );\n",
    "```\n",
    "\n",
    "<font size=\"4\"> \n",
    "\n",
    "**5) Table with the job positions of the authors each year after they graduate from grad school:**\n",
    "\n",
    "<font size=\"3\"> \n",
    "\n",
    "```sql\n",
    "        CREATE TABLE public.authors_jobs\n",
    "        (\n",
    "            authors_jobs_id integer NOT NULL,\n",
    "            author integer NOT NULL,\n",
    "            year integer,\n",
    "            faculty character(80),\n",
    "            faculty_position character(25),\n",
    "            PRIMARY KEY (authors_jobs_id)\n",
    "        );\n",
    "```\n",
    "\n",
    "\n",
    "\n"
   ]
  },
  {
   "cell_type": "markdown",
   "metadata": {},
   "source": [
    "### <span style=\"color:darkblue\">Import Information From the Provided CSV Files </span>\n",
    "\n",
    "<font size=\"4\"> \n",
    "\n",
    "- Now that the tables are created inside the database, it is time to fill up the information for each table. To do that, I use the graphical user interface.\n",
    "\n",
    "- For each table, open the table's option by right clicking on it. Then, select Import/Export... Select Import and find the table that you want in your local machine.\n",
    "\n",
    "- Note that the CSV table must have the same name as the SQL table, it must have the same type for each column, and the strings must have a maximum number of characters given by the ```character(n)```."
   ]
  },
  {
   "cell_type": "markdown",
   "metadata": {},
   "source": [
    "## <span style=\"color:darkblue\">1.2 SQL Language </span>\n",
    "\n",
    "<font size=\"4\"> \n",
    "\n",
    "- The SQL language is used to perform actions such as Create, Retrieve, Update and Delete on relational databases.\n",
    "\n",
    "- For that purpose, we use Queries. A Query is a set of instruction given to the database management system, which tells the Relational Database Management System (RDBMS) what information you would like to get from the database.\n",
    "\n",
    "- A SQL statement can be broken into three major component:\n",
    "\n",
    "        1. The SQL operation (SELECT)\n",
    "        2. The target (FROM)\n",
    "        3. The condition (WHERE, HAVING, etc)\n",
    "\n",
    "    \n",
    "\n",
    "- Only the SQL operation and target are required, the condition is optional. The most common operation in SQL, the query, makes use of the declarative SELECT statement. SELECT retrieves data from one or more tables, or expressions. "
   ]
  },
  {
   "cell_type": "markdown",
   "metadata": {},
   "source": [
    "### <span style=\"color:darkblue\">Query for Coauthors' Edges Data </span> \n",
    "\n",
    "<font size=\"3\"> \n",
    "\n",
    "```sql\n",
    "        SELECT aa1.author AS source, aa2.author AS target\n",
    "        FROM tables.articles_authors aa1\n",
    "        LEFT JOIN tables.articles_authors AS aa2\n",
    "        USING(article)\n",
    "        WHERE aa1.year <= 2000 AND aa1.article = aa1.article AND aa1.author != aa2.author\n",
    "        ORDER BY source, target;\n",
    "```\n",
    "\n",
    "### <span style=\"color:darkblue\">Query for Advisor Edges Data </span> \n",
    "\n",
    "```sql\n",
    "        WITH s AS (\n",
    "        SELECT author, phd_inst, phd_year\n",
    "        FROM tables.authors_char\n",
    "        WHERE phd_inst IS NOT NULL AND phd_year IS NOT NULL)\n",
    "\n",
    "        SELECT s1.author AS source, s2.author AS targuet\n",
    "        --INTO adjacency_matrices.samephd\n",
    "        FROM s AS s1\n",
    "        LEFT JOIN s AS s2\n",
    "        USING (phd_inst)\n",
    "        WHERE s1.author != s2.author \n",
    "        AND s1.phd_year > s2.phd_year - 4 \n",
    "        AND s1.phd_year < s2.phd_year + 4\n",
    "        AND s1.author IN (SELECT DISTINCT author FROM tables.articles_authors WHERE year <= 2000)\n",
    "        AND s2.author IN (SELECT DISTINCT author FROM tables.articles_authors WHERE year <= 2000)\n",
    "        ORDER BY s1.author, s2.author;\n",
    "```"
   ]
  },
  {
   "cell_type": "markdown",
   "metadata": {},
   "source": [
    "### <span style=\"color:darkblue\">Creating Edges Data Using ```psycopg2``` in Python </span> "
   ]
  },
  {
   "cell_type": "code",
   "execution_count": 3,
   "metadata": {},
   "outputs": [],
   "source": [
    "import psycopg2\n",
    "import pandas.io.sql as sqlio\n",
    "import networkx as nx\n",
    "from scipy import sparse"
   ]
  },
  {
   "cell_type": "code",
   "execution_count": 5,
   "metadata": {},
   "outputs": [],
   "source": [
    "def create_graph(net, year, articles, con):\n",
    "    \n",
    "    coauthors_query = (\"SELECT aa1.author AS source, aa2.author AS target \\\n",
    "                       FROM tables.articles_authors aa1 \\\n",
    "                       LEFT JOIN tables.articles_authors AS aa2 \\\n",
    "                       USING(article) \\\n",
    "                       WHERE aa1.year <= '{}' AND aa1.article = aa1.article AND aa1.author != aa2.author \\\n",
    "                       ORDER BY source, target\").format(year)\n",
    "\n",
    "    samephd_query = (\"WITH s AS (SELECT author, phd_inst, phd_year \\\n",
    "                       FROM tables.authors_char \\\n",
    "                       WHERE phd_inst IS NOT NULL AND phd_year IS NOT NULL) \\\n",
    "                       SELECT s1.author AS source, s2.author AS target \\\n",
    "                       FROM s AS s1 LEFT JOIN s AS s2 \\\n",
    "                       USING (phd_inst) \\\n",
    "                       WHERE s1.author != s2.author AND s1.phd_year > s2.phd_year - 4 AND s1.phd_year < s2.phd_year + 4 \\\n",
    "                       AND s1.author IN (SELECT DISTINCT author FROM tables.articles_authors WHERE year <= '{}') \\\n",
    "                       AND s2.author IN (SELECT DISTINCT author FROM tables.articles_authors WHERE year <= '{}') \\\n",
    "                       ORDER BY s1.author, s2.author\").format(year, year)\n",
    "\n",
    "                        \n",
    "    ph = \"author\" if articles == False else \"article\"\n",
    "                \n",
    "    nodes_query = (\"SELECT DISTINCT \" + ph + \"\\\n",
    "                  FROM tables.articles_authors \\\n",
    "                  WHERE year <= '{}' \\\n",
    "                  ORDER BY \"+ ph + \";\").format(year)\n",
    "    \n",
    "    if net == 'coauthor':\n",
    "        query_type = coauthors_query\n",
    "    else:\n",
    "        query_type = samephd_query\n",
    "    \n",
    "    articles_query = (\"WITH s AS(\"+ query_type + \") \\\n",
    "                    SELECT DISTINCT a1.article AS source, a2.article AS target \\\n",
    "                    FROM s \\\n",
    "                    LEFT JOIN tables.articles_authors AS a1 \\\n",
    "                    ON s.source = a1.author \\\n",
    "                    LEFT JOIN tables.articles_authors AS a2 \\\n",
    "                    ON s.target = a2.author \\\n",
    "                    WHERE a1.article != a2.article \\\n",
    "                    AND a1.year <= '{}' AND a2.year <= '{}' \\\n",
    "                    ORDER BY a1.article, a2.article;\").format(year, year)\n",
    "\n",
    "    edges_ca = sqlio.read_sql_query(query_type+\";\", con) if articles == False else sqlio.read_sql_query(articles_query, con)\n",
    "    nodes_ca = sqlio.read_sql_query(nodes_query, con)\n",
    "    \n",
    "    return [nodes_ca, edges_ca] "
   ]
  },
  {
   "cell_type": "code",
   "execution_count": 8,
   "metadata": {},
   "outputs": [],
   "source": [
    "con = psycopg2.connect(\n",
    "    host = '3.131.204.20',\n",
    "    database = 'g3sls',\n",
    "    user = 'jjestra',\n",
    "    password  = 'JJEslt14*')\n",
    "\n",
    "results = create_graph('coauthor', 2000, False, con)\n",
    "nodes = results[0]\n",
    "edges = results[1]\n",
    "con.close()"
   ]
  },
  {
   "cell_type": "code",
   "execution_count": 9,
   "metadata": {},
   "outputs": [
    {
     "data": {
      "text/html": [
       "<div>\n",
       "<style scoped>\n",
       "    .dataframe tbody tr th:only-of-type {\n",
       "        vertical-align: middle;\n",
       "    }\n",
       "\n",
       "    .dataframe tbody tr th {\n",
       "        vertical-align: top;\n",
       "    }\n",
       "\n",
       "    .dataframe thead th {\n",
       "        text-align: right;\n",
       "    }\n",
       "</style>\n",
       "<table border=\"1\" class=\"dataframe\">\n",
       "  <thead>\n",
       "    <tr style=\"text-align: right;\">\n",
       "      <th></th>\n",
       "      <th>source</th>\n",
       "      <th>target</th>\n",
       "    </tr>\n",
       "  </thead>\n",
       "  <tbody>\n",
       "    <tr>\n",
       "      <th>0</th>\n",
       "      <td>3</td>\n",
       "      <td>825</td>\n",
       "    </tr>\n",
       "    <tr>\n",
       "      <th>1</th>\n",
       "      <td>5</td>\n",
       "      <td>554</td>\n",
       "    </tr>\n",
       "    <tr>\n",
       "      <th>2</th>\n",
       "      <td>11</td>\n",
       "      <td>392</td>\n",
       "    </tr>\n",
       "    <tr>\n",
       "      <th>3</th>\n",
       "      <td>17</td>\n",
       "      <td>107</td>\n",
       "    </tr>\n",
       "    <tr>\n",
       "      <th>4</th>\n",
       "      <td>17</td>\n",
       "      <td>768</td>\n",
       "    </tr>\n",
       "  </tbody>\n",
       "</table>\n",
       "</div>"
      ],
      "text/plain": [
       "   source  target\n",
       "0       3     825\n",
       "1       5     554\n",
       "2      11     392\n",
       "3      17     107\n",
       "4      17     768"
      ]
     },
     "execution_count": 9,
     "metadata": {},
     "output_type": "execute_result"
    }
   ],
   "source": [
    "edges.head()"
   ]
  },
  {
   "cell_type": "markdown",
   "metadata": {},
   "source": [
    "## <span style=\"color:darkblue\">2. Basic Terms and Notation in Networks Using ```networkx``` </span>"
   ]
  },
  {
   "cell_type": "markdown",
   "metadata": {},
   "source": [
    "<font size=\"4\"> \n",
    "\n",
    "*Disclaimer:* Many of the concept in this notes are based on a presentation by Brian Graham in Annweiler-Germany 2019.\n",
    "\n",
    "\n",
    "NetworkX is a Python package for the creation, manipulation, and study of the structure, dynamics, and functions of complex networks. The basic components of the library are:\n",
    "\n",
    "- **Graph Creation:** this includes different ways to generate non-random (trees, cycles, full, etc) or random (Erdos_Renyi, Newman-Watts-Strogatz, etc) graphs.\n",
    "- **Algorithms:** includes functions to calculate statistics of the network such as centrality, clustering, components, communities, etc.\n",
    "- **Reading and writing graphs:** read/write graphs from/to other data types such as pandas, numpy, scipy, etc.\n",
    "- **Basic visualization**\n",
    "- Explore more here: https://networkx.org/documentation/stable/index.html\n",
    "\n",
    "Note that there are other packages to analyze networks that may have a better performance in terms of time to calculate commonly used algorithms. Also, different packages include different algorithms so you should take that into consideration. Here is an analysis of the performance of different network packages: https://www.timlrx.com/2019/05/05/benchmark-of-popular-graph-network-packages/#fn2"
   ]
  },
  {
   "cell_type": "markdown",
   "metadata": {},
   "source": [
    "### <span style=\"color:darkblue\">Basic Terms </span>\n",
    "\n",
    "<font size=\"4\"> \n",
    "\n",
    "An undirected graph $G(N,E)$ consists of a set of nodes $N={1,…,N}$ and a a list of unordered pairs of nodes called edges $E=\\{\\{i,j\\},\\{k,l\\},\\dots\\}$ for all $i,j,k,l \\in N$\n",
    "\n",
    "### <span style=\"color:darkblue\">Reading the data into Networkx </span>"
   ]
  },
  {
   "cell_type": "code",
   "execution_count": 10,
   "metadata": {},
   "outputs": [],
   "source": [
    "import numpy as np\n",
    "G=nx.Graph()\n",
    "G.add_nodes_from(np.squeeze(nodes.values).tolist())\n",
    "\n",
    "tuples = [tuple(x) for x in edges.to_numpy()]\n",
    "G.add_edges_from(tuples)"
   ]
  },
  {
   "cell_type": "code",
   "execution_count": 11,
   "metadata": {},
   "outputs": [
    {
     "name": "stdout",
     "output_type": "stream",
     "text": [
      "Name: \n",
      "Type: Graph\n",
      "Number of nodes: 376\n",
      "Number of edges: 225\n",
      "Average degree:   1.1968\n"
     ]
    }
   ],
   "source": [
    "print(nx.info(G))"
   ]
  },
  {
   "cell_type": "code",
   "execution_count": 12,
   "metadata": {},
   "outputs": [
    {
     "data": {
      "text/plain": [
       "[3, 5, 11, 17, 23, 24, 25, 29, 31, 32, 52, 53, 54, 66, 73, 96, 97, 103, 107]"
      ]
     },
     "execution_count": 12,
     "metadata": {},
     "output_type": "execute_result"
    }
   ],
   "source": [
    "list(G.nodes())[0:19]"
   ]
  },
  {
   "cell_type": "code",
   "execution_count": 13,
   "metadata": {},
   "outputs": [
    {
     "data": {
      "text/plain": [
       "[(3, 825),\n",
       " (5, 554),\n",
       " (11, 392),\n",
       " (17, 107),\n",
       " (17, 768),\n",
       " (17, 843),\n",
       " (29, 503),\n",
       " (29, 522),\n",
       " (29, 1675),\n",
       " (31, 1843),\n",
       " (32, 1912),\n",
       " (53, 925),\n",
       " (66, 662),\n",
       " (73, 1718),\n",
       " (96, 868),\n",
       " (103, 1762),\n",
       " (107, 768),\n",
       " (107, 843),\n",
       " (116, 1432)]"
      ]
     },
     "execution_count": 13,
     "metadata": {},
     "output_type": "execute_result"
    }
   ],
   "source": [
    "list(G.edges())[0:19]"
   ]
  },
  {
   "cell_type": "markdown",
   "metadata": {},
   "source": [
    "### <span style=\"color:darkblue\">Network Visualization Using Python </span>\n",
    "\n",
    "The following visualization will be created the ```plotly``` Python library. It is an interactive plotting library that support interactive web-based visualizations built on top of the JavaScript library plotly.js. This type of network visualization is particularly good when it is used along with Jupyter Notebooks to be able to display the stand alone HTML files.\n",
    "\n",
    "For the next visualization and the study of the network statistics, I will remove the isolated nodes (this is optional but the network graph looks more clear this way)."
   ]
  },
  {
   "cell_type": "code",
   "execution_count": 14,
   "metadata": {},
   "outputs": [],
   "source": [
    "G.remove_nodes_from(list(nx.isolates(G)))"
   ]
  },
  {
   "cell_type": "code",
   "execution_count": 15,
   "metadata": {},
   "outputs": [
    {
     "name": "stdout",
     "output_type": "stream",
     "text": [
      "Name: \n",
      "Type: Graph\n",
      "Number of nodes: 303\n",
      "Number of edges: 225\n",
      "Average degree:   1.4851\n"
     ]
    }
   ],
   "source": [
    "print(nx.info(G))"
   ]
  },
  {
   "cell_type": "markdown",
   "metadata": {},
   "source": [
    "<font size=\"4\"> \n",
    "\n",
    "***Step 1:*** add the position attribute to the nodes using ```networkx```. To create a position, I will use the random layout of the ```netwokrx``` package.\n",
    "\n",
    "Other options for layouts:\n",
    "\n",
    "- circular_layout\n",
    "\n",
    "- shell_layout\n",
    "\n",
    "- spring_layout\n",
    "\n",
    "- spectral_layout"
   ]
  },
  {
   "cell_type": "code",
   "execution_count": 16,
   "metadata": {},
   "outputs": [],
   "source": [
    "pos = nx.spring_layout(G, scale = 20, iterations = 15)\n",
    "nx.set_node_attributes(G, pos, 'pos')"
   ]
  },
  {
   "cell_type": "markdown",
   "metadata": {},
   "source": [
    "<font size=\"4\"> \n",
    "\n",
    "**Step 2:** Use the positions created in the previous step along with the ```Scatter``` function of ```plotly``` to create the objects with the edges and nodes positioned in a 2 dimensional space. There are other options that are used from the ```Scatter``` function:\n",
    "\n",
    "- line: create lines of with 0.5 and color gray ('#888')\n",
    "\n",
    "- mode: draws lines for the edges and markers for the nodes\n",
    "\n",
    "- marker: defines nodes characteristics such as color, color scale, title of the color scale and position\n",
    "\n",
    "Some options for colors are:\n",
    "\n",
    "- 'Greys'\n",
    "- 'YlGnBu'\n",
    "- 'Greens'\n",
    "- 'YlOrRd'\n",
    "- 'Bluered'\n",
    "- 'RdBu'\n",
    "- 'Reds'\n",
    "- 'Blues'\n",
    "- 'Picnic'\n",
    "- 'Rainbow'\n",
    "- 'Portland'\n",
    "- 'Jet'\n",
    "- 'Hot'\n",
    "- 'Blackbody'\n",
    "- 'Earth'\n",
    "- 'Electric'\n",
    "- 'Viridis'"
   ]
  },
  {
   "cell_type": "code",
   "execution_count": 17,
   "metadata": {},
   "outputs": [],
   "source": [
    "import plotly.graph_objects as go\n",
    "\n",
    "# Add edges as disconnected lines in 2d space\n",
    "\n",
    "edge_x = []\n",
    "edge_y = []\n",
    "\n",
    "for edge in G.edges():\n",
    "    x0, y0 = G.nodes[edge[0]]['pos']\n",
    "    x1, y1 = G.nodes[edge[1]]['pos']\n",
    "    edge_x.append(x0)\n",
    "    edge_x.append(x1)\n",
    "    edge_x.append(None)\n",
    "    edge_y.append(y0)\n",
    "    edge_y.append(y1)\n",
    "    edge_y.append(None)\n",
    "    \n",
    "edge_trace = go.Scatter(\n",
    "    x=edge_x, y=edge_y,\n",
    "    line=dict(width=0.5, color='#888'),\n",
    "    hoverinfo='none',\n",
    "    mode='lines')\n",
    "\n",
    "node_x = []\n",
    "node_y = []\n",
    "for node in G.nodes():\n",
    "    x, y = G.nodes[node]['pos']\n",
    "    node_x.append(x)\n",
    "    node_y.append(y)\n",
    "\n",
    "node_trace = go.Scatter(\n",
    "    x=node_x, y=node_y,\n",
    "    mode='markers',\n",
    "    hoverinfo='text',\n",
    "    marker=dict(\n",
    "        showscale=True,\n",
    "        colorscale='YlGnBu',\n",
    "        reversescale=True,\n",
    "        color=[],\n",
    "        size=10,\n",
    "        colorbar=dict(\n",
    "            thickness=15,\n",
    "            title='Node Connections',\n",
    "            xanchor='left',\n",
    "            titleside='right'\n",
    "        ),\n",
    "        line_width=2))"
   ]
  },
  {
   "cell_type": "markdown",
   "metadata": {},
   "source": [
    "<font size=\"4\"> \n",
    "\n",
    "**Step 3:** create the scale that the graph will use. In this case, we will be working with the number of connections."
   ]
  },
  {
   "cell_type": "code",
   "execution_count": 18,
   "metadata": {},
   "outputs": [],
   "source": [
    "node_adjacencies = []\n",
    "node_text = []\n",
    "for node, adjacencies in enumerate(G.adjacency()):\n",
    "    node_adjacencies.append(len(adjacencies[1]))\n",
    "    node_text.append('# of connections: '+str(len(adjacencies[1])))\n",
    "\n",
    "node_trace.marker.color = node_adjacencies\n",
    "node_trace.text = node_text"
   ]
  },
  {
   "cell_type": "code",
   "execution_count": 19,
   "metadata": {},
   "outputs": [
    {
     "data": {
      "application/vnd.plotly.v1+json": {
       "config": {
        "plotlyServerURL": "https://plot.ly"
       },
       "data": [
        {
         "hoverinfo": "none",
         "line": {
          "color": "#888",
          "width": 0.5
         },
         "mode": "lines",
         "type": "scatter",
         "x": [
          15.867877738370574,
          13.373147690141133,
          null,
          15.614848807927274,
          13.822706253401593,
          null,
          -1.817524351101381,
          -1.469906297381892,
          null,
          13.360823781777993,
          13.998305853665173,
          null,
          13.360823781777993,
          11.131139837528393,
          null,
          13.360823781777993,
          13.69348799905424,
          null,
          5.357436159929531,
          6.655519062026533,
          null,
          5.357436159929531,
          5.765320128141253,
          null,
          5.357436159929531,
          4.937774879791031,
          null,
          3.7697357242830765,
          2.4481199305832,
          null,
          -9.159345724008972,
          -10.695799131878726,
          null,
          3.3638004319479786,
          4.150953271268343,
          null,
          2.554993539890571,
          1.1620424668576603,
          null,
          -6.266275843122564,
          -5.320800507685788,
          null,
          11.550805836314904,
          11.529346057942869,
          null,
          7.255003383937352,
          7.953082366660992,
          null,
          13.998305853665173,
          11.131139837528393,
          null,
          13.998305853665173,
          13.69348799905424,
          null,
          0.5091773588200308,
          -0.5638336714942278,
          null,
          -0.37554016292963205,
          0.41028930812765463,
          null,
          14.293911596108638,
          13.851432188995808,
          null,
          14.293911596108638,
          11.586280472925578,
          null,
          -1.2553807600782054,
          -2.0524815399338925,
          null,
          -1.2553807600782054,
          -0.5608442472138632,
          null,
          13.423143800781988,
          13.073073075797005,
          null,
          13.423143800781988,
          12.2623257507538,
          null,
          -11.642628701498282,
          -11.097207332815916,
          null,
          -6.4471904867365435,
          -7.178355052773679,
          null,
          -6.4471904867365435,
          -6.889079891260615,
          null,
          13.851432188995808,
          11.586280472925578,
          null,
          -7.761798025593902,
          -7.427005407445968,
          null,
          -7.761798025593902,
          -7.223643215860952,
          null,
          -10.250145026888028,
          -9.340234894264627,
          null,
          3.3717103367846653,
          4.1257360736011535,
          null,
          12.038425783735363,
          10.232954491355065,
          null,
          -12.291756093813694,
          -14.356069364803107,
          null,
          0.4371848376291157,
          0.9640881891669596,
          null,
          0.4371848376291157,
          0.812172664125296,
          null,
          6.938546204711415,
          8.084942930057368,
          null,
          -7.180026948057083,
          -7.526350125996726,
          null,
          16.35613005743415,
          13.68216662409652,
          null,
          10.197905078063782,
          11.0420992326932,
          null,
          10.197905078063782,
          12.108245543229554,
          null,
          -12.637537875140751,
          -12.638260536518088,
          null,
          -12.576322965975237,
          -11.395525410207856,
          null,
          -16.411653220285682,
          -13.656078159142838,
          null,
          9.697999802767253,
          9.29505746115757,
          null,
          9.697999802767253,
          8.638829826972973,
          null,
          9.697999802767253,
          10.204291977040931,
          null,
          -3.1762962971901514,
          -3.6413186989368835,
          null,
          -3.1762962971901514,
          -3.8167867632614927,
          null,
          -9.778668153116927,
          -8.099511785557851,
          null,
          -9.778668153116927,
          -8.543531690423075,
          null,
          11.0420992326932,
          12.108245543229554,
          null,
          -0.41994283054569853,
          -0.06442751138469635,
          null,
          4.177118851460853,
          4.423035931454949,
          null,
          -9.87677820932256,
          -10.851407059953074,
          null,
          -9.87677820932256,
          -10.662861701210018,
          null,
          -9.87677820932256,
          -10.867536956938913,
          null,
          -10.851407059953074,
          -10.662861701210018,
          null,
          -10.851407059953074,
          -10.867536956938913,
          null,
          -13.385556570260505,
          -15.478605422085774,
          null,
          0.6730370279666192,
          -1.1924778748016032,
          null,
          0.6730370279666192,
          2.4481199305832,
          null,
          -8.325349952067295,
          -9.602745096873406,
          null,
          -8.325349952067295,
          -8.910949907006845,
          null,
          11.642611861342349,
          13.93816394932184,
          null,
          9.29505746115757,
          8.638829826972973,
          null,
          9.29505746115757,
          10.204291977040931,
          null,
          18.11770244332921,
          20,
          null,
          0.9640881891669596,
          0.812172664125296,
          null,
          0.9640881891669596,
          1.932550282454101,
          null,
          -7.916844290824985,
          -8.769992214759688,
          null,
          -8.099511785557851,
          -8.543531690423075,
          null,
          -8.099511785557851,
          -6.404679912047886,
          null,
          10.214889175786032,
          11.131700411483953,
          null,
          8.380082875993276,
          8.02522526377424,
          null,
          -2.0488944910969273,
          -2.412724791571473,
          null,
          -2.0488944910969273,
          -1.7610079528890243,
          null,
          -0.14864509501118872,
          -1.3682569262474287,
          null,
          -3.1352731605308675,
          -2.0524815399338925,
          null,
          4.8149339127956,
          3.645140834880136,
          null,
          -12.52464194146931,
          -14.006222715900181,
          null,
          -4.615831526679463,
          -3.8981690945186656,
          null,
          -8.38965306670246,
          -6.7018245698295615,
          null,
          -7.006245944394164,
          -5.808584082793665,
          null,
          -0.5984180407599781,
          1.1532702673526214,
          null,
          8.638829826972973,
          10.204291977040931,
          null,
          -8.702851487143926,
          -10.668033813287204,
          null,
          -15.6975604682089,
          -15.11170040865396,
          null,
          -15.6975604682089,
          -13.578777845274082,
          null,
          -9.62282747872145,
          -10.532168033602508,
          null,
          -9.62282747872145,
          -11.193523132054874,
          null,
          -4.452596221801608,
          -3.5153486083019576,
          null,
          5.765320128141253,
          4.937774879791031,
          null,
          4.757456903279179,
          3.6330355235080174,
          null,
          9.631625549040567,
          8.888177962815792,
          null,
          -9.377042792977933,
          -10.628186255524655,
          null,
          -3.782383547713653,
          -4.172630723705209,
          null,
          -3.782383547713653,
          -3.260127766964263,
          null,
          10.61127483713772,
          11.23768565526129,
          null,
          10.61127483713772,
          12.452066215262874,
          null,
          -2.0524815399338925,
          -0.5608442472138632,
          null,
          -0.5721218910707966,
          -1.5345561576863127,
          null,
          -8.205138921211315,
          -9.403028382569948,
          null,
          12.179226163630725,
          13.373147690141133,
          null,
          8.324009757323113,
          9.147635102864536,
          null,
          6.3667836778796865,
          6.706381211415326,
          null,
          -7.718161120428439,
          -6.787789282784066,
          null,
          -7.718161120428439,
          -7.938486592087713,
          null,
          -0.5608442472138632,
          1.1620424668576603,
          null,
          19.03743648913115,
          18.695996138582093,
          null,
          13.073073075797005,
          12.2623257507538,
          null,
          8.918472050373929,
          8.711053735137671,
          null,
          8.918472050373929,
          10.572677808907725,
          null,
          8.918472050373929,
          7.29172940853725,
          null,
          8.918472050373929,
          9.878681689933579,
          null,
          12.841090716726157,
          10.715272781823714,
          null,
          4.847549179616687,
          5.916694711719603,
          null,
          4.847549179616687,
          5.111774910912323,
          null,
          4.847549179616687,
          5.403436122544261,
          null,
          8.711053735137671,
          7.29172940853725,
          null,
          12.930043545070697,
          12.93735329520173,
          null,
          -15.810156222226844,
          -15.413273010680559,
          null,
          -0.6407441898017845,
          -1.8312106394534806,
          null,
          -8.511086143247159,
          -9.882669499899507,
          null,
          4.524797578985884,
          5.303435512705568,
          null,
          1.5450085302530474,
          1.909590338757493,
          null,
          1.5450085302530474,
          1.1532702673526214,
          null,
          -12.231878707877774,
          -12.427111599877847,
          null,
          -4.3028651859575175,
          -4.95792652451278,
          null,
          -10.532168033602508,
          -11.193523132054874,
          null,
          11.131139837528393,
          13.69348799905424,
          null,
          7.148646997178318,
          6.647915344877376,
          null,
          -14.12862313046605,
          -15.07947255703726,
          null,
          -6.863866393789545,
          -8.28811607489745,
          null,
          -6.863866393789545,
          -6.549235566402779,
          null,
          13.709988811417643,
          13.977391113313432,
          null,
          13.709988811417643,
          13.19652771709696,
          null,
          13.469386431359991,
          11.470348723995459,
          null,
          -1.1924778748016032,
          -2.6638764756813487,
          null,
          2.3264099111942254,
          3.168222348156852,
          null,
          -13.087096323156166,
          -12.508551039538588,
          null,
          -1.1861877904794704,
          -2.226456980550841,
          null,
          -1.1861877904794704,
          -1.6766472455289232,
          null,
          -1.1861877904794704,
          -1.7663818662689625,
          null,
          13.977391113313432,
          13.19652771709696,
          null,
          -11.272652954618794,
          -14.290158624122919,
          null,
          -0.7854390241169774,
          -2.1564745327830618e-7,
          null,
          -2.226456980550841,
          -1.6766472455289232,
          null,
          -2.226456980550841,
          -1.7663818662689625,
          null,
          -8.946572405813848,
          -7.0530911059610695,
          null,
          -11.725607706169887,
          -12.825375033716924,
          null,
          -11.725607706169887,
          -11.386062248963169,
          null,
          -0.004645945216598329,
          0.525582642398183,
          null,
          -0.004645945216598329,
          -0.4736377226348091,
          null,
          9.255455966174857,
          11.358750742178223,
          null,
          13.526402914889443,
          14.697705522270326,
          null,
          0.7733066575934655,
          0.2198151895090014,
          null,
          0.7733066575934655,
          0.06649094930532526,
          null,
          -14.129742688546221,
          -16.079147331700913,
          null,
          -6.787789282784066,
          -7.938486592087713,
          null,
          -12.491441135799162,
          -12.251994183933977,
          null,
          -12.491441135799162,
          -11.270197519871557,
          null,
          2.938310629801661,
          2.524635183635194,
          null,
          -12.251994183933977,
          -11.270197519871557,
          null,
          -2.1912448883443014,
          -1.8051941162675607,
          null,
          8.5182385975148,
          9.468331653982105,
          null,
          8.5182385975148,
          9.141671761986801,
          null,
          4.300912486538035,
          5.167762501943877,
          null,
          11.750124764927836,
          11.84454752111239,
          null,
          11.750124764927836,
          9.925590950381908,
          null,
          5.916694711719603,
          5.111774910912323,
          null,
          5.916694711719603,
          5.403436122544261,
          null,
          -4.172630723705209,
          -3.260127766964263,
          null,
          -4.472846901478726,
          -3.8985968086486897,
          null,
          -4.472846901478726,
          -4.938955571831671,
          null,
          -9.602745096873406,
          -8.910949907006845,
          null,
          -10.662861701210018,
          -10.867536956938913,
          null,
          0.2198151895090014,
          0.06649094930532526,
          null,
          -5.797347379965798,
          -7.396751505346909,
          null,
          -3.8985968086486897,
          -4.938955571831671,
          null,
          10.572677808907725,
          9.878681689933579,
          null,
          5.111774910912323,
          5.403436122544261,
          null,
          11.15102523983993,
          12.401275905156435,
          null,
          9.233521185964763,
          10.231437645013713,
          null,
          9.233521185964763,
          9.157001040684918,
          null,
          -17.029413114042647,
          -14.392469688821157,
          null,
          -17.029413114042647,
          -17.477642541206702,
          null,
          8.958224190068737,
          7.59986289176979,
          null,
          9.693582711911992,
          8.763700939317156,
          null,
          11.23768565526129,
          12.452066215262874,
          null,
          11.470348723995459,
          13.576054869057717,
          null,
          11.84454752111239,
          9.925590950381908,
          null,
          10.231437645013713,
          9.157001040684918,
          null,
          -1.0033460705194208,
          0.3226299128076208,
          null,
          -2.412724791571473,
          -1.7610079528890243,
          null,
          -12.825375033716924,
          -11.386062248963169,
          null,
          -1.6766472455289232,
          -1.7663818662689625,
          null,
          -13.40138248833807,
          -13.176640149811547,
          null,
          -7.178355052773679,
          -6.889079891260615,
          null,
          2.940906263070278,
          2.064969490320098,
          null,
          2.940906263070278,
          2.456138402420057,
          null,
          0.525582642398183,
          -0.4736377226348091,
          null,
          1.909590338757493,
          1.1532702673526214,
          null,
          -6.404679912047886,
          -7.713719943235071,
          null,
          -8.995802841678909,
          -7.5943770077318105,
          null,
          -0.05372416593058899,
          0.8562771152534548,
          null,
          -10.179886674031728,
          -8.964994309263847,
          null,
          -15.11170040865396,
          -13.578777845274082,
          null,
          -12.536331495280209,
          -13.49240043456681,
          null,
          -3.6413186989368835,
          -3.8167867632614927,
          null,
          2.064969490320098,
          2.456138402420057,
          null,
          -5.635196337339919,
          -4.490275164048018,
          null,
          -4.373199099039547,
          -4.9179327433959745,
          null,
          -4.373199099039547,
          -4.064035842919269,
          null,
          -0.0943753290976863,
          -1.2014372049072983,
          null,
          -4.9179327433959745,
          -4.064035842919269,
          null,
          9.468331653982105,
          9.141671761986801,
          null,
          -8.003920176277656,
          -6.873313320637995,
          null,
          2.9738761434960463,
          3.2566855058861304,
          null,
          5.677146130165732,
          5.695990939794696,
          null,
          5.479327737188475,
          5.2595813327153325,
          null,
          2.125447953173274,
          2.75366721977862,
          null,
          13.319392404983821,
          11.998751264137404,
          null
         ],
         "y": [
          -4.684334893398407,
          -4.141093316906268,
          null,
          9.452032892410424,
          8.34385182633825,
          null,
          -9.578534904825911,
          -8.908683945155884,
          null,
          1.5807983846002025,
          1.5604997631917101,
          null,
          1.5807983846002025,
          1.5436371977673742,
          null,
          1.5807983846002025,
          2.0115726584322884,
          null,
          5.138585006012164,
          5.092654073294848,
          null,
          5.138585006012164,
          6.276897357789639,
          null,
          5.138585006012164,
          5.9733459678364484,
          null,
          3.763393092917425,
          3.6972254287543516,
          null,
          7.366716545065127,
          8.305309085676752,
          null,
          -14.241584865208736,
          -16.480425048735313,
          null,
          6.347386319831772,
          5.075338890736895,
          null,
          -16.6774882166278,
          -16.674741192495144,
          null,
          -12.006243972264175,
          -13.264338041041142,
          null,
          1.5642048695352362,
          2.175147836587535,
          null,
          1.5604997631917101,
          1.5436371977673742,
          null,
          1.5604997631917101,
          2.0115726584322884,
          null,
          10.29213525336052,
          10.798503743670418,
          null,
          14.819153726176452,
          17.349118998408475,
          null,
          -0.40308154135010726,
          -0.7011802994691853,
          null,
          -0.40308154135010726,
          -0.29444729221426824,
          null,
          2.242885222055112,
          1.5507745394044408,
          null,
          2.242885222055112,
          3.0462927687663335,
          null,
          -1.7224379163460946,
          -0.9788273958254476,
          null,
          -1.7224379163460946,
          -1.287999014002014,
          null,
          -7.823471454846788,
          -6.523025448212349,
          null,
          7.845503437144776,
          8.025599318010222,
          null,
          7.845503437144776,
          7.215034108370458,
          null,
          -0.7011802994691853,
          -0.29444729221426824,
          null,
          -6.636282022696841,
          -5.4859141757277206,
          null,
          -6.636282022696841,
          -7.48210403128015,
          null,
          -4.098664588316187,
          -3.3585668103351987,
          null,
          -8.443145686714777,
          -9.006696680293715,
          null,
          -12.732148613835085,
          -11.460077551495122,
          null,
          -2.750830407281801,
          -2.5857404447560093,
          null,
          12.968964935689115,
          14.13253275680072,
          null,
          12.968964935689115,
          14.867873743319974,
          null,
          -11.22753320677863,
          -12.786824092073553,
          null,
          15.673240925928047,
          14.68764146962392,
          null,
          6.59652258199069,
          5.647417039442196,
          null,
          -3.3678811618983073,
          -3.9550345362685513,
          null,
          -3.3678811618983073,
          -4.216046481428898,
          null,
          2.165313504793722,
          3.2055518109080063,
          null,
          -0.07392868661526827,
          -1.3662872678029998,
          null,
          -5.802796681311368,
          -5.039007932810202,
          null,
          -0.8299336159711997,
          -1.9083906064659117,
          null,
          -0.8299336159711997,
          -1.0184551180897279,
          null,
          -0.8299336159711997,
          -1.3869938755953681,
          null,
          -9.153713751529756,
          -10.842636724048067,
          null,
          -9.153713751529756,
          -10.114704505977361,
          null,
          7.690923728018259,
          7.570915904473235,
          null,
          7.690923728018259,
          6.494865070725901,
          null,
          -3.9550345362685513,
          -4.216046481428898,
          null,
          12.4030201421359,
          13.809068830511134,
          null,
          11.157846894697785,
          9.905475771998992,
          null,
          4.198920760964466,
          4.758285712524743,
          null,
          4.198920760964466,
          5.24837243625951,
          null,
          4.198920760964466,
          4.22592390286975,
          null,
          4.758285712524743,
          5.24837243625951,
          null,
          4.758285712524743,
          4.22592390286975,
          null,
          2.077934375885506,
          1.7462174107192023,
          null,
          3.612812063664632,
          3.7920766515168243,
          null,
          3.612812063664632,
          3.6972254287543516,
          null,
          4.181376200257082,
          4.943748238391414,
          null,
          4.181376200257082,
          3.8057069055167676,
          null,
          -5.203060419192977,
          -6.1376523499830835,
          null,
          -1.9083906064659117,
          -1.0184551180897279,
          null,
          -1.9083906064659117,
          -1.3869938755953681,
          null,
          -0.5315215159083739,
          -0.5879757191486379,
          null,
          14.13253275680072,
          14.867873743319974,
          null,
          14.13253275680072,
          15.228848488250927,
          null,
          17.060192187358744,
          16.133894542697146,
          null,
          7.570915904473235,
          6.494865070725901,
          null,
          7.570915904473235,
          8.471078748989035,
          null,
          14.130458188319198,
          13.911996010188087,
          null,
          -18.157713835130988,
          -16.82206742995098,
          null,
          12.210323725749081,
          14.238721391377704,
          null,
          12.210323725749081,
          13.027795308245507,
          null,
          10.842013007833826,
          11.08367774786418,
          null,
          0.5924225277862054,
          1.5507745394044408,
          null,
          11.066591802946869,
          9.883366959929521,
          null,
          -13.26044770600937,
          -14.649864165130504,
          null,
          14.395199938873732,
          12.330947050557471,
          null,
          17.225307965267866,
          17.278743020334403,
          null,
          17.270421582063893,
          15.679913527472005,
          null,
          -12.028145177867938,
          -12.650654218904158,
          null,
          -1.0184551180897279,
          -1.3869938755953681,
          null,
          1.9477657022416845,
          2.423941895162327,
          null,
          -8.128395704018972,
          -8.435813367945354,
          null,
          -8.128395704018972,
          -7.36485409006818,
          null,
          9.715576438729496,
          9.812173989067636,
          null,
          9.715576438729496,
          10.74348821091802,
          null,
          13.153128883461237,
          11.52402525047645,
          null,
          6.276897357789639,
          5.9733459678364484,
          null,
          -12.99317176386661,
          -10.799966988763929,
          null,
          5.491193132486643,
          5.547408099315622,
          null,
          -15.713799802215592,
          -16.453089460742827,
          null,
          6.848918181601417,
          6.1797340845225674,
          null,
          6.848918181601417,
          5.569042803995048,
          null,
          4.358972690155164,
          4.224548346259251,
          null,
          4.358972690155164,
          5.184710211469796,
          null,
          1.5507745394044408,
          3.0462927687663335,
          null,
          17.286541860636984,
          17.694947588648244,
          null,
          0.27732749629679004,
          0.5083305869632613,
          null,
          -5.175558726795712,
          -4.141093316906268,
          null,
          17.925047248749973,
          19.295363351365598,
          null,
          -8.038175312403283,
          -7.131056761678939,
          null,
          -9.759660345781255,
          -9.161947324677461,
          null,
          -9.759660345781255,
          -10.487699351653847,
          null,
          3.0462927687663335,
          5.075338890736895,
          null,
          3.6271512901449543,
          2.7096931168407625,
          null,
          -0.9788273958254476,
          -1.287999014002014,
          null,
          -6.937703364658461,
          -5.983520397991783,
          null,
          -6.937703364658461,
          -8.705315039594783,
          null,
          -6.937703364658461,
          -4.768166609978841,
          null,
          -6.937703364658461,
          -8.584230102934852,
          null,
          -7.823950869591167,
          -6.529516448884707,
          null,
          -5.987405014778308,
          -6.307140976693748,
          null,
          -5.987405014778308,
          -6.8825764083786725,
          null,
          -5.987405014778308,
          -6.3147021857177945,
          null,
          -5.983520397991783,
          -4.768166609978841,
          null,
          -3.003816622358493,
          -4.001043425941625,
          null,
          0.792270704722119,
          2.1084284581017765,
          null,
          17.810249884795,
          18.30575446487509,
          null,
          -14.881959148305613,
          -15.376270950244027,
          null,
          13.44431046464842,
          14.67381346400268,
          null,
          -15.247379823924692,
          -14.61816738600873,
          null,
          -15.247379823924692,
          -12.650654218904158,
          null,
          0.982774785765685,
          -0.26652406155361436,
          null,
          -9.002738387971169,
          -10.487057048959633,
          null,
          9.812173989067636,
          10.74348821091802,
          null,
          1.5436371977673742,
          2.0115726584322884,
          null,
          11.09396686866753,
          9.826918860328316,
          null,
          4.845924124429788,
          5.639841812870309,
          null,
          -12.258462877542007,
          -11.90737312453474,
          null,
          -12.258462877542007,
          -13.655326691713922,
          null,
          3.259183969881925,
          2.784800303549064,
          null,
          3.259183969881925,
          2.493768830076494,
          null,
          3.6766758225260827,
          2.0486543458603474,
          null,
          3.7920766515168243,
          3.9335454584212353,
          null,
          -1.1596247957965085,
          -0.948440475233665,
          null,
          -6.205098897282181,
          -5.189566676088002,
          null,
          -4.265502673383322,
          -4.3536716984187365,
          null,
          -4.265502673383322,
          -4.775406365855459,
          null,
          -4.265502673383322,
          -3.8119421343043673,
          null,
          2.784800303549064,
          2.493768830076494,
          null,
          -0.7563575552077862,
          -0.711221700142123,
          null,
          -11.582905379953527,
          -10.276288715415914,
          null,
          -4.3536716984187365,
          -4.775406365855459,
          null,
          -4.3536716984187365,
          -3.8119421343043673,
          null,
          11.90684910568982,
          9.943179372859833,
          null,
          -8.764235364113494,
          -9.809319206759811,
          null,
          -8.764235364113494,
          -9.369696889873916,
          null,
          -18.182664147045895,
          -17.637969258711824,
          null,
          -18.182664147045895,
          -17.509155228472594,
          null,
          -1.5514622813684447,
          -2.1881086114209904,
          null,
          9.166650910408427,
          8.747713914789712,
          null,
          -12.134906619761402,
          -13.819177881371823,
          null,
          -12.134906619761402,
          -12.459865850932786,
          null,
          -3.2888006626581148,
          -3.550593090442867,
          null,
          -9.161947324677461,
          -10.487699351653847,
          null,
          -6.445388595510911,
          -7.088355948671021,
          null,
          -6.445388595510911,
          -6.807657622821742,
          null,
          8.42316659297526,
          7.7368573259613145,
          null,
          -7.088355948671021,
          -6.807657622821742,
          null,
          -17.017949923904172,
          -14.999743016047406,
          null,
          8.274280564617456,
          8.539111935086666,
          null,
          8.274280564617456,
          7.796606691311653,
          null,
          17.73434615985364,
          18.179073188098055,
          null,
          -8.280556174435597,
          -8.923248826335875,
          null,
          -8.280556174435597,
          -7.310111416217086,
          null,
          -6.307140976693748,
          -6.8825764083786725,
          null,
          -6.307140976693748,
          -6.3147021857177945,
          null,
          6.1797340845225674,
          5.569042803995048,
          null,
          9.712489300366247,
          10.012025631907465,
          null,
          9.712489300366247,
          11.053297867417657,
          null,
          4.943748238391414,
          3.8057069055167676,
          null,
          5.24837243625951,
          4.22592390286975,
          null,
          -13.819177881371823,
          -12.459865850932786,
          null,
          11.352443711828055,
          13.33492049872433,
          null,
          10.012025631907465,
          11.053297867417657,
          null,
          -8.705315039594783,
          -8.584230102934852,
          null,
          -6.8825764083786725,
          -6.3147021857177945,
          null,
          7.668319454040709,
          8.116903351697454,
          null,
          11.599155542396707,
          12.182302733622523,
          null,
          11.599155542396707,
          10.757997344134317,
          null,
          4.612846599465511,
          3.3775888296928946,
          null,
          4.612846599465511,
          5.905458451622412,
          null,
          14.63778518022294,
          12.17156734891039,
          null,
          -13.852136131155472,
          -13.64452192538544,
          null,
          4.224548346259251,
          5.184710211469796,
          null,
          2.0486543458603474,
          1.0563117519594516,
          null,
          -8.923248826335875,
          -7.310111416217086,
          null,
          12.182302733622523,
          10.757997344134317,
          null,
          16.225526275507757,
          16.28176235109842,
          null,
          14.238721391377704,
          13.027795308245507,
          null,
          -9.809319206759811,
          -9.369696889873916,
          null,
          -4.775406365855459,
          -3.8119421343043673,
          null,
          -1.3501427019023744,
          -2.216515888721073,
          null,
          8.025599318010222,
          7.215034108370458,
          null,
          12.44649955339369,
          11.205953570935488,
          null,
          12.44649955339369,
          12.836839278989416,
          null,
          -17.637969258711824,
          -17.509155228472594,
          null,
          -14.61816738600873,
          -12.650654218904158,
          null,
          8.471078748989035,
          10.307690223431733,
          null,
          -14.114150916345361,
          -12.548284339591005,
          null,
          -15.533815080075376,
          -16.196924620624088,
          null,
          -0.40514839854982987,
          -0.8057713503701733,
          null,
          -8.435813367945354,
          -7.36485409006818,
          null,
          -11.270941843311158,
          -11.10690147467965,
          null,
          -10.842636724048067,
          -10.114704505977361,
          null,
          11.205953570935488,
          12.836839278989416,
          null,
          -7.994783978667181,
          -6.730436756908454,
          null,
          -15.507508357933677,
          -14.900199325256896,
          null,
          -15.507508357933677,
          -14.58252226477927,
          null,
          -11.231962028578039,
          -10.81120444527955,
          null,
          -14.900199325256896,
          -14.58252226477927,
          null,
          8.539111935086666,
          7.796606691311653,
          null,
          -3.5393886217277983,
          -2.8163329643734523,
          null,
          -12.855506670735652,
          -11.892306823611229,
          null,
          -14.124024765540572,
          -15.737961465651232,
          null,
          -12.720746205148727,
          -14.276466237827945,
          null,
          -13.72563324930271,
          -16.058423830792876,
          null,
          11.067963564059012,
          10.225113805223065,
          null
         ]
        },
        {
         "hoverinfo": "text",
         "marker": {
          "color": [
           1,
           1,
           1,
           3,
           3,
           1,
           1,
           1,
           1,
           1,
           1,
           1,
           3,
           1,
           1,
           2,
           2,
           2,
           1,
           2,
           2,
           2,
           1,
           1,
           1,
           1,
           2,
           1,
           1,
           1,
           1,
           2,
           1,
           1,
           1,
           3,
           2,
           2,
           2,
           1,
           1,
           1,
           3,
           3,
           1,
           2,
           2,
           1,
           1,
           1,
           3,
           1,
           1,
           3,
           1,
           3,
           1,
           1,
           1,
           2,
           1,
           1,
           1,
           1,
           1,
           1,
           1,
           1,
           1,
           1,
           3,
           1,
           1,
           1,
           2,
           2,
           1,
           2,
           1,
           1,
           1,
           1,
           2,
           2,
           1,
           3,
           1,
           1,
           1,
           1,
           1,
           1,
           2,
           1,
           3,
           1,
           2,
           4,
           1,
           3,
           2,
           1,
           2,
           1,
           1,
           1,
           1,
           1,
           1,
           2,
           1,
           1,
           1,
           2,
           3,
           1,
           1,
           2,
           2,
           1,
           2,
           1,
           1,
           3,
           2,
           2,
           2,
           1,
           1,
           3,
           1,
           1,
           3,
           1,
           2,
           1,
           2,
           1,
           1,
           2,
           1,
           2,
           1,
           2,
           1,
           2,
           1,
           1,
           1,
           2,
           1,
           2,
           1,
           1,
           1,
           1,
           2,
           3,
           1,
           3,
           2,
           2,
           2,
           1,
           3,
           2,
           1,
           1,
           2,
           2,
           1,
           2,
           1,
           2,
           3,
           1,
           2,
           2,
           1,
           1,
           1,
           2,
           1,
           2,
           2,
           2,
           1,
           2,
           2,
           1,
           2,
           1,
           1,
           3,
           2,
           2,
           3,
           1,
           2,
           1,
           1,
           1,
           1,
           1,
           1,
           2,
           3,
           2,
           2,
           2,
           2,
           1,
           1,
           1,
           1,
           1,
           1,
           2,
           3,
           1,
           1,
           1,
           1,
           2,
           1,
           1,
           2,
           1,
           2,
           2,
           1,
           1,
           1,
           2,
           1,
           1,
           2,
           2,
           2,
           1,
           1,
           1,
           1,
           2,
           1,
           1,
           1,
           2,
           1,
           1,
           2,
           1,
           1,
           1,
           2,
           1,
           2,
           1,
           2,
           1,
           1,
           2,
           1,
           2,
           1,
           1,
           1,
           1,
           2,
           2,
           2,
           1,
           2,
           1,
           1,
           1,
           1,
           3,
           1,
           1,
           2,
           1,
           1,
           1,
           1,
           2,
           1,
           1,
           1,
           2,
           1,
           1,
           1,
           2,
           1,
           1,
           1,
           2,
           2,
           1,
           1,
           1,
           1
          ],
          "colorbar": {
           "thickness": 15,
           "title": {
            "side": "right",
            "text": "Node Connections"
           },
           "xanchor": "left"
          },
          "colorscale": [
           [
            0,
            "rgb(255,255,217)"
           ],
           [
            0.125,
            "rgb(237,248,177)"
           ],
           [
            0.25,
            "rgb(199,233,180)"
           ],
           [
            0.375,
            "rgb(127,205,187)"
           ],
           [
            0.5,
            "rgb(65,182,196)"
           ],
           [
            0.625,
            "rgb(29,145,192)"
           ],
           [
            0.75,
            "rgb(34,94,168)"
           ],
           [
            0.875,
            "rgb(37,52,148)"
           ],
           [
            1,
            "rgb(8,29,88)"
           ]
          ],
          "line": {
           "width": 2
          },
          "reversescale": true,
          "showscale": true,
          "size": 10
         },
         "mode": "markers",
         "text": [
          "# of connections: 1",
          "# of connections: 1",
          "# of connections: 1",
          "# of connections: 3",
          "# of connections: 3",
          "# of connections: 1",
          "# of connections: 1",
          "# of connections: 1",
          "# of connections: 1",
          "# of connections: 1",
          "# of connections: 1",
          "# of connections: 1",
          "# of connections: 3",
          "# of connections: 1",
          "# of connections: 1",
          "# of connections: 2",
          "# of connections: 2",
          "# of connections: 2",
          "# of connections: 1",
          "# of connections: 2",
          "# of connections: 2",
          "# of connections: 2",
          "# of connections: 1",
          "# of connections: 1",
          "# of connections: 1",
          "# of connections: 1",
          "# of connections: 2",
          "# of connections: 1",
          "# of connections: 1",
          "# of connections: 1",
          "# of connections: 1",
          "# of connections: 2",
          "# of connections: 1",
          "# of connections: 1",
          "# of connections: 1",
          "# of connections: 3",
          "# of connections: 2",
          "# of connections: 2",
          "# of connections: 2",
          "# of connections: 1",
          "# of connections: 1",
          "# of connections: 1",
          "# of connections: 3",
          "# of connections: 3",
          "# of connections: 1",
          "# of connections: 2",
          "# of connections: 2",
          "# of connections: 1",
          "# of connections: 1",
          "# of connections: 1",
          "# of connections: 3",
          "# of connections: 1",
          "# of connections: 1",
          "# of connections: 3",
          "# of connections: 1",
          "# of connections: 3",
          "# of connections: 1",
          "# of connections: 1",
          "# of connections: 1",
          "# of connections: 2",
          "# of connections: 1",
          "# of connections: 1",
          "# of connections: 1",
          "# of connections: 1",
          "# of connections: 1",
          "# of connections: 1",
          "# of connections: 1",
          "# of connections: 1",
          "# of connections: 1",
          "# of connections: 1",
          "# of connections: 3",
          "# of connections: 1",
          "# of connections: 1",
          "# of connections: 1",
          "# of connections: 2",
          "# of connections: 2",
          "# of connections: 1",
          "# of connections: 2",
          "# of connections: 1",
          "# of connections: 1",
          "# of connections: 1",
          "# of connections: 1",
          "# of connections: 2",
          "# of connections: 2",
          "# of connections: 1",
          "# of connections: 3",
          "# of connections: 1",
          "# of connections: 1",
          "# of connections: 1",
          "# of connections: 1",
          "# of connections: 1",
          "# of connections: 1",
          "# of connections: 2",
          "# of connections: 1",
          "# of connections: 3",
          "# of connections: 1",
          "# of connections: 2",
          "# of connections: 4",
          "# of connections: 1",
          "# of connections: 3",
          "# of connections: 2",
          "# of connections: 1",
          "# of connections: 2",
          "# of connections: 1",
          "# of connections: 1",
          "# of connections: 1",
          "# of connections: 1",
          "# of connections: 1",
          "# of connections: 1",
          "# of connections: 2",
          "# of connections: 1",
          "# of connections: 1",
          "# of connections: 1",
          "# of connections: 2",
          "# of connections: 3",
          "# of connections: 1",
          "# of connections: 1",
          "# of connections: 2",
          "# of connections: 2",
          "# of connections: 1",
          "# of connections: 2",
          "# of connections: 1",
          "# of connections: 1",
          "# of connections: 3",
          "# of connections: 2",
          "# of connections: 2",
          "# of connections: 2",
          "# of connections: 1",
          "# of connections: 1",
          "# of connections: 3",
          "# of connections: 1",
          "# of connections: 1",
          "# of connections: 3",
          "# of connections: 1",
          "# of connections: 2",
          "# of connections: 1",
          "# of connections: 2",
          "# of connections: 1",
          "# of connections: 1",
          "# of connections: 2",
          "# of connections: 1",
          "# of connections: 2",
          "# of connections: 1",
          "# of connections: 2",
          "# of connections: 1",
          "# of connections: 2",
          "# of connections: 1",
          "# of connections: 1",
          "# of connections: 1",
          "# of connections: 2",
          "# of connections: 1",
          "# of connections: 2",
          "# of connections: 1",
          "# of connections: 1",
          "# of connections: 1",
          "# of connections: 1",
          "# of connections: 2",
          "# of connections: 3",
          "# of connections: 1",
          "# of connections: 3",
          "# of connections: 2",
          "# of connections: 2",
          "# of connections: 2",
          "# of connections: 1",
          "# of connections: 3",
          "# of connections: 2",
          "# of connections: 1",
          "# of connections: 1",
          "# of connections: 2",
          "# of connections: 2",
          "# of connections: 1",
          "# of connections: 2",
          "# of connections: 1",
          "# of connections: 2",
          "# of connections: 3",
          "# of connections: 1",
          "# of connections: 2",
          "# of connections: 2",
          "# of connections: 1",
          "# of connections: 1",
          "# of connections: 1",
          "# of connections: 2",
          "# of connections: 1",
          "# of connections: 2",
          "# of connections: 2",
          "# of connections: 2",
          "# of connections: 1",
          "# of connections: 2",
          "# of connections: 2",
          "# of connections: 1",
          "# of connections: 2",
          "# of connections: 1",
          "# of connections: 1",
          "# of connections: 3",
          "# of connections: 2",
          "# of connections: 2",
          "# of connections: 3",
          "# of connections: 1",
          "# of connections: 2",
          "# of connections: 1",
          "# of connections: 1",
          "# of connections: 1",
          "# of connections: 1",
          "# of connections: 1",
          "# of connections: 1",
          "# of connections: 2",
          "# of connections: 3",
          "# of connections: 2",
          "# of connections: 2",
          "# of connections: 2",
          "# of connections: 2",
          "# of connections: 1",
          "# of connections: 1",
          "# of connections: 1",
          "# of connections: 1",
          "# of connections: 1",
          "# of connections: 1",
          "# of connections: 2",
          "# of connections: 3",
          "# of connections: 1",
          "# of connections: 1",
          "# of connections: 1",
          "# of connections: 1",
          "# of connections: 2",
          "# of connections: 1",
          "# of connections: 1",
          "# of connections: 2",
          "# of connections: 1",
          "# of connections: 2",
          "# of connections: 2",
          "# of connections: 1",
          "# of connections: 1",
          "# of connections: 1",
          "# of connections: 2",
          "# of connections: 1",
          "# of connections: 1",
          "# of connections: 2",
          "# of connections: 2",
          "# of connections: 2",
          "# of connections: 1",
          "# of connections: 1",
          "# of connections: 1",
          "# of connections: 1",
          "# of connections: 2",
          "# of connections: 1",
          "# of connections: 1",
          "# of connections: 1",
          "# of connections: 2",
          "# of connections: 1",
          "# of connections: 1",
          "# of connections: 2",
          "# of connections: 1",
          "# of connections: 1",
          "# of connections: 1",
          "# of connections: 2",
          "# of connections: 1",
          "# of connections: 2",
          "# of connections: 1",
          "# of connections: 2",
          "# of connections: 1",
          "# of connections: 1",
          "# of connections: 2",
          "# of connections: 1",
          "# of connections: 2",
          "# of connections: 1",
          "# of connections: 1",
          "# of connections: 1",
          "# of connections: 1",
          "# of connections: 2",
          "# of connections: 2",
          "# of connections: 2",
          "# of connections: 1",
          "# of connections: 2",
          "# of connections: 1",
          "# of connections: 1",
          "# of connections: 1",
          "# of connections: 1",
          "# of connections: 3",
          "# of connections: 1",
          "# of connections: 1",
          "# of connections: 2",
          "# of connections: 1",
          "# of connections: 1",
          "# of connections: 1",
          "# of connections: 1",
          "# of connections: 2",
          "# of connections: 1",
          "# of connections: 1",
          "# of connections: 1",
          "# of connections: 2",
          "# of connections: 1",
          "# of connections: 1",
          "# of connections: 1",
          "# of connections: 2",
          "# of connections: 1",
          "# of connections: 1",
          "# of connections: 1",
          "# of connections: 2",
          "# of connections: 2",
          "# of connections: 1",
          "# of connections: 1",
          "# of connections: 1",
          "# of connections: 1"
         ],
         "type": "scatter",
         "x": [
          15.867877738370574,
          15.614848807927274,
          -1.817524351101381,
          13.360823781777993,
          5.357436159929531,
          3.7697357242830765,
          -9.159345724008972,
          3.3638004319479786,
          2.554993539890571,
          -6.266275843122564,
          11.550805836314904,
          7.255003383937352,
          13.998305853665173,
          0.5091773588200308,
          -0.37554016292963205,
          14.293911596108638,
          -1.2553807600782054,
          13.423143800781988,
          -11.642628701498282,
          -6.4471904867365435,
          13.851432188995808,
          -7.761798025593902,
          -10.250145026888028,
          3.3717103367846653,
          12.038425783735363,
          -12.291756093813694,
          0.4371848376291157,
          -7.427005407445968,
          6.938546204711415,
          -7.180026948057083,
          16.35613005743415,
          10.197905078063782,
          -12.637537875140751,
          -12.576322965975237,
          -16.411653220285682,
          9.697999802767253,
          -3.1762962971901514,
          -9.778668153116927,
          11.0420992326932,
          -7.526350125996726,
          -0.41994283054569853,
          4.177118851460853,
          -9.87677820932256,
          -10.851407059953074,
          -13.385556570260505,
          0.6730370279666192,
          -8.325349952067295,
          4.423035931454949,
          11.642611861342349,
          -13.656078159142838,
          9.29505746115757,
          18.11770244332921,
          -1.469906297381892,
          0.9640881891669596,
          -7.916844290824985,
          -8.099511785557851,
          10.214889175786032,
          8.380082875993276,
          -14.356069364803107,
          -2.0488944910969273,
          -0.14864509501118872,
          -3.1352731605308675,
          4.1257360736011535,
          -11.395525410207856,
          4.8149339127956,
          -12.52464194146931,
          -4.615831526679463,
          -8.38965306670246,
          -7.006245944394164,
          -0.5984180407599781,
          8.638829826972973,
          -8.702851487143926,
          -9.340234894264627,
          6.655519062026533,
          -15.6975604682089,
          -9.62282747872145,
          -4.452596221801608,
          5.765320128141253,
          -1.3682569262474287,
          4.757456903279179,
          9.631625549040567,
          -9.377042792977933,
          -3.782383547713653,
          10.61127483713772,
          13.822706253401593,
          -2.0524815399338925,
          -0.5721218910707966,
          -8.205138921211315,
          12.179226163630725,
          8.324009757323113,
          -3.8981690945186656,
          6.3667836778796865,
          -7.718161120428439,
          -11.097207332815916,
          -0.5608442472138632,
          19.03743648913115,
          13.073073075797005,
          8.918472050373929,
          12.841090716726157,
          4.847549179616687,
          1.1620424668576603,
          0.41028930812765463,
          8.711053735137671,
          12.930043545070697,
          -15.810156222226844,
          -0.6407441898017845,
          10.715272781823714,
          -8.511086143247159,
          4.524797578985884,
          1.5450085302530474,
          -12.231878707877774,
          -4.3028651859575175,
          12.93735329520173,
          -10.532168033602508,
          11.131139837528393,
          7.148646997178318,
          -14.12862313046605,
          -6.863866393789545,
          13.709988811417643,
          13.469386431359991,
          -1.1924778748016032,
          2.3264099111942254,
          -13.087096323156166,
          -1.1861877904794704,
          13.977391113313432,
          13.373147690141133,
          0.812172664125296,
          1.932550282454101,
          -11.272652954618794,
          13.69348799905424,
          -2.6638764756813487,
          -0.7854390241169774,
          -2.226456980550841,
          -8.946572405813848,
          -11.725607706169887,
          11.529346057942869,
          -0.004645945216598329,
          9.255455966174857,
          13.526402914889443,
          0.7733066575934655,
          -14.129742688546221,
          -8.543531690423075,
          8.888177962815792,
          -6.787789282784066,
          20,
          -12.491441135799162,
          2.938310629801661,
          -16.079147331700913,
          4.150953271268343,
          -12.251994183933977,
          -2.1912448883443014,
          8.5182385975148,
          13.68216662409652,
          -7.0530911059610695,
          -12.508551039538588,
          4.300912486538035,
          11.750124764927836,
          10.204291977040931,
          -1.8051941162675607,
          5.916694711719603,
          -4.172630723705209,
          -4.472846901478726,
          -9.602745096873406,
          -15.413273010680559,
          -10.662861701210018,
          0.2198151895090014,
          -5.797347379965798,
          10.232954491355065,
          -8.910949907006845,
          -3.8985968086486897,
          -8.28811607489745,
          12.2623257507538,
          5.303435512705568,
          10.572677808907725,
          5.111774910912323,
          11.15102523983993,
          9.233521185964763,
          -17.029413114042647,
          8.958224190068737,
          9.693582711911992,
          6.706381211415326,
          11.23768565526129,
          -15.478605422085774,
          11.470348723995459,
          11.84454752111239,
          10.231437645013713,
          -1.0033460705194208,
          -2.412724791571473,
          -12.825375033716924,
          8.02522526377424,
          -11.386062248963169,
          -14.006222715900181,
          12.401275905156435,
          -10.867536956938913,
          9.157001040684918,
          12.108245543229554,
          -1.6766472455289232,
          -12.638260536518088,
          13.19652771709696,
          -3.5153486083019576,
          -5.808584082793665,
          -6.549235566402779,
          -13.40138248833807,
          -0.06442751138469635,
          3.645140834880136,
          -7.178355052773679,
          -1.7663818662689625,
          2.940906263070278,
          0.525582642398183,
          1.909590338757493,
          -6.404679912047886,
          -0.5638336714942278,
          -8.995802841678909,
          -7.713719943235071,
          3.6330355235080174,
          -0.05372416593058899,
          -10.179886674031728,
          -15.11170040865396,
          5.403436122544261,
          5.167762501943877,
          13.576054869057717,
          -12.536331495280209,
          -14.392469688821157,
          -3.6413186989368835,
          -10.628186255524655,
          -7.223643215860952,
          2.064969490320098,
          -5.635196337339919,
          0.06649094930532526,
          -11.193523132054874,
          -6.7018245698295615,
          18.695996138582093,
          -7.5943770077318105,
          -4.373199099039547,
          -0.0943753290976863,
          -14.290158624122919,
          9.925590950381908,
          -11.270197519871557,
          -4.9179327433959745,
          -8.769992214759688,
          3.168222348156852,
          -17.477642541206702,
          -12.427111599877847,
          9.468331653982105,
          -8.003920176277656,
          2.9738761434960463,
          -1.8312106394534806,
          4.937774879791031,
          14.697705522270326,
          -2.1564745327830618e-7,
          -0.4736377226348091,
          -4.95792652451278,
          5.677146130165732,
          -9.403028382569948,
          12.452066215262874,
          -5.320800507685788,
          -3.260127766964263,
          2.524635183635194,
          11.586280472925578,
          -4.490275164048018,
          7.953082366660992,
          2.456138402420057,
          0.8562771152534548,
          -4.064035842919269,
          5.479327737188475,
          -7.396751505346909,
          8.763700939317156,
          5.2595813327153325,
          -6.889079891260615,
          -3.8167867632614927,
          2.4481199305832,
          0.3226299128076208,
          -4.938955571831671,
          6.647915344877376,
          -15.07947255703726,
          3.2566855058861304,
          2.125447953173274,
          1.1532702673526214,
          2.75366721977862,
          11.131700411483953,
          7.29172940853725,
          13.93816394932184,
          -13.176640149811547,
          -1.5345561576863127,
          -10.695799131878726,
          -13.578777845274082,
          5.695990939794696,
          -1.2014372049072983,
          9.147635102864536,
          -1.7610079528890243,
          -6.873313320637995,
          -9.882669499899507,
          11.358750742178223,
          -7.938486592087713,
          -8.964994309263847,
          8.084942930057368,
          7.59986289176979,
          9.878681689933579,
          9.141671761986801,
          -13.49240043456681,
          -10.668033813287204,
          13.319392404983821,
          11.998751264137404
         ],
         "y": [
          -4.684334893398407,
          9.452032892410424,
          -9.578534904825911,
          1.5807983846002025,
          5.138585006012164,
          3.763393092917425,
          7.366716545065127,
          -14.241584865208736,
          6.347386319831772,
          -16.6774882166278,
          -12.006243972264175,
          1.5642048695352362,
          1.5604997631917101,
          10.29213525336052,
          14.819153726176452,
          -0.40308154135010726,
          2.242885222055112,
          -1.7224379163460946,
          -7.823471454846788,
          7.845503437144776,
          -0.7011802994691853,
          -6.636282022696841,
          -4.098664588316187,
          -8.443145686714777,
          -12.732148613835085,
          -2.750830407281801,
          12.968964935689115,
          -5.4859141757277206,
          -11.22753320677863,
          15.673240925928047,
          6.59652258199069,
          -3.3678811618983073,
          2.165313504793722,
          -0.07392868661526827,
          -5.802796681311368,
          -0.8299336159711997,
          -9.153713751529756,
          7.690923728018259,
          -3.9550345362685513,
          14.68764146962392,
          12.4030201421359,
          11.157846894697785,
          4.198920760964466,
          4.758285712524743,
          2.077934375885506,
          3.612812063664632,
          4.181376200257082,
          9.905475771998992,
          -5.203060419192977,
          -5.039007932810202,
          -1.9083906064659117,
          -0.5315215159083739,
          -8.908683945155884,
          14.13253275680072,
          17.060192187358744,
          7.570915904473235,
          14.130458188319198,
          -18.157713835130988,
          -2.5857404447560093,
          12.210323725749081,
          10.842013007833826,
          0.5924225277862054,
          -9.006696680293715,
          -1.3662872678029998,
          11.066591802946869,
          -13.26044770600937,
          14.395199938873732,
          17.225307965267866,
          17.270421582063893,
          -12.028145177867938,
          -1.0184551180897279,
          1.9477657022416845,
          -3.3585668103351987,
          5.092654073294848,
          -8.128395704018972,
          9.715576438729496,
          13.153128883461237,
          6.276897357789639,
          11.08367774786418,
          -12.99317176386661,
          5.491193132486643,
          -15.713799802215592,
          6.848918181601417,
          4.358972690155164,
          8.34385182633825,
          1.5507745394044408,
          17.286541860636984,
          0.27732749629679004,
          -5.175558726795712,
          17.925047248749973,
          12.330947050557471,
          -8.038175312403283,
          -9.759660345781255,
          -6.523025448212349,
          3.0462927687663335,
          3.6271512901449543,
          -0.9788273958254476,
          -6.937703364658461,
          -7.823950869591167,
          -5.987405014778308,
          5.075338890736895,
          17.349118998408475,
          -5.983520397991783,
          -3.003816622358493,
          0.792270704722119,
          17.810249884795,
          -6.529516448884707,
          -14.881959148305613,
          13.44431046464842,
          -15.247379823924692,
          0.982774785765685,
          -9.002738387971169,
          -4.001043425941625,
          9.812173989067636,
          1.5436371977673742,
          11.09396686866753,
          4.845924124429788,
          -12.258462877542007,
          3.259183969881925,
          3.6766758225260827,
          3.7920766515168243,
          -1.1596247957965085,
          -6.205098897282181,
          -4.265502673383322,
          2.784800303549064,
          -4.141093316906268,
          14.867873743319974,
          15.228848488250927,
          -0.7563575552077862,
          2.0115726584322884,
          3.9335454584212353,
          -11.582905379953527,
          -4.3536716984187365,
          11.90684910568982,
          -8.764235364113494,
          -13.264338041041142,
          -18.182664147045895,
          -1.5514622813684447,
          9.166650910408427,
          -12.134906619761402,
          -3.2888006626581148,
          6.494865070725901,
          5.547408099315622,
          -9.161947324677461,
          -0.5879757191486379,
          -6.445388595510911,
          8.42316659297526,
          -3.550593090442867,
          -16.480425048735313,
          -7.088355948671021,
          -17.017949923904172,
          8.274280564617456,
          5.647417039442196,
          9.943179372859833,
          -5.189566676088002,
          17.73434615985364,
          -8.280556174435597,
          -1.3869938755953681,
          -14.999743016047406,
          -6.307140976693748,
          6.1797340845225674,
          9.712489300366247,
          4.943748238391414,
          2.1084284581017765,
          5.24837243625951,
          -13.819177881371823,
          11.352443711828055,
          -11.460077551495122,
          3.8057069055167676,
          10.012025631907465,
          -11.90737312453474,
          -1.287999014002014,
          14.67381346400268,
          -8.705315039594783,
          -6.8825764083786725,
          7.668319454040709,
          11.599155542396707,
          4.612846599465511,
          14.63778518022294,
          -13.852136131155472,
          -7.131056761678939,
          4.224548346259251,
          1.7462174107192023,
          2.0486543458603474,
          -8.923248826335875,
          12.182302733622523,
          16.225526275507757,
          14.238721391377704,
          -9.809319206759811,
          -16.82206742995098,
          -9.369696889873916,
          -14.649864165130504,
          8.116903351697454,
          4.22592390286975,
          10.757997344134317,
          -4.216046481428898,
          -4.775406365855459,
          3.2055518109080063,
          2.493768830076494,
          11.52402525047645,
          15.679913527472005,
          -13.655326691713922,
          -1.3501427019023744,
          13.809068830511134,
          9.883366959929521,
          8.025599318010222,
          -3.8119421343043673,
          12.44649955339369,
          -17.637969258711824,
          -14.61816738600873,
          8.471078748989035,
          10.798503743670418,
          -14.114150916345361,
          10.307690223431733,
          -10.799966988763929,
          -15.533815080075376,
          -0.40514839854982987,
          -8.435813367945354,
          -6.3147021857177945,
          18.179073188098055,
          1.0563117519594516,
          -11.270941843311158,
          3.3775888296928946,
          -10.842636724048067,
          -16.453089460742827,
          -7.48210403128015,
          11.205953570935488,
          -7.994783978667181,
          -12.459865850932786,
          10.74348821091802,
          17.278743020334403,
          2.7096931168407625,
          -12.548284339591005,
          -15.507508357933677,
          -11.231962028578039,
          -0.711221700142123,
          -7.310111416217086,
          -6.807657622821742,
          -14.900199325256896,
          16.133894542697146,
          -0.948440475233665,
          5.905458451622412,
          -0.26652406155361436,
          8.539111935086666,
          -3.5393886217277983,
          -12.855506670735652,
          18.30575446487509,
          5.9733459678364484,
          8.747713914789712,
          -10.276288715415914,
          -17.509155228472594,
          -10.487057048959633,
          -14.124024765540572,
          0.5083305869632613,
          5.184710211469796,
          -16.674741192495144,
          5.569042803995048,
          7.7368573259613145,
          -0.29444729221426824,
          -6.730436756908454,
          2.175147836587535,
          12.836839278989416,
          -16.196924620624088,
          -14.58252226477927,
          -12.720746205148727,
          13.33492049872433,
          -13.64452192538544,
          -14.276466237827945,
          7.215034108370458,
          -10.114704505977361,
          3.6972254287543516,
          16.28176235109842,
          11.053297867417657,
          9.826918860328316,
          5.639841812870309,
          -11.892306823611229,
          -13.72563324930271,
          -12.650654218904158,
          -16.058423830792876,
          13.911996010188087,
          -4.768166609978841,
          -6.1376523499830835,
          -2.216515888721073,
          17.694947588648244,
          8.305309085676752,
          -7.36485409006818,
          -15.737961465651232,
          -10.81120444527955,
          19.295363351365598,
          13.027795308245507,
          -2.8163329643734523,
          -15.376270950244027,
          -2.1881086114209904,
          -10.487699351653847,
          -0.8057713503701733,
          -12.786824092073553,
          12.17156734891039,
          -8.584230102934852,
          7.796606691311653,
          -11.10690147467965,
          2.423941895162327,
          11.067963564059012,
          10.225113805223065
         ]
        }
       ],
       "layout": {
        "annotations": [
         {
          "showarrow": false,
          "text": "Created by Juan Estrada",
          "x": 0.005,
          "xref": "paper",
          "y": -0.002,
          "yref": "paper"
         }
        ],
        "hovermode": "closest",
        "margin": {
         "b": 20,
         "l": 5,
         "r": 5,
         "t": 40
        },
        "showlegend": false,
        "template": {
         "data": {
          "bar": [
           {
            "error_x": {
             "color": "#2a3f5f"
            },
            "error_y": {
             "color": "#2a3f5f"
            },
            "marker": {
             "line": {
              "color": "#E5ECF6",
              "width": 0.5
             }
            },
            "type": "bar"
           }
          ],
          "barpolar": [
           {
            "marker": {
             "line": {
              "color": "#E5ECF6",
              "width": 0.5
             }
            },
            "type": "barpolar"
           }
          ],
          "carpet": [
           {
            "aaxis": {
             "endlinecolor": "#2a3f5f",
             "gridcolor": "white",
             "linecolor": "white",
             "minorgridcolor": "white",
             "startlinecolor": "#2a3f5f"
            },
            "baxis": {
             "endlinecolor": "#2a3f5f",
             "gridcolor": "white",
             "linecolor": "white",
             "minorgridcolor": "white",
             "startlinecolor": "#2a3f5f"
            },
            "type": "carpet"
           }
          ],
          "choropleth": [
           {
            "colorbar": {
             "outlinewidth": 0,
             "ticks": ""
            },
            "type": "choropleth"
           }
          ],
          "contour": [
           {
            "colorbar": {
             "outlinewidth": 0,
             "ticks": ""
            },
            "colorscale": [
             [
              0,
              "#0d0887"
             ],
             [
              0.1111111111111111,
              "#46039f"
             ],
             [
              0.2222222222222222,
              "#7201a8"
             ],
             [
              0.3333333333333333,
              "#9c179e"
             ],
             [
              0.4444444444444444,
              "#bd3786"
             ],
             [
              0.5555555555555556,
              "#d8576b"
             ],
             [
              0.6666666666666666,
              "#ed7953"
             ],
             [
              0.7777777777777778,
              "#fb9f3a"
             ],
             [
              0.8888888888888888,
              "#fdca26"
             ],
             [
              1,
              "#f0f921"
             ]
            ],
            "type": "contour"
           }
          ],
          "contourcarpet": [
           {
            "colorbar": {
             "outlinewidth": 0,
             "ticks": ""
            },
            "type": "contourcarpet"
           }
          ],
          "heatmap": [
           {
            "colorbar": {
             "outlinewidth": 0,
             "ticks": ""
            },
            "colorscale": [
             [
              0,
              "#0d0887"
             ],
             [
              0.1111111111111111,
              "#46039f"
             ],
             [
              0.2222222222222222,
              "#7201a8"
             ],
             [
              0.3333333333333333,
              "#9c179e"
             ],
             [
              0.4444444444444444,
              "#bd3786"
             ],
             [
              0.5555555555555556,
              "#d8576b"
             ],
             [
              0.6666666666666666,
              "#ed7953"
             ],
             [
              0.7777777777777778,
              "#fb9f3a"
             ],
             [
              0.8888888888888888,
              "#fdca26"
             ],
             [
              1,
              "#f0f921"
             ]
            ],
            "type": "heatmap"
           }
          ],
          "heatmapgl": [
           {
            "colorbar": {
             "outlinewidth": 0,
             "ticks": ""
            },
            "colorscale": [
             [
              0,
              "#0d0887"
             ],
             [
              0.1111111111111111,
              "#46039f"
             ],
             [
              0.2222222222222222,
              "#7201a8"
             ],
             [
              0.3333333333333333,
              "#9c179e"
             ],
             [
              0.4444444444444444,
              "#bd3786"
             ],
             [
              0.5555555555555556,
              "#d8576b"
             ],
             [
              0.6666666666666666,
              "#ed7953"
             ],
             [
              0.7777777777777778,
              "#fb9f3a"
             ],
             [
              0.8888888888888888,
              "#fdca26"
             ],
             [
              1,
              "#f0f921"
             ]
            ],
            "type": "heatmapgl"
           }
          ],
          "histogram": [
           {
            "marker": {
             "colorbar": {
              "outlinewidth": 0,
              "ticks": ""
             }
            },
            "type": "histogram"
           }
          ],
          "histogram2d": [
           {
            "colorbar": {
             "outlinewidth": 0,
             "ticks": ""
            },
            "colorscale": [
             [
              0,
              "#0d0887"
             ],
             [
              0.1111111111111111,
              "#46039f"
             ],
             [
              0.2222222222222222,
              "#7201a8"
             ],
             [
              0.3333333333333333,
              "#9c179e"
             ],
             [
              0.4444444444444444,
              "#bd3786"
             ],
             [
              0.5555555555555556,
              "#d8576b"
             ],
             [
              0.6666666666666666,
              "#ed7953"
             ],
             [
              0.7777777777777778,
              "#fb9f3a"
             ],
             [
              0.8888888888888888,
              "#fdca26"
             ],
             [
              1,
              "#f0f921"
             ]
            ],
            "type": "histogram2d"
           }
          ],
          "histogram2dcontour": [
           {
            "colorbar": {
             "outlinewidth": 0,
             "ticks": ""
            },
            "colorscale": [
             [
              0,
              "#0d0887"
             ],
             [
              0.1111111111111111,
              "#46039f"
             ],
             [
              0.2222222222222222,
              "#7201a8"
             ],
             [
              0.3333333333333333,
              "#9c179e"
             ],
             [
              0.4444444444444444,
              "#bd3786"
             ],
             [
              0.5555555555555556,
              "#d8576b"
             ],
             [
              0.6666666666666666,
              "#ed7953"
             ],
             [
              0.7777777777777778,
              "#fb9f3a"
             ],
             [
              0.8888888888888888,
              "#fdca26"
             ],
             [
              1,
              "#f0f921"
             ]
            ],
            "type": "histogram2dcontour"
           }
          ],
          "mesh3d": [
           {
            "colorbar": {
             "outlinewidth": 0,
             "ticks": ""
            },
            "type": "mesh3d"
           }
          ],
          "parcoords": [
           {
            "line": {
             "colorbar": {
              "outlinewidth": 0,
              "ticks": ""
             }
            },
            "type": "parcoords"
           }
          ],
          "pie": [
           {
            "automargin": true,
            "type": "pie"
           }
          ],
          "scatter": [
           {
            "marker": {
             "colorbar": {
              "outlinewidth": 0,
              "ticks": ""
             }
            },
            "type": "scatter"
           }
          ],
          "scatter3d": [
           {
            "line": {
             "colorbar": {
              "outlinewidth": 0,
              "ticks": ""
             }
            },
            "marker": {
             "colorbar": {
              "outlinewidth": 0,
              "ticks": ""
             }
            },
            "type": "scatter3d"
           }
          ],
          "scattercarpet": [
           {
            "marker": {
             "colorbar": {
              "outlinewidth": 0,
              "ticks": ""
             }
            },
            "type": "scattercarpet"
           }
          ],
          "scattergeo": [
           {
            "marker": {
             "colorbar": {
              "outlinewidth": 0,
              "ticks": ""
             }
            },
            "type": "scattergeo"
           }
          ],
          "scattergl": [
           {
            "marker": {
             "colorbar": {
              "outlinewidth": 0,
              "ticks": ""
             }
            },
            "type": "scattergl"
           }
          ],
          "scattermapbox": [
           {
            "marker": {
             "colorbar": {
              "outlinewidth": 0,
              "ticks": ""
             }
            },
            "type": "scattermapbox"
           }
          ],
          "scatterpolar": [
           {
            "marker": {
             "colorbar": {
              "outlinewidth": 0,
              "ticks": ""
             }
            },
            "type": "scatterpolar"
           }
          ],
          "scatterpolargl": [
           {
            "marker": {
             "colorbar": {
              "outlinewidth": 0,
              "ticks": ""
             }
            },
            "type": "scatterpolargl"
           }
          ],
          "scatterternary": [
           {
            "marker": {
             "colorbar": {
              "outlinewidth": 0,
              "ticks": ""
             }
            },
            "type": "scatterternary"
           }
          ],
          "surface": [
           {
            "colorbar": {
             "outlinewidth": 0,
             "ticks": ""
            },
            "colorscale": [
             [
              0,
              "#0d0887"
             ],
             [
              0.1111111111111111,
              "#46039f"
             ],
             [
              0.2222222222222222,
              "#7201a8"
             ],
             [
              0.3333333333333333,
              "#9c179e"
             ],
             [
              0.4444444444444444,
              "#bd3786"
             ],
             [
              0.5555555555555556,
              "#d8576b"
             ],
             [
              0.6666666666666666,
              "#ed7953"
             ],
             [
              0.7777777777777778,
              "#fb9f3a"
             ],
             [
              0.8888888888888888,
              "#fdca26"
             ],
             [
              1,
              "#f0f921"
             ]
            ],
            "type": "surface"
           }
          ],
          "table": [
           {
            "cells": {
             "fill": {
              "color": "#EBF0F8"
             },
             "line": {
              "color": "white"
             }
            },
            "header": {
             "fill": {
              "color": "#C8D4E3"
             },
             "line": {
              "color": "white"
             }
            },
            "type": "table"
           }
          ]
         },
         "layout": {
          "annotationdefaults": {
           "arrowcolor": "#2a3f5f",
           "arrowhead": 0,
           "arrowwidth": 1
          },
          "coloraxis": {
           "colorbar": {
            "outlinewidth": 0,
            "ticks": ""
           }
          },
          "colorscale": {
           "diverging": [
            [
             0,
             "#8e0152"
            ],
            [
             0.1,
             "#c51b7d"
            ],
            [
             0.2,
             "#de77ae"
            ],
            [
             0.3,
             "#f1b6da"
            ],
            [
             0.4,
             "#fde0ef"
            ],
            [
             0.5,
             "#f7f7f7"
            ],
            [
             0.6,
             "#e6f5d0"
            ],
            [
             0.7,
             "#b8e186"
            ],
            [
             0.8,
             "#7fbc41"
            ],
            [
             0.9,
             "#4d9221"
            ],
            [
             1,
             "#276419"
            ]
           ],
           "sequential": [
            [
             0,
             "#0d0887"
            ],
            [
             0.1111111111111111,
             "#46039f"
            ],
            [
             0.2222222222222222,
             "#7201a8"
            ],
            [
             0.3333333333333333,
             "#9c179e"
            ],
            [
             0.4444444444444444,
             "#bd3786"
            ],
            [
             0.5555555555555556,
             "#d8576b"
            ],
            [
             0.6666666666666666,
             "#ed7953"
            ],
            [
             0.7777777777777778,
             "#fb9f3a"
            ],
            [
             0.8888888888888888,
             "#fdca26"
            ],
            [
             1,
             "#f0f921"
            ]
           ],
           "sequentialminus": [
            [
             0,
             "#0d0887"
            ],
            [
             0.1111111111111111,
             "#46039f"
            ],
            [
             0.2222222222222222,
             "#7201a8"
            ],
            [
             0.3333333333333333,
             "#9c179e"
            ],
            [
             0.4444444444444444,
             "#bd3786"
            ],
            [
             0.5555555555555556,
             "#d8576b"
            ],
            [
             0.6666666666666666,
             "#ed7953"
            ],
            [
             0.7777777777777778,
             "#fb9f3a"
            ],
            [
             0.8888888888888888,
             "#fdca26"
            ],
            [
             1,
             "#f0f921"
            ]
           ]
          },
          "colorway": [
           "#636efa",
           "#EF553B",
           "#00cc96",
           "#ab63fa",
           "#FFA15A",
           "#19d3f3",
           "#FF6692",
           "#B6E880",
           "#FF97FF",
           "#FECB52"
          ],
          "font": {
           "color": "#2a3f5f"
          },
          "geo": {
           "bgcolor": "white",
           "lakecolor": "white",
           "landcolor": "#E5ECF6",
           "showlakes": true,
           "showland": true,
           "subunitcolor": "white"
          },
          "hoverlabel": {
           "align": "left"
          },
          "hovermode": "closest",
          "mapbox": {
           "style": "light"
          },
          "paper_bgcolor": "white",
          "plot_bgcolor": "#E5ECF6",
          "polar": {
           "angularaxis": {
            "gridcolor": "white",
            "linecolor": "white",
            "ticks": ""
           },
           "bgcolor": "#E5ECF6",
           "radialaxis": {
            "gridcolor": "white",
            "linecolor": "white",
            "ticks": ""
           }
          },
          "scene": {
           "xaxis": {
            "backgroundcolor": "#E5ECF6",
            "gridcolor": "white",
            "gridwidth": 2,
            "linecolor": "white",
            "showbackground": true,
            "ticks": "",
            "zerolinecolor": "white"
           },
           "yaxis": {
            "backgroundcolor": "#E5ECF6",
            "gridcolor": "white",
            "gridwidth": 2,
            "linecolor": "white",
            "showbackground": true,
            "ticks": "",
            "zerolinecolor": "white"
           },
           "zaxis": {
            "backgroundcolor": "#E5ECF6",
            "gridcolor": "white",
            "gridwidth": 2,
            "linecolor": "white",
            "showbackground": true,
            "ticks": "",
            "zerolinecolor": "white"
           }
          },
          "shapedefaults": {
           "line": {
            "color": "#2a3f5f"
           }
          },
          "ternary": {
           "aaxis": {
            "gridcolor": "white",
            "linecolor": "white",
            "ticks": ""
           },
           "baxis": {
            "gridcolor": "white",
            "linecolor": "white",
            "ticks": ""
           },
           "bgcolor": "#E5ECF6",
           "caxis": {
            "gridcolor": "white",
            "linecolor": "white",
            "ticks": ""
           }
          },
          "title": {
           "x": 0.05
          },
          "xaxis": {
           "automargin": true,
           "gridcolor": "white",
           "linecolor": "white",
           "ticks": "",
           "title": {
            "standoff": 15
           },
           "zerolinecolor": "white",
           "zerolinewidth": 2
          },
          "yaxis": {
           "automargin": true,
           "gridcolor": "white",
           "linecolor": "white",
           "ticks": "",
           "title": {
            "standoff": 15
           },
           "zerolinecolor": "white",
           "zerolinewidth": 2
          }
         }
        },
        "title": {
         "font": {
          "size": 16
         },
         "text": "<br>Coauthos Network graph made with Python"
        },
        "xaxis": {
         "showgrid": false,
         "showticklabels": false,
         "zeroline": false
        },
        "yaxis": {
         "showgrid": false,
         "showticklabels": false,
         "zeroline": false
        }
       }
      }
     },
     "metadata": {},
     "output_type": "display_data"
    }
   ],
   "source": [
    "fig = go.Figure(data=[edge_trace, node_trace],\n",
    "             layout=go.Layout(\n",
    "                title='<br>Coauthos Network graph made with Python',\n",
    "                titlefont_size=16,\n",
    "                showlegend=False,\n",
    "                hovermode='closest',\n",
    "                margin=dict(b=20,l=5,r=5,t=40),\n",
    "                annotations=[ dict(\n",
    "                    text=\"Created by Juan Estrada\",\n",
    "                    showarrow=False,\n",
    "                    xref=\"paper\", yref=\"paper\",\n",
    "                    x=0.005, y=-0.002 ) ],\n",
    "                xaxis=dict(showgrid=False, zeroline=False, showticklabels=False),\n",
    "                yaxis=dict(showgrid=False, zeroline=False, showticklabels=False))\n",
    "                )\n",
    "fig.show()"
   ]
  },
  {
   "cell_type": "markdown",
   "metadata": {},
   "source": [
    "### <span style=\"color:darkblue\">Adjacency Matrix </span>\n",
    "\n",
    "<font size=\"4\"> \n",
    "\n",
    "A graph is conveniently represented by its adjacency matrix $W=[Wij]$ where\n",
    "\n",
    "$$W_{ij} = \\begin{cases}\n",
    "  1 & \\text{if } \\{i,j\\} \\in E \\\\\n",
    "  0 & \\text{otherwise}\n",
    "\\end{cases}$$"
   ]
  },
  {
   "cell_type": "code",
   "execution_count": 20,
   "metadata": {},
   "outputs": [
    {
     "data": {
      "text/plain": [
       "matrix([[0., 0., 0., ..., 0., 0., 0.],\n",
       "        [0., 0., 0., ..., 0., 0., 0.],\n",
       "        [0., 0., 0., ..., 0., 0., 0.],\n",
       "        ...,\n",
       "        [0., 0., 0., ..., 0., 0., 0.],\n",
       "        [0., 0., 0., ..., 0., 0., 1.],\n",
       "        [0., 0., 0., ..., 0., 1., 0.]])"
      ]
     },
     "execution_count": 20,
     "metadata": {},
     "output_type": "execute_result"
    }
   ],
   "source": [
    "nx.to_numpy_matrix(G)"
   ]
  },
  {
   "cell_type": "markdown",
   "metadata": {},
   "source": [
    "## <span style=\"color:darkblue\">3. Global Network Statistics </span>\n",
    "\n",
    "### <span style=\"color:darkblue\">Degree Sequence - Degree Distribution </span>\n",
    "\n",
    "<font size=\"4\"> \n",
    "\n",
    "Some classical research take the degree distribution as the primary object of interest, and some datasets report agent degrees with no other network information.\n",
    "\n",
    "- The total number of links belonging to agent $i$ , or her degree is $W_{i+} = \\sum_{j} W_{ij}$\n",
    "\n",
    "- The degree sequence of a network is $W_{+} = (W_{1+},…,W_{N+})^{⊤}$\n",
    "\n",
    "- The degree distribution gives the frequency of each possible agent-level degree count $\\{0,1,\\dots,N\\}$  in the network."
   ]
  },
  {
   "cell_type": "code",
   "execution_count": 21,
   "metadata": {},
   "outputs": [
    {
     "data": {
      "text/plain": [
       "[(3, 1),\n",
       " (5, 1),\n",
       " (11, 1),\n",
       " (17, 3),\n",
       " (29, 3),\n",
       " (31, 1),\n",
       " (32, 1),\n",
       " (53, 1),\n",
       " (66, 1),\n",
       " (73, 1),\n",
       " (96, 1),\n",
       " (103, 1),\n",
       " (107, 3),\n",
       " (116, 1),\n",
       " (132, 1),\n",
       " (148, 2),\n",
       " (153, 2),\n",
       " (155, 2),\n",
       " (156, 1),\n",
       " (160, 2)]"
      ]
     },
     "execution_count": 21,
     "metadata": {},
     "output_type": "execute_result"
    }
   ],
   "source": [
    "list(G.degree())[0:20]"
   ]
  },
  {
   "cell_type": "code",
   "execution_count": null,
   "metadata": {},
   "outputs": [],
   "source": [
    "import collections\n",
    "degree_sequence = sorted([d for n, d in G.degree()], reverse=True)  \n",
    "degreeCount = collections.Counter(degree_sequence)\n",
    "deg, cnt = zip(*degreeCount.items())"
   ]
  },
  {
   "cell_type": "code",
   "execution_count": null,
   "metadata": {},
   "outputs": [],
   "source": [
    "import matplotlib.pyplot as plt\n",
    "fig, ax = plt.subplots()\n",
    "plt.bar(deg, cnt, width=0.80, color=\"b\")"
   ]
  },
  {
   "cell_type": "markdown",
   "metadata": {},
   "source": [
    "### <span style=\"color:darkblue\">Degree Sequence - Degree Distribution </span>\n",
    "\n",
    "<font size=\"4\">\n",
    "\n",
    "- Dyads are either link or unliked. The density of a network equals the frequency with which any randomly drawn dyad is linked:\n",
    "\n",
    "$$\\hat{\\rho}_{N}={N \\choose 2}^{-1} \\sum_{i=1}^{N}\\sum_{j<i} W_{ij}$$\n",
    "\n",
    "- Average degree:\n",
    "\n",
    "$$\\hat{\\lambda}_{N} = (N-1)\\hat{\\rho}_{N}$$\n",
    "\n",
    "- Low density and skewed degree distributions (with fat tails) are common features of real world social networks."
   ]
  },
  {
   "cell_type": "code",
   "execution_count": null,
   "metadata": {},
   "outputs": [],
   "source": [
    "print('The Density of the Coauthors Network is '+str(round(nx.density(G), 3)))"
   ]
  },
  {
   "cell_type": "code",
   "execution_count": null,
   "metadata": {},
   "outputs": [],
   "source": [
    "print('The Average Degree of the Coauthors Network is '+ str(round(sum(degree_sequence)/len(degree_sequence),3)))"
   ]
  },
  {
   "cell_type": "markdown",
   "metadata": {},
   "source": [
    "### <span style=\"color:darkblue\">Degree Sequence - Degree Distribution </span>\n",
    "\n",
    "<font size=\"4\">\n",
    "\n",
    "- **Paths of length two:** if $i$ and $j$ share the common friend $k$, then a length two path from $i$ to $j$ is given by $i \\rightarrow k \\rightarrow j$. The elements $ij$ th of $W^{2}$ gives the number of paths of length two from agent $i$ to agent $j$.\n",
    "\n",
    "- **Paths of length three:** The elements $ij$ th of $W^{3}$ gives the number of paths of length two from agent  $i$ to agent $j$.\n",
    "\n",
    "- If both $i$ and $j$ are connected to $k$ as well as to each other, then the $i,j,k$ triad is transitive (**triangle**).\n",
    "\n",
    "- The $i$ th element of $W^{3}$ gives the number of triangles to which $i$ belongs (with $i \\rightarrow j \\rightarrow k$ and $i \\rightarrow k \\rightarrow j$ counted separately).\n",
    "\n",
    "- **Paths of length $k$:** The elements $ij$ th of $W^{k}$ gives the number of paths of length two from agent $i$ to agent $j$."
   ]
  },
  {
   "cell_type": "code",
   "execution_count": null,
   "metadata": {},
   "outputs": [],
   "source": [
    "list(nx.all_simple_paths(G, 17, 107))"
   ]
  },
  {
   "cell_type": "markdown",
   "metadata": {},
   "source": [
    "<font size=\"4\">\n",
    "\n",
    "- **Distance:** The distance between agents $i$ and $j$ equals the minimum length path connecting them:\n",
    "\n",
    "$$M_{ij} = \\min_{k}\\{k: W_{ij}^{(k)}>0\\}$$\n",
    "\n",
    "- If the network consists of a single, giant, connected component, we can compute average path length as:\n",
    "\n",
    "$$\\bar{M} = {N \\choose 2}^{-1} \\sum_{i=1}^{N}\\sum_{j<i} M_{ij}$$"
   ]
  },
  {
   "cell_type": "code",
   "execution_count": null,
   "metadata": {},
   "outputs": [],
   "source": [
    "list(nx.shortest_path_length(G))[0:4]"
   ]
  },
  {
   "cell_type": "code",
   "execution_count": null,
   "metadata": {},
   "outputs": [],
   "source": [
    "def gc_average_shortest_path_length(G, isolated = True):\n",
    "    \n",
    "    G.remove_nodes_from(list(nx.isolates(G))) if isolated == True  else G\n",
    "    mean_gc = []\n",
    "    sizes = []\n",
    "    for C in (G.subgraph(c).copy() for c in nx.connected_components(G)):\n",
    "        mean_gc.append(nx.average_shortest_path_length(C))\n",
    "        sizes.append(nx.number_of_nodes(C))\n",
    "        \n",
    "    return np.sum(np.multiply(mean_gc,sizes))/np.sum(sizes)\n",
    "\n",
    "round(gc_average_shortest_path_length(G),3)"
   ]
  },
  {
   "cell_type": "markdown",
   "metadata": {},
   "source": [
    "<font size=\"4\">\n",
    "\n",
    "- **Diameter:** largest distance between two agents in the network."
   ]
  },
  {
   "cell_type": "code",
   "execution_count": null,
   "metadata": {},
   "outputs": [],
   "source": [
    "diameter = []\n",
    "for C in (G.subgraph(c).copy() for c in nx.connected_components(G)):\n",
    "        diameter.append(nx.diameter(C))\n",
    "\n",
    "max(diameter)"
   ]
  },
  {
   "cell_type": "markdown",
   "metadata": {},
   "source": [
    "### <span style=\"color:darkblue\">Small World Problem </span>\n",
    "\n",
    "Around 0.5% of nodes are directly connected in the coauthors network but the diameter is only 4. why do we see sparsity and low diameter together? Milgram (1967).\n",
    "\n",
    "### <span style=\"color:darkblue\">Small World Problem </span>\n",
    "\n",
    "The transitivity index (TI) is given by\n",
    "\n",
    "$$ TI = 3 \\times \\frac{\\text{triangles}}{\\text{triads}}$$\n",
    "\n",
    "In random graphs TI should be close to network density. However, **in practice TI often substantially exceeds network density**, in other words links are more clustered than would be expected under the homogenous random graph null."
   ]
  },
  {
   "cell_type": "code",
   "execution_count": null,
   "metadata": {},
   "outputs": [],
   "source": [
    "round(nx.transitivity(G),3)"
   ]
  },
  {
   "cell_type": "code",
   "execution_count": null,
   "metadata": {},
   "outputs": [],
   "source": [
    "print('The TI in the Coauthors network ('+str(round(nx.transitivity(G),3))+') substantially exceeds the network density ('+str(round(nx.density(G), 3))+')')"
   ]
  },
  {
   "cell_type": "markdown",
   "metadata": {},
   "source": [
    "# <span style=\"color:darkblue\"> Multilayer Network Statistics and Visualization</span>"
   ]
  },
  {
   "cell_type": "markdown",
   "metadata": {},
   "source": [
    "*Disclaimer:* Many of the concept in this notes are based on a presentation by Brian Graham in Annweiler-Germany 2019."
   ]
  },
  {
   "cell_type": "markdown",
   "metadata": {},
   "source": [
    "## <span style=\"color:darkblue\">1. Monolayer </span> "
   ]
  },
  {
   "cell_type": "markdown",
   "metadata": {},
   "source": [
    "### <span style=\"color:darkblue\">1.1 Important Nodes </span> "
   ]
  },
  {
   "cell_type": "markdown",
   "metadata": {},
   "source": [
    "<font size=\"4\"> \n",
    "\n",
    "- The objective is to learn methods to identify nodes that are important in a network. \n",
    "    \n",
    "    \n",
    "- There are different statistics that can provide information about the importance of a node from different perspectives.\n",
    "    \n",
    "    \n",
    "- Finding important nodes can help to answer questions such as:\n",
    "    \n",
    "    \n",
    "- Removal of what node would reduce disease transmission the most?\n",
    "    \n",
    "    \n",
    "- What nodes should companies target to incentivize technology adoption?\n",
    "    \n",
    "    \n",
    "- Can sectoral idiosyncratic shocks lead to aggregate fluctuations?\n",
    "    \n",
    "    \n",
    "- How do agent-specific shocks percolate through a network to generate social multipliers?\n",
    "    "
   ]
  },
  {
   "cell_type": "code",
   "execution_count": 22,
   "metadata": {},
   "outputs": [],
   "source": [
    "path = '/home/data' # Change this path for the location of empirical_multilayer_cloud/data in your local machine\n",
    "\n",
    "import psycopg2\n",
    "import pandas.io.sql as sqlio\n",
    "import networkx as nx\n",
    "from scipy import sparse\n",
    "import itertools as it\n",
    "import pandas as pd"
   ]
  },
  {
   "cell_type": "code",
   "execution_count": 23,
   "metadata": {},
   "outputs": [],
   "source": [
    "def create_graph(net, year, articles, con):\n",
    "    \n",
    "    coauthors_query = (\"SELECT aa1.author AS source, aa2.author AS target \\\n",
    "                       FROM tables.articles_authors aa1 \\\n",
    "                       LEFT JOIN tables.articles_authors AS aa2 \\\n",
    "                       USING(article) \\\n",
    "                       WHERE aa1.year <= '{}' AND aa1.article = aa1.article AND aa1.author != aa2.author \\\n",
    "                       ORDER BY source, target\").format(year)\n",
    "\n",
    "    samephd_query = (\"WITH s AS (SELECT author, phd_inst, phd_year \\\n",
    "                       FROM tables.authors_char \\\n",
    "                       WHERE phd_inst IS NOT NULL AND phd_year IS NOT NULL) \\\n",
    "                       SELECT s1.author AS source, s2.author AS target \\\n",
    "                       FROM s AS s1 LEFT JOIN s AS s2 \\\n",
    "                       USING (phd_inst) \\\n",
    "                       WHERE s1.author != s2.author AND s1.phd_year > s2.phd_year - 4 AND s1.phd_year < s2.phd_year + 4 \\\n",
    "                       AND s1.author IN (SELECT DISTINCT author FROM tables.articles_authors WHERE year <= '{}') \\\n",
    "                       AND s2.author IN (SELECT DISTINCT author FROM tables.articles_authors WHERE year <= '{}') \\\n",
    "                       ORDER BY s1.author, s2.author\").format(year, year)\n",
    "                        \n",
    "    ph = \"author\" if articles == False else \"article\"\n",
    "                \n",
    "    nodes_query = (\"SELECT DISTINCT \" + ph + \"\\\n",
    "                  FROM tables.articles_authors \\\n",
    "                  WHERE year <= '{}' \\\n",
    "                  ORDER BY \"+ ph + \";\").format(year)\n",
    "    \n",
    "    if net == 'coauthor':\n",
    "        query_type = coauthors_query\n",
    "    else:\n",
    "        query_type = samephd_query\n",
    "    \n",
    "    articles_query = (\"WITH s AS(\"+ query_type + \") \\\n",
    "                    SELECT DISTINCT a1.article AS source, a2.article AS target \\\n",
    "                    FROM s \\\n",
    "                    LEFT JOIN tables.articles_authors AS a1 \\\n",
    "                    ON s.source = a1.author \\\n",
    "                    LEFT JOIN tables.articles_authors AS a2 \\\n",
    "                    ON s.target = a2.author \\\n",
    "                    WHERE a1.article != a2.article \\\n",
    "                    AND a1.year <= '{}' AND a2.year <= '{}' \\\n",
    "                    ORDER BY a1.article, a2.article;\").format(year, year)\n",
    "\n",
    "    edges_ca = sqlio.read_sql_query(query_type+\";\", con) if articles == False else sqlio.read_sql_query(articles_query, con)\n",
    "    nodes_ca = sqlio.read_sql_query(nodes_query, con)\n",
    "    \n",
    "    return [nodes_ca, edges_ca]   "
   ]
  },
  {
   "cell_type": "code",
   "execution_count": 24,
   "metadata": {},
   "outputs": [],
   "source": [
    "con = psycopg2.connect(\n",
    "    host = '3.131.204.20',\n",
    "    database = 'g3sls',\n",
    "    user = 'jjestra',\n",
    "    password  = 'JJEslt14*')\n",
    "\n",
    "results = create_graph('coauthor', 2002, False, con)\n",
    "nodes = results[0]\n",
    "edges = results[1]\n",
    "con.close()"
   ]
  },
  {
   "cell_type": "code",
   "execution_count": 25,
   "metadata": {},
   "outputs": [],
   "source": [
    "import numpy as np\n",
    "G=nx.Graph()\n",
    "G.add_nodes_from(np.squeeze(nodes.values).tolist())\n",
    "\n",
    "tuples = [tuple(x) for x in edges.to_numpy()]\n",
    "G.add_edges_from(tuples)\n",
    "G.remove_nodes_from(list(nx.isolates(G)))"
   ]
  },
  {
   "cell_type": "markdown",
   "metadata": {},
   "source": [
    "###  <span style=\"color:darkblue\">1.2 Degree Centrality </span> \n"
   ]
  },
  {
   "cell_type": "markdown",
   "metadata": {},
   "source": [
    "<font size=\"4\">\n",
    "    \n",
    "$$\\frac{W_{i+}}{|\\mathbf{W}|-1}$$\n",
    "    \n",
    "\n",
    "Where $W_{i+}=\\sum_{j} W_{i j}$ is the degree of individual $i$ and $|\\mathbf{W}|$ is the total number of nodes in $\\mathbf{W}$.\n",
    "    \n",
    "    \n",
    "- This measure of centrality captures the idea that nodes with more connections a more important in the network just because they are more prestigious or popular. \n",
    "    \n",
    "    \n",
    "- In the coauthors network, it is intuitive to think that more productive and prestigious scholars would tend to have more coauthors.\n",
    "    \n",
    "    \n",
    "- We can also think about influencers in social network platforms, disease super spreaders, airport hubs, or important sectors in the supply chain.\n",
    "    \n",
    "    \n",
    "- This definition can be extended to the directed graphs where you can define \n",
    "    \n",
    "    \n",
    "    \n",
    "- In-degree: $W_{+i}=\\sum_{j} W_{j i}$ (column sums of $\\mathbf{W}$). **Represents:** prestige, popularity, buyers\n",
    "\n",
    "    \n",
    "- Out-degree: $W_{i+}=\\sum_{j} W_{i j}$ (row sums of $\\mathbf{W}$). **Represents:** extroverts, diffusers, suppliers\n",
    "<font> "
   ]
  },
  {
   "cell_type": "code",
   "execution_count": 26,
   "metadata": {},
   "outputs": [
    {
     "name": "stdout",
     "output_type": "stream",
     "text": [
      "Name: \n",
      "Type: Graph\n",
      "Number of nodes: 935\n",
      "Number of edges: 787\n",
      "Average degree:   1.6834\n"
     ]
    }
   ],
   "source": [
    "print(nx.info(G))"
   ]
  },
  {
   "cell_type": "code",
   "execution_count": null,
   "metadata": {},
   "outputs": [],
   "source": [
    "dc = nx.degree_centrality(G)"
   ]
  },
  {
   "cell_type": "code",
   "execution_count": null,
   "metadata": {},
   "outputs": [],
   "source": [
    "list(it.islice(dc.items(),5))"
   ]
  },
  {
   "cell_type": "code",
   "execution_count": null,
   "metadata": {},
   "outputs": [],
   "source": [
    "max_dc = max(dc.values())\n",
    "max_dck = [x for x, y in dc.items() if y == max_dc]"
   ]
  },
  {
   "cell_type": "code",
   "execution_count": null,
   "metadata": {},
   "outputs": [],
   "source": [
    "print('The maximum degree centrality is '+str(round(max_dc,2))+' corresponding to nodes '+str(max_dck))"
   ]
  },
  {
   "cell_type": "code",
   "execution_count": null,
   "metadata": {},
   "outputs": [],
   "source": [
    "degree = dict(G.degree())\n",
    "max_d = max(degree.values())\n",
    "max_dn = [x for x, y in degree.items() if y == max_d]"
   ]
  },
  {
   "cell_type": "code",
   "execution_count": null,
   "metadata": {},
   "outputs": [],
   "source": [
    "print('The maximum degree in the network is '+str(max_d))"
   ]
  },
  {
   "cell_type": "markdown",
   "metadata": {},
   "source": [
    "<font size=\"4\">\n",
    "\n",
    "⚠️**Empirical Fining:**\n",
    "    \n",
    "    \n",
    "- Authors 29 and 1965 are connected with 8 other scholars each, which as a fraction of a total of 1088 nodes, represents a degree centrality of approximately 0.01. We can access the information of the authors and potentially find out who they are.\n",
    "    \n",
    "    \n",
    "- From the information it is possible to infer that the scholar represented by the numbers 29 and 1963 are <font color=\"darkgreen\">Alberto Alesina</font> and <font color = \"darkgreen\">Thomas M. Humphrey</font> respectively.\n",
    "\n",
    "<font> "
   ]
  },
  {
   "cell_type": "code",
   "execution_count": null,
   "metadata": {},
   "outputs": [],
   "source": [
    "authors_char = pd.read_csv(path + '/sql/authors_char.csv')"
   ]
  },
  {
   "cell_type": "code",
   "execution_count": null,
   "metadata": {},
   "outputs": [],
   "source": [
    "authors_char[(authors_char.author == max_dck[0]) | (authors_char.author == max_dck[1])]"
   ]
  },
  {
   "cell_type": "markdown",
   "metadata": {},
   "source": [
    "<font size=\"4\">\n",
    "    \n",
    "**Limitations:**\n",
    "    \n",
    "    \n",
    "- This definition does not consider indirect connections.\n",
    "    \n",
    "    \n",
    "- Imagine scholars 29 and 1965 who have 8 connections each. But let's say that every neighbor of node 29 has only 1 connection, while the neighbors of 1965 have 8 connections each.\n",
    "    \n",
    "    \n",
    "- Scholar 29 would have **8 direct and 8 indirect** connections while 1965 would have **8 direct and 64 indirect** connections. \n",
    "    \n",
    "    \n",
    "- What node is then more important?\n",
    "    \n",
    "    \n",
    "<font>"
   ]
  },
  {
   "cell_type": "markdown",
   "metadata": {},
   "source": [
    "###  <span style=\"color:darkblue\">1.3 Eigenvalue Centrality </span> "
   ]
  },
  {
   "cell_type": "markdown",
   "metadata": {},
   "source": [
    "<font size=\"4\">\n",
    "\n",
    "- Proposed by Bonacich (1972) and Katz (1953).\n",
    "    \n",
    "\n",
    "- Recursively computes the centrality for a node based on the centrality of its neighbors.\n",
    "\n",
    "    \n",
    "    \n",
    "$$\\begin{array}{l}\n",
    "c_{i}^{\\mathrm{EC}}(\\mathbf{W}, \\phi)=\\phi \\sum_{j} c_{j}^{\\mathrm{EC}}(\\mathbf{W}, \\phi) W_{j i} \\\\\n",
    "\\mathbf{c}^{\\mathrm{EC}}(\\mathbf{W}, \\phi)=\\phi \\mathbf{c}^{\\mathrm{EC}}(\\mathbf{W}, \\phi) \\mathbf{W}\n",
    "\\end{array}\n",
    "$$\n",
    "\n",
    "\n",
    "    \n",
    "- Where $c_{i}^{\\mathrm{EC}}$ is the eigenvalue centrality of individual $i$ and $\\mathbf{c}^{\\mathrm{EC}}$ is a $n \\times 1$ vector of eigenvalue centrality.\n",
    "    \n",
    "    \n",
    "- The eigenvalue centrality is defined for $\\phi=1 / \\lambda_{max}$ where $\\lambda_{max}$ is the maximum eigenvalue of $\\mathbf{W}$, which guarantees a solution of $\\mathrm{c}^{\\mathrm{EC}}(\\mathbf{W}, \\phi)\\left[\\frac{1}{\\phi} I_{N}-\\mathrm{D}\\right]=0$  given by the left eigenvector associated with the largest eigenvalue of $\\mathbf{W}$.\n",
    "    \n",
    "    \n",
    "- If the normalization is done by $\\mathbf{D} = \\operatorname{diag}\\left\\{\\max \\left(1, W_{1+}\\right), \\ldots, \\max \\left(1, W_{N+}\\right)\\right\\}^{-1} \\times \\mathrm{W}$, then $\\mathbf{D}$ is row stochastic and the eigenvector centrality correspond to a stationary vector of a Markov chain.\n",
    "    \n",
    "    \n"
   ]
  },
  {
   "cell_type": "code",
   "execution_count": null,
   "metadata": {},
   "outputs": [],
   "source": [
    "ec = nx.eigenvector_centrality(G)"
   ]
  },
  {
   "cell_type": "code",
   "execution_count": null,
   "metadata": {},
   "outputs": [],
   "source": [
    "list(it.islice(ec.items(),5))"
   ]
  },
  {
   "cell_type": "code",
   "execution_count": null,
   "metadata": {},
   "outputs": [],
   "source": [
    "max_ec = max(ec.values())\n",
    "max_eck = [x for x, y in ec.items() if y == max_ec]"
   ]
  },
  {
   "cell_type": "code",
   "execution_count": null,
   "metadata": {},
   "outputs": [],
   "source": [
    "print('The maximum degree centrality is '+str(round(max_ec,4))+' corresponding to nodes '+str(max_eck))"
   ]
  },
  {
   "cell_type": "code",
   "execution_count": null,
   "metadata": {},
   "outputs": [],
   "source": [
    "print('This node has '+str(degree[1000])+' connections and '+str(round(dc[1000],2))+' degree centrlity')"
   ]
  },
  {
   "cell_type": "code",
   "execution_count": null,
   "metadata": {},
   "outputs": [],
   "source": [
    "print('Eigenvalue centrality for nodes 29 and 1965 '+str(round(ec[29],4)) +' and '+str(round(ec[1965],4)))"
   ]
  },
  {
   "cell_type": "code",
   "execution_count": null,
   "metadata": {},
   "outputs": [],
   "source": [
    "authors_char[(authors_char.author == max_eck[0])]"
   ]
  },
  {
   "cell_type": "code",
   "execution_count": null,
   "metadata": {},
   "outputs": [],
   "source": [
    "ec_df = pd.DataFrame(list(ec.items()),columns = ['scholar','ec']) \n",
    "ec_df.sort_values(by = ['ec'], ascending=False).head()[0:2]"
   ]
  },
  {
   "cell_type": "markdown",
   "metadata": {},
   "source": [
    "<font size=\"4\">\n",
    "\n",
    "⚠️**Empirical Fining:**\n",
    "\n",
    "Based on the Eigenvalue Centrality, scholars 1000 and 1332 are the most important in the network. The characteristics of this scholar together with his publication record, make possible to infer that <font color=\"darkgreen\">Joshua Angrist</font> is the author with the highest eigenvalue centrality, followed by <font color=\"darkgreen\">Michael Kremer</font>.\n",
    "    \n",
    "<font>"
   ]
  },
  {
   "cell_type": "markdown",
   "metadata": {},
   "source": [
    "###  <span style=\"color:darkblue\">1.4 Katz Centrality and the Social Multiplier </span> "
   ]
  },
  {
   "cell_type": "markdown",
   "metadata": {},
   "source": [
    "<font size=\"4\">\n",
    "\n",
    "- Computes the centrality for a node based on the centrality of its neighbors. It is a generalization of the eigenvector centrality. \n",
    "    \n",
    "\n",
    "$$c_{i}^{K}(\\alpha,\\beta, \\mathbf{W})=\\alpha + \\beta \\sum_{j \\neq i} W_{i j} c_{j}^{K}\\text{.}$$\n",
    "    \n",
    "    \n",
    "- The parameter $\\alpha$ controls the initial centrality and $\\beta<1/\\lambda_{\\text{max}}$.\n",
    "\n",
    "    \n",
    "- The relative influence of a node is given by the number of the immediate neighbors (first degree nodes) and also all other nodes in the network that connect to the node under consideration through these immediate neighbors.\n",
    "    \n",
    "    \n",
    "- The parameter $\\beta$ penalizes the distant connections. In matrix form the previous equation can be written as:\n",
    "    \n",
    "    \n",
    "$$\\mathbf{c}^{K}(\\alpha,\\beta, \\mathbf{W})=\\alpha\\iota_{n}^{\\prime}(\\mathbf{I}-\\beta\\mathbf{W})^{-1}\\text{.}$$\n",
    "    \n",
    "    \n",
    "\n",
    "- Where $(\\mathbf{I}-\\beta\\mathbf{W})^{-1} = \\sum_{k=0}^{\\infty} \\beta^{k} \\mathbf{W}^{k}$ for $\\beta<1/\\lambda_{\\text{max}}$ represents the attenuated effects of distant nodes. \n",
    "    \n",
    "    \n",
    "    \n",
    "**Relation with the Social Multiplier of a Quadratic complementarity Game (Jackson and Zenou, 2015).**\n",
    "\n",
    "    \n",
    "- Let $y_{i}$ be a continuously-valued action chosen by agent $i = 1, \\dots, n$, where $\\mathbf{y}$ is the associated vector of actions.\n",
    "    \n",
    "    \n",
    "- Agents are connected by a row normalized adjacency matrix $\\mathbf{D}$, so that $\\mathbf{D}_{i}\\mathbf{y} = \\sum_{j \\neq i} G_{i j} y_{j}$ represent the average actions of individual $i$'s connections \n",
    "  \n",
    "    \n",
    "- The payoff function includes complementarities: $u_{i}(\\mathbf{y} ; \\mathbf{W}) = \\left(\\alpha_{0}+U_{i}\\right) y_{i}-\\frac{1}{2} y_{i}^{2}+\\beta_{0}\\mathbf{D}_{i}\\mathbf{y} y_{i}$\n",
    "\n",
    "    \n",
    "- Where $U_{i}$ represents heterogeneity in payoffs. The best response function is given by\n",
    "   \n",
    "    \n",
    "$$y_{i}=\\alpha_{0}+\\beta_{0} \\sum_{j \\neq i} D_{i j} y_{j}+U_{i}$$\n",
    "\n",
    "    \n",
    "    \n",
    "- Which is equivalent to the definition of the Katz centrality plus a random component $U_{i}$. The matrix form is given by:\n",
    "    \n",
    "    \n",
    "$$\\mathbf{Y}=\\alpha_{0}\\left(I_{N}-\\beta_{0} \\mathbf{D}\\right)^{-1} \\iota_{N}+\\left(I_{N}-\\beta_{0} \\mathbf{D}\\right)^{-1} \\mathrm{U}$$\n",
    "    \n",
    "- So that a policy increasing agent $i$ value of $U_{i}$ will be amplified by a factor corresponding to the $i$th row of $\\iota\\left(I_{N}-\\beta_{0} \\mathbf{D}\\right)^{-1}$ on the equilibrium action vector.\n",
    "    \n",
    "    \n",
    "- The social multiplier is heterogeneous across agents, and depends on their centrality: $\\mathbf{c}^{SM}(\\mathbf{D}, \\beta)=\\iota_{n}^{\\prime}\\left(I_{N}-\\beta \\mathbf{G}\\right)^{-1}$\n",
    "    \n",
    "    \n",
    "- If the parameter $\\alpha$ in the Katz centrality equals one, and it is calculated using the normalized matrix $\\mathbf{D}$, then the social multiplier and the Katz centrality measures coincide. \n",
    "    "
   ]
  },
  {
   "cell_type": "code",
   "execution_count": null,
   "metadata": {},
   "outputs": [],
   "source": [
    "W = nx.to_numpy_array(G)\n",
    "sum_rows = W.sum(axis=1)\n",
    "D = W / sum_rows[:, np.newaxis]\n",
    "Id = np.identity(D.shape[0])"
   ]
  },
  {
   "cell_type": "code",
   "execution_count": null,
   "metadata": {},
   "outputs": [],
   "source": [
    "smc_list = np.linalg.solve(Id- 0.570*D, Id).sum(axis = 0)"
   ]
  },
  {
   "cell_type": "code",
   "execution_count": null,
   "metadata": {},
   "outputs": [],
   "source": [
    "smc = {list(G.nodes)[i]: smc_list[i] for i in range(len(G))} \n",
    "max_smc = max(smc.values())\n",
    "max_smck = [x for x, y in smc.items() if y == max_smc]"
   ]
  },
  {
   "cell_type": "code",
   "execution_count": null,
   "metadata": {},
   "outputs": [],
   "source": [
    "print('The maximum Social Multiplier centrality is '+str(round(max_smc,2))+' corresponding to nodes '+str(max_smck))"
   ]
  },
  {
   "cell_type": "code",
   "execution_count": null,
   "metadata": {},
   "outputs": [],
   "source": [
    "print('The Social Multiplier centrality of scholar 1000 is '+str(round(smc[1000],2))+' and for scholar 1965 it is '+str(round(smc[1965],2)))"
   ]
  },
  {
   "cell_type": "code",
   "execution_count": null,
   "metadata": {},
   "outputs": [],
   "source": [
    "smc_df = pd.DataFrame(list(smc.items()),columns = ['scholar','smc']) \n",
    "smc_df.sort_values(by = ['smc'], ascending=False).head()[0:2]"
   ]
  },
  {
   "cell_type": "markdown",
   "metadata": {},
   "source": [
    " <font size=\"4\">\n",
    "\n",
    "⚠️**Empirical Finding:**\n",
    "    \n",
    "Based on the Social Multiplier Centrality, scholars 29 and 1789 are the most important nodes in the network. As we saw, node 29 corresponds with <font color=\"darkgreen\">Alberto Alesina</font>, while node 1789 is <font color=\"darkgreen\">Steven D. Levitt</font>.\n",
    "    \n",
    " <font size=\"4\">"
   ]
  },
  {
   "cell_type": "markdown",
   "metadata": {},
   "source": [
    "###  <span style=\"color:darkblue\">1.5 Betweenness Centrality</span> "
   ]
  },
  {
   "cell_type": "markdown",
   "metadata": {},
   "source": [
    "<font size=\"4\">\n",
    "    \n",
    "Betweenness centrality of a node $i$ is the sum of the fraction of all-pairs shortest paths that pass through v:\n",
    "\n",
    "$$c_{BC}(i)=\\sum_{s, t \\in V} \\frac{\\sigma(s, t \\mid i)}{\\sigma(s, t)}$$\n",
    "\n",
    "Where $V$ is the set of nodes, $\\sigma(s, t)$ is the number of shortest $(s, t)$-paths, and $\\sigma(s, t \\mid i)$ is the number of those paths passing through some node $i$ other than $s$, $t$. If $s = t$, then $\\sigma(s, t) = 1$, and if $i \\in {s, t}$, then $\\sigma(s, t|v) = 0$.\n",
    "    \n",
    "<font>"
   ]
  },
  {
   "cell_type": "code",
   "execution_count": null,
   "metadata": {},
   "outputs": [],
   "source": [
    "bc = nx.betweenness_centrality(G)\n",
    "max_bc = max(bc.values())\n",
    "max_bck = [x for x, y in bc.items() if y == max_bc]"
   ]
  },
  {
   "cell_type": "code",
   "execution_count": null,
   "metadata": {},
   "outputs": [],
   "source": [
    "print('The maximum Social Multiplier centrality is '+str(round(max_bc,4))+' corresponding to nodes '+str(max_bck))"
   ]
  },
  {
   "cell_type": "code",
   "execution_count": null,
   "metadata": {},
   "outputs": [],
   "source": [
    "bc_df = pd.DataFrame(list(bc.items()),columns = ['scholar','bc']) \n",
    "bc_df.sort_values(by = ['bc'], ascending=False).head()[0:2]"
   ]
  },
  {
   "cell_type": "markdown",
   "metadata": {},
   "source": [
    "<font size=\"4\">\n",
    "\n",
    "⚠️**Empirical Finding:**\n",
    "    \n",
    "In this measure the <font color=\"darkgreen\">Daron Acemoglu</font> (node 336) leads followed by <font color=\"darkgreen\">Simon Johnson</font> (node 1748).\n",
    "    \n",
    "<font>"
   ]
  },
  {
   "cell_type": "markdown",
   "metadata": {},
   "source": [
    "##  <span style=\"color:darkblue\">2. Multilayer Networks </span> "
   ]
  },
  {
   "cell_type": "markdown",
   "metadata": {},
   "source": [
    "###  <span style=\"color:darkblue\">2.1 Basic Definitions </span> "
   ]
  },
  {
   "cell_type": "markdown",
   "metadata": {},
   "source": [
    "<font size=\"4\">\n",
    "\n",
    "A multilayer network is a pair $\\mathcal{M}=(\\mathcal{G}, \\mathcal{C})$, where\n",
    "    \n",
    "    \n",
    "- $\\mathcal{G}=\\left\\{G_{m} ; m \\in\\{1, \\ldots, M\\}\\right\\}$ is a set of graphs $G_{m}=\\left(V_{m}, E_{m}\\right)$.\n",
    "    \n",
    "\n",
    "- Each graph $m$ is formed by a set of nodes and a set of edges represented by $V_{m}$ and $E_{m}$ respectively.\n",
    "\n",
    "\n",
    "- The graphs in $\\mathcal{G}$ are allowed to be directed or undirected, weighted or unweighted but are assumed to not have self cycles.\n",
    "    \n",
    "\n",
    "- Let $\\mathcal{C}$ be the set of interconnections between nodes of different layers $G_m$ and $G_s$ with $m \\neq s$\n",
    "\n",
    "\n",
    "$$\\mathcal{C}=\\left\\{E_{m, s} \\subseteq V_{m} \\times V_{s} ; m, s \\in\\{1, \\ldots, M\\}, m \\neq s\\right\\}\\text{.}$$\n",
    "    \n",
    "\n",
    "- The set of edges $E_m$ are known as **intralayer connections** and the edges in $\\mathcal{C}$ are known as **Interlayer connections**.\n"
   ]
  },
  {
   "cell_type": "markdown",
   "metadata": {},
   "source": [
    "###  <span style=\"color:darkblue\">2.2 Network Visualization Using R using the articles networks</span> "
   ]
  },
  {
   "cell_type": "markdown",
   "metadata": {},
   "source": [
    "<font size=\"4\">\n",
    "\n",
    "The following visualizations use the R package ```igraph```"
   ]
  },
  {
   "cell_type": "code",
   "execution_count": null,
   "metadata": {},
   "outputs": [],
   "source": [
    "%load_ext rpy2.ipython"
   ]
  },
  {
   "cell_type": "code",
   "execution_count": null,
   "metadata": {},
   "outputs": [],
   "source": [
    "%%R\n",
    "options(warn=-1)\n",
    "library('igraph')\n",
    "library('haven')"
   ]
  },
  {
   "cell_type": "code",
   "execution_count": null,
   "metadata": {},
   "outputs": [],
   "source": [
    "%%R\n",
    "setwd('/home/data/stata') # Change this path for the location of .../data/stata in your local machine"
   ]
  },
  {
   "cell_type": "markdown",
   "metadata": {},
   "source": [
    "<font size=\"4\">\n",
    "\n",
    "1) Import data"
   ]
  },
  {
   "cell_type": "code",
   "execution_count": null,
   "metadata": {},
   "outputs": [],
   "source": [
    "%%R\n",
    "edges.co <- read_dta('edges.dta')\n",
    "edges.al <- read_dta('edges0.dta')\n",
    "\n",
    "nodes <- read_dta('articles.dta')"
   ]
  },
  {
   "cell_type": "markdown",
   "metadata": {},
   "source": [
    "<font size=\"4\">\n",
    "\n",
    "2) Create undirected networks based on the edge lists for the coauthors (```edges```) and alumni (```edges0```)"
   ]
  },
  {
   "cell_type": "code",
   "execution_count": null,
   "metadata": {},
   "outputs": [],
   "source": [
    "%%R\n",
    "coauthors <- graph_from_data_frame(d=edges.co, vertices=nodes, directed=F)\n",
    "alumni <- graph_from_data_frame(d=edges.al, vertices=nodes, directed=F)"
   ]
  },
  {
   "cell_type": "code",
   "execution_count": null,
   "metadata": {},
   "outputs": [],
   "source": [
    "%%R\n",
    "coauthors"
   ]
  },
  {
   "cell_type": "code",
   "execution_count": null,
   "metadata": {},
   "outputs": [],
   "source": [
    "%%R\n",
    "alumni"
   ]
  },
  {
   "cell_type": "markdown",
   "metadata": {},
   "source": [
    "<font size=\"4\">\n",
    "\n",
    "3) Drop isolated nodes from the coauthors and alumni networks to improve the aesthetics of the network visuals"
   ]
  },
  {
   "cell_type": "code",
   "execution_count": null,
   "metadata": {},
   "outputs": [],
   "source": [
    "%%R\n",
    "isolated.co <- which(degree(coauthors)==0)\n",
    "isolated.al <- which(degree(alumni)==0)\n",
    "\n",
    "coauthors <- delete.vertices(coauthors, isolated.co)\n",
    "alumni <- delete.vertices(alumni, isolated.al)"
   ]
  },
  {
   "cell_type": "markdown",
   "metadata": {},
   "source": [
    "<font size=\"4\">\n",
    "\n",
    "4) Define different colors for each journal where the paper was publish and include appropriate layouts"
   ]
  },
  {
   "cell_type": "code",
   "execution_count": null,
   "metadata": {},
   "outputs": [],
   "source": [
    "%%R\n",
    "colors <- c(\"tomato\", \"darkblue\", \"chartreuse3\", \"gold\")\n",
    "V(coauthors)$color <- colors[V(coauthors)$journal]\n",
    "V(alumni)$color <- colors[V(alumni)$journal]"
   ]
  },
  {
   "cell_type": "code",
   "execution_count": null,
   "metadata": {},
   "outputs": [],
   "source": [
    "%%R\n",
    "l <- layout_with_fr(alumni)\n",
    "l <- norm_coords(l, ymin=-1, ymax=1, xmin=-1, xmax=1)"
   ]
  },
  {
   "cell_type": "markdown",
   "metadata": {},
   "source": [
    "<font size=\"4\">\n",
    "\n",
    "5) Create a side-by-side plot with the two complete networks dividing nodes by journal"
   ]
  },
  {
   "cell_type": "code",
   "execution_count": null,
   "metadata": {},
   "outputs": [],
   "source": [
    "%%R\n",
    "options(repr.plot.width=20, repr.plot.height=20)\n",
    "\n",
    "par(mfrow=c(1,2), mar=c(0, 0, 0, 0), oma=c(0, 0, 0, 0))\n",
    "plot(coauthors,vertex.label=NA, vertex.size= 2, layout = layout_with_mds(coauthors))\n",
    "title(\"Coauthors Network\", line = -15) \n",
    "plot(alumni,vertex.label=NA, vertex.size= 2, layout = l)\n",
    "title(\"Alumni Network\", line = -15)\n",
    "\n",
    "legend(-2,-1.5, legend = c(\"AER\",\"ECA\", \"JPE\", \"QJE\"),  lwd = 5,xpd= \"NA\", col=colors, horiz = T,cex = 0.75)"
   ]
  },
  {
   "cell_type": "markdown",
   "metadata": {},
   "source": [
    "<font size=\"4\">\n",
    "    \n",
    "**Plot different graphs for each journal for the coauthors and alumni networks**"
   ]
  },
  {
   "cell_type": "markdown",
   "metadata": {},
   "source": [
    "<font size=\"4\">\n",
    "    \n",
    "1) Create a function to keep only nodes for one journal at a time"
   ]
  },
  {
   "cell_type": "code",
   "execution_count": null,
   "metadata": {},
   "outputs": [],
   "source": [
    "%%R\n",
    "exclude_nodes <- function(original, n1,n2,n3){\n",
    "    new.net <- delete.vertices(original, V(original)[V(original)$journal ==n1 | V(original)$journal ==n2 | V(original)$journal ==n3])\n",
    "    new.net.iso <- which(degree(new.net)==0)\n",
    "    new.net <- delete.vertices(new.net, new.net.iso)\n",
    "    V(new.net)$size <- V(new.net)$lcitations*1.5\n",
    "    return(new.net)\n",
    "}"
   ]
  },
  {
   "cell_type": "markdown",
   "metadata": {},
   "source": [
    "<font size=\"4\">\n",
    "\n",
    "2) Define smaller networks by journal"
   ]
  },
  {
   "cell_type": "code",
   "execution_count": null,
   "metadata": {},
   "outputs": [],
   "source": [
    "%%R\n",
    "net.aer <- exclude_nodes(coauthors, 2,3,4)\n",
    "net.eca <- exclude_nodes(coauthors, 1,3,4)\n",
    "net.jpe <- exclude_nodes(coauthors, 1,2,4)\n",
    "net.qje <- exclude_nodes(coauthors, 1,2,3)"
   ]
  },
  {
   "cell_type": "markdown",
   "metadata": {},
   "source": [
    "<font size=\"4\">\n",
    "    \n",
    "3) Create the side-by-side plot"
   ]
  },
  {
   "cell_type": "code",
   "execution_count": null,
   "metadata": {},
   "outputs": [],
   "source": [
    "%%R\n",
    "options(repr.plot.width=15, repr.plot.height=15)\n",
    "\n",
    "par(mfrow=c(2,2), mar=c(2, 0, 2, 0), oma=c(0, 0, 0, 0))\n",
    "plot(net.aer, vertex.label=NA, layout =  layout_with_kk(net.aer))\n",
    "title(\"Coauthors Network AER\", line = 0.5) \n",
    "plot(net.eca, vertex.label=NA, layout =  layout_with_kk(net.eca))\n",
    "title(\"Coauthors Network ECA\", line = 0.5) \n",
    "plot(net.jpe, vertex.label=NA, layout =  layout_with_kk(net.jpe))\n",
    "title(\"Coauthors Network JPE\", line = 0.5) \n",
    "plot(net.qje, vertex.label=NA, layout =  layout_with_kk(net.qje))\n",
    "title(\"Coauthors Network QJE\", line = 0.5) "
   ]
  },
  {
   "cell_type": "markdown",
   "metadata": {},
   "source": [
    "<font size=\"4\">\n",
    "    \n",
    "4) Same process for alumni network"
   ]
  },
  {
   "cell_type": "code",
   "execution_count": null,
   "metadata": {},
   "outputs": [],
   "source": [
    "%%R\n",
    "net.aer.a <- exclude_nodes(alumni, 2,3,4)\n",
    "net.eca.a <- exclude_nodes(alumni, 1,3,4)\n",
    "net.jpe.a <- exclude_nodes(alumni, 1,2,4)\n",
    "net.qje.a <- exclude_nodes(alumni, 1,2,3)"
   ]
  },
  {
   "cell_type": "code",
   "execution_count": null,
   "metadata": {},
   "outputs": [],
   "source": [
    "%%R\n",
    "options(repr.plot.width=15, repr.plot.height=15)\n",
    "par(mfrow=c(2,2), mar=c(2, 0, 2, 0), oma=c(0, 0, 0, 0))\n",
    "plot(net.aer.a, vertex.label=NA, layout =  layout_with_kk(net.aer.a))\n",
    "title(\"Alumi Network AER\", line = 0.5) \n",
    "plot(net.eca.a, vertex.label=NA, layout =  layout_with_kk(net.eca.a))\n",
    "title(\"Alumi Network ECA\", line = 0.5) \n",
    "plot(net.jpe.a, vertex.label=NA, layout =  layout_with_kk(net.jpe.a))\n",
    "title(\"Alumi Network JPE\", line = 0.5) \n",
    "plot(net.qje.a, vertex.label=NA, layout =  layout_with_kk(net.qje.a))\n",
    "title(\"Alumi Network QJE\", line = 0.5) "
   ]
  },
  {
   "cell_type": "markdown",
   "metadata": {},
   "source": [
    "<font size=\"4\">\n",
    "    \n",
    "**Construct Multilayer Visualization**"
   ]
  },
  {
   "cell_type": "markdown",
   "metadata": {},
   "source": [
    "<font size=\"4\">\n",
    "  \n",
    "    \n",
    "- The previous network visualizations are all constructed with ```igraph```. The platform ```muxviz``` (http://muxviz.net/index.php), offers powerful tools to visualize and perform multilayer network analysis.\n",
    "    \n",
    "    \n",
    "    \n",
    "- MuxViz is based on R and Octave. Its installation requires local copies of R, Rtools, Octave and Java.\n",
    "    \n",
    "    \n",
    "    \n",
    "- The following is a plot of the multiplex network form by the alumni and coauthors connections.\n",
    "    \n",
    "    "
   ]
  },
  {
   "cell_type": "markdown",
   "metadata": {},
   "source": [
    "![alt text](multilayer.png \"Title\")"
   ]
  },
  {
   "cell_type": "markdown",
   "metadata": {},
   "source": [
    "<span style=\"color:darkblue\">\n",
    "    \n",
    "### 2.3 Multilayer Network Statistics Using ```muxviz``` "
   ]
  },
  {
   "cell_type": "markdown",
   "metadata": {},
   "source": [
    "<font size=\"4\">\n",
    "    \n",
    "**Correlation Analysis:**\n",
    "    \n",
    "- Similar to what happens in standard statistics, when going from monolayer to multilayer network systems, it is relevant to calculate statistics summarizing the strength of the dependence between the network structures. Given the complexity of these objects, there are different aspects that can be consider when measuring correlation. Some important metrics are:\n",
    "    \n",
    "1. *Mean global node overlapping:* measures the fraction of node which are common to all layers (i.e., non-isolated).\n",
    "    \n",
    "2. *Mean global edge overlapping:* measures the fraction of edges which are common to all layers. \n",
    "    \n",
    "3. *Inter-layer assortativity (Pearson):* calculates the Pearson correlation coefficient between the degree of the nodes across different layers.\n",
    "\n",
    "4. *Inter-layer similarity by shortest-path distance between nodes:* calculate the shortest path between the all pairs of nodes in each layer separately. The resulting distance matrices are compared by using the Frobenius distance. \n",
    "    \n",
    "<font>"
   ]
  },
  {
   "cell_type": "markdown",
   "metadata": {},
   "source": [
    "<font size=\"4\">\n",
    "    \n",
    "⚠️**Empirical Finding:**\n",
    "\n",
    "The coauthors and alumni networks present a relatively high correlation in terms of non-isolated nodes and degree similarity. The results of the mean global node overlapping and the inter-layer assortativity are 0.458 and 0.35. However, when the correlation analysis is performed based on edges in common or similar shortest paths, the resulting correlation values are low. The mean global edge overlapping and inter-layer similarity by shortest-path distance measures show correlations of 0.025 and approximately zero respectively.\n",
    "\n",
    "<font>"
   ]
  },
  {
   "cell_type": "markdown",
   "metadata": {},
   "source": [
    "<font size=\"4\">\n",
    "    \n",
    "**Centrality Measures:**\n",
    "    \n",
    "The previous measures of centrality can be extended to the Multilayer case by considering the normalized version of \n",
    "    \n",
    "$$\\widetilde{\\mathbf{W}} = \\sum_{m=1}^{M}\\mathbf{W}_{m}$$\n",
    "    \n",
    "where $\\mathbf{W}_{m}$ is the adjacency matrix of the layer $m$. Therefore, the matrix $\\widetilde{\\mathbf{W}}$ considers all possible edges defined between two nodes in the multilayer network. \n",
    "    \n",
    "- The multiltiplexity centrality is defined as the proportion of layers in which is node is present. Because in this case we only have two layer, the multiplexity centrality is not interesting and it is excluded from the analysis.\n",
    "    \n",
    "- The following two plots show the top 5 most central articles in economics defined by degree and eigenvector centrality.\n",
    "    \n",
    "    \n",
    "⚠️**Empirical Finding:**"
   ]
  },
  {
   "cell_type": "markdown",
   "metadata": {},
   "source": [
    "![alt text](degree.png \"Title\")"
   ]
  },
  {
   "cell_type": "markdown",
   "metadata": {},
   "source": [
    "![alt text](eigenvector.png \"Title\")"
   ]
  },
  {
   "cell_type": "markdown",
   "metadata": {},
   "source": [
    "<font size=\"4\">\n",
    "\n",
    "**Most central articles by degree:**\n",
    "    \n",
    "- Article 538: \"Moving to Opportunity in Boston: Early Results of a Randomized Mobility Experiment\" by Lawrence F. Katz, Jeffrey R. Kling and Jeffrey B. Liebman.\n",
    "    \n",
    "    \n",
    "- Article 253: \"Vouchers for Private Schooling in Colombia: Evidence from a Randomized Natural Experiment\" by By Joshua Angrist, Eric Bettinger, Erik Bloom, Elizabeth King, Michael Kremer\n",
    "    \n",
    "    \n",
    "**Most central articles by eigenvector:**\n",
    "\n",
    "\n",
    "- Article 409: \"Information Technology, Workplace Organization, and the Demand for Skilled Labor: Firm-Level Evidence\" by Timothy F. Bresnahan, Erik Brynjolfsson and Lorin M. Hitt\n",
    "\n",
    "    \n",
    "- Article 639: \"Measuring Trust\" by Edward L. Glaeser, David I. Laibson, Jose A. Scheinkman and Christine L. Soutter\n"
   ]
  },
  {
   "cell_type": "markdown",
   "metadata": {},
   "source": [
    "<font size=\"4\">\n",
    "\n",
    "**Path and distances:**\n",
    "    \n",
    "Finally, the next two plots present the mean path length and the diameter for the two layers of our empirical multilayer network (see ```pres_4``` for definitions of paths and diameters in the monolayer case)."
   ]
  },
  {
   "cell_type": "markdown",
   "metadata": {},
   "source": [
    "![alt text](path.png \"Title\")"
   ]
  },
  {
   "cell_type": "markdown",
   "metadata": {},
   "source": [
    "![alt text](diameter.png \"Title\")"
   ]
  }
 ],
 "metadata": {
  "interpreter": {
   "hash": "0a6894f133d53440615d68604e26ec7f97a67335546363c9796937c98d80f456"
  },
  "kernelspec": {
   "display_name": "Python 3.9.0 ('multilayer')",
   "language": "python",
   "name": "python3"
  },
  "language_info": {
   "codemirror_mode": {
    "name": "ipython",
    "version": 3
   },
   "file_extension": ".py",
   "mimetype": "text/x-python",
   "name": "python",
   "nbconvert_exporter": "python",
   "pygments_lexer": "ipython3",
   "version": "3.9.0"
  }
 },
 "nbformat": 4,
 "nbformat_minor": 4
}
