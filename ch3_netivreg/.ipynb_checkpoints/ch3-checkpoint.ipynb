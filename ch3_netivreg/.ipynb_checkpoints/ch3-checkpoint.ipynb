{
 "cells": [
  {
   "cell_type": "markdown",
   "id": "ebd76dad",
   "metadata": {},
   "source": [
    "# <span style=\"color:darkblue\">netivreg: Estimation of Peer Efects in Endogenous Social Networks</span> \n",
    "\n",
    "Pablo Estrada, Juan Estrada, Kim P. Huynh, David T. Jacho-Chavez and Leonardo Sanchez-Aragon"
   ]
  },
  {
   "cell_type": "markdown",
   "id": "d82e44e0",
   "metadata": {},
   "source": [
    "<font size=\"3\"> \n",
    "    \n",
    "The command **netivreg** implements the following estimators for endogenous linear-in-means models:\n",
    "    \n",
    "- Generalized Two-Stage Least Squares (G2SLS)\n",
    "- Generalized Three-Stage Least Squares (G3SLS)\n",
    "- Generalized Method of Moments (GMM)"
   ]
  },
  {
   "cell_type": "markdown",
   "id": "2f8a1fa9",
   "metadata": {},
   "source": [
    "# Start Stata from Python"
   ]
  },
  {
   "cell_type": "code",
   "execution_count": null,
   "id": "bc4ae68f",
   "metadata": {},
   "outputs": [],
   "source": [
    "import stata_setup\n",
    "#stata_setup.config('/Applications/Stata','mp')   # for macOS\n",
    "stata_setup.config('/usr/local/stata17','mp')   # for ubuntu"
   ]
  },
  {
   "cell_type": "markdown",
   "id": "c46a3948",
   "metadata": {
    "tags": []
   },
   "source": [
    "# Simulated Data"
   ]
  },
  {
   "cell_type": "markdown",
   "id": "0dd18bd8",
   "metadata": {},
   "source": [
    "<font size=\"3\"> \n",
    "    \n",
    "We use the following version of the linear-in-means model:\n",
    "\n",
    "$$\n",
    "\\begin{align}\n",
    "y_{i}=&1+0.7\\sum_{j=1}^n\\overline{w}_{ij}y_{j}+0.33\\sum_{j=1}^n\\overline{w}_{ij}x_{1i}+0.33\\sum_{j=1}^n\\overline{w}_{ij}x_{2i}+0.33\\sum_{j=1}^n\\overline{w}_{ij}x_{3i}\\nonumber\\\\ \n",
    " &+0.33x_{1i}+0.33x_{2i}+0.33x_{3i}+v_{i}\\text{,}\\label{sim_equation}\n",
    "\\end{align}\n",
    "$$\n",
    "\n",
    "where $x_{ki}$ are drawn from an i.i.d. $\\sim N(0,3)$ for $k=1,2,3$, which are independent of each other. The weights $\\overline{w}_{ij}$ are row-normalized versions of the adjacency matrix $\\mathbf{W}=[w_{ij}]$, i.e., $\\overline{w}_{ij}=w_{ij}/\\sum_{j=1}^n w_{ij}$. \n",
    "    \n",
    "The $\\mathbf{W}$ adjacency matrix is generated from $\\mathbf{W}_0=[w_{0;ij}]$ which in turn is generated from random graph with a density of 0.01."
   ]
  },
  {
   "cell_type": "code",
   "execution_count": null,
   "id": "036f5220",
   "metadata": {},
   "outputs": [],
   "source": [
    "%%stata\n",
    "use ../data/stata/data_sim.dta, replace\n",
    "format y_endo y_exo x1 x2 x3 x4 %9.3f\n",
    "list in 1/5, table "
   ]
  },
  {
   "cell_type": "code",
   "execution_count": null,
   "id": "6b280b86",
   "metadata": {},
   "outputs": [],
   "source": [
    "%%stata\n",
    "use ../data/stata/W_sim.dta, replace\n",
    "list in 113/117, table "
   ]
  },
  {
   "cell_type": "code",
   "execution_count": null,
   "id": "73e56c27",
   "metadata": {},
   "outputs": [],
   "source": [
    "%%stata\n",
    "use ../data/stata/W0_sim.dta, replace\n",
    "list in 113/117, table "
   ]
  },
  {
   "cell_type": "markdown",
   "id": "fbcdad35",
   "metadata": {},
   "source": [
    "# 1. G2SLS"
   ]
  },
  {
   "cell_type": "markdown",
   "id": "2d053e97",
   "metadata": {},
   "source": [
    "## 1.1. Assumptions\n",
    "\n",
    "<br>\n",
    "\n",
    "<font size=\"3\">\n",
    "\n",
    "1. No correlated effects: $\\mathbb{E}[\\mathbf{v}|\\mathbf{X}, \\mathbf{W}] = 0$\n",
    "    \n",
    "2. Relevance: $\\mathbf{I}$, $\\mathbf{W}$, $\\mathbf{W}^{2}$ and $\\gamma\\beta + \\delta \\neq 0$"
   ]
  },
  {
   "cell_type": "markdown",
   "id": "5a8f52e0",
   "metadata": {},
   "source": [
    "## 1.2. Estimation\n",
    "\n",
    "<br>\n",
    "\n",
    "<font size=\"3\">\n",
    "\n",
    "- **Step 1:**\n",
    "    \n",
    "Regress $\\mathbf{y}$ on $\\boldsymbol{\\iota}$, $\\mathbf{X}$, $\\mathbf{W}\\mathbf{y}$, and $\\mathbf{W}\\mathbf{X}$ by 2SLS using $\\boldsymbol{\\iota}$, $\\mathbf{X}$, $\\mathbf{W}^{2}\\mathbf{X}$, and $\\mathbf{W}\\mathbf{X}$ as instruments. \n",
    "    \n",
    "- **Step 2:**\n",
    "\n",
    "Regress $\\mathbf{y}$ on $\\boldsymbol{\\iota}$, $\\mathbf{X}$, and $[\\widehat{\\mathbf{W}\\mathbf{y}} \\quad \\widehat{\\mathbf{W}\\mathbf{X}}]$ by IV using $\\boldsymbol{\\iota}$, $\\mathbf{X}$, and $[\\widehat{\\mathbf{Z}} \\quad \\widehat{\\mathbf{W}\\mathbf{X}}]$ as instruments, where $\\widehat{\\mathbf{Z}}$ is the optimal instrument."
   ]
  },
  {
   "cell_type": "code",
   "execution_count": null,
   "id": "1c6b876e",
   "metadata": {},
   "outputs": [],
   "source": [
    "%%stata\n",
    "use ../data/stata/data_sim.dta, replace\n",
    "frame create edges\n",
    "frame edges: use ../data/stata/W_sim.dta\n",
    "netivreg g3sls y_exo x1 x2 x3 x4 (edges = edges) "
   ]
  },
  {
   "cell_type": "code",
   "execution_count": null,
   "id": "59ed183b",
   "metadata": {},
   "outputs": [],
   "source": [
    "%%stata\n",
    "netivreg g3sls y_endo x1 x2 x3 x4 (edges = edges) "
   ]
  },
  {
   "cell_type": "markdown",
   "id": "9e138ad4",
   "metadata": {},
   "source": [
    "# 2. G3SLS"
   ]
  },
  {
   "cell_type": "markdown",
   "id": "3c41966b",
   "metadata": {},
   "source": [
    "## 2.1. Assumptions\n",
    "\n",
    "<br>\n",
    "\n",
    "<font size=\"3\">\n",
    "\n",
    "1. No correlated effects: $\\mathbb{E}[\\mathbf{v}|\\mathbf{X}, \\mathbf{W}_0] = 0$\n",
    "    \n",
    "2. Relevance: Relevance: $\\mathbf{I}$, $\\mathbf{W}_{0}$, $\\mathbf{W}_{0}^{2}$ and $\\gamma\\boldsymbol{\\pi}_{1}^{\\top}\\theta+\\boldsymbol{\\pi}_{2}^{\\top}\\theta \\neq 0$"
   ]
  },
  {
   "cell_type": "markdown",
   "id": "b4e8755f",
   "metadata": {},
   "source": [
    "## 2.2. Estimation\n",
    "\n",
    "<br>\n",
    "\n",
    "<font size=\"3\">\n",
    "\n",
    "- **Step 1:**\n",
    "\n",
    "Regress $\\mathbf{W}\\mathbf{S}$ on $\\mathbf{W}_0\\mathbf{S}$ by OLS. Get $\\widehat{\\mathbf{W}\\mathbf{S}}$ and $\\widehat{\\mathbf{U}}$.\n",
    "    \n",
    "    \n",
    "    \n",
    "- **Step 2:**\n",
    "    \n",
    "    \n",
    "Regress $\\mathbf{y}$ on $\\boldsymbol{\\iota}$, $\\mathbf{X}$, $\\mathbf{W}_{0}\\mathbf{y}$, and $\\mathbf{W}_{0}\\mathbf{X}$ by 2SLS using $\\boldsymbol{\\iota}$, $\\mathbf{X}$, $\\mathbf{W}_{0}^{2}\\mathbf{X}$, and $\\mathbf{W}_{0}\\mathbf{X}$ as instruments. From the equation \n",
    "    \n",
    "    \n",
    "$$\\widehat{\\alpha}_{\\text{2SLS}}\\boldsymbol{\\iota}+\\widehat{\\theta}^\\ast_{\\text{2SLS}}\\mathbf{W}_{0}\\mathbf{S}+\\widehat{\\gamma}_{\\text{2SLS}}\\mathbf{X},$$\n",
    "    \n",
    "    \n",
    "    \n",
    "get the parameters $[\\widehat{\\alpha}_{\\text{2SLS}},\\widehat{\\gamma}_{\\text{2SLS}},\\widehat{\\theta}_{\\text{2SLS}}]^{\\top}$ where $\\widehat{\\boldsymbol{\\theta}}_{\\text{2SLS}} = \\widehat{\\Pi}^{-1}\\widehat{\\theta}^\\ast_{\\text{2SLS}}$.\n",
    "    \n",
    "    \n",
    "- **Step 3:**\n",
    "    \n",
    "    \n",
    "\n",
    "Regress $\\mathbf{y}$ on $\\boldsymbol{\\iota}$, $\\mathbf{X}$, and $\\widehat{\\mathbf{W}\\mathbf{S}}$ by IV using $\\boldsymbol{\\iota}$, $\\mathbf{X}$, and $[\\widehat{\\mathbf{Z}}\\quad \\mathbf{W}_{0}\\mathbf{X}]\\widehat{\\boldsymbol{\\Pi}}$ as instruments, where $\\widehat{\\mathbf{Z}}=\\mathbf{W}_{0}\\left(\\mathbf{I}-(\\widehat{\\boldsymbol{\\pi}}_1^\\top\\widehat{\\boldsymbol{\\theta}}_{\\text{2SLS}})\\mathbf{W}_{0}\\right)^{-1}\\left\\{\\widehat{\\alpha}_{\\text{2SLS}}\\boldsymbol{\\iota}+\\left(\\widehat{\\gamma}_{\\text{2SLS}}\\mathbf{I}+(\\widehat{\\boldsymbol{\\pi}}_2^\\top\\widehat{\\boldsymbol{\\theta}}_{\\text{2SLS}})\\mathbf{W}_{0}\\right)\\mathbf{X}\\right\\}$. From the equation\n",
    "    \n",
    "    \n",
    "    \n",
    "$$\\widehat{\\alpha}_{\\text{G3SLS}}\\boldsymbol{\\iota}+\\widehat{\\theta}_{\\text{G3SLS}}\\mathbf{W}\\mathbf{S}+\\widehat{\\gamma}_{\\text{G3SLS}}\\mathbf{X},$$\n",
    "    \n",
    "    \n",
    "    \n",
    "get the parameters $[\\widehat{\\alpha}_{\\text{G3SLS}},\\widehat{\\gamma}_{\\text{G3SLS}},\\widehat{\\beta}_{\\text{G3SLS}},\\widehat{\\delta}_{\\text{G3SLS}}]^{\\top}$ and the residuals $\\widehat{\\mathbf{v}}\\equiv\\mathbf{y}-\\widehat{\\alpha}_{\\text{G3SLS}}\\boldsymbol{\\iota}-\\widehat{\\gamma}_{\\text{G3SLS}}\\mathbf{X}-\\widehat{\\beta}_{\\text{G3SLS}}\\mathbf{W}\\mathbf{y}-\\widehat{\\delta}_{\\text{G3SLS}}\\mathbf{W}\\mathbf{X}$."
   ]
  },
  {
   "cell_type": "code",
   "execution_count": null,
   "id": "6a15904d",
   "metadata": {},
   "outputs": [],
   "source": [
    "%%stata\n",
    "frame create edges0\n",
    "frame edges0: use ../data/stata/W0_sim.dta\n",
    "netivreg g3sls y_endo x1 x2 x3 x4 (edges = edges0)"
   ]
  },
  {
   "cell_type": "code",
   "execution_count": null,
   "id": "77bca7cc",
   "metadata": {},
   "outputs": [],
   "source": [
    "%%stata\n",
    "netivreg g3sls y_endo x1 x2 x3 x4 (edges = edges0), first"
   ]
  },
  {
   "cell_type": "code",
   "execution_count": null,
   "id": "08f71862",
   "metadata": {},
   "outputs": [],
   "source": [
    "%%stata\n",
    "netivreg g3sls y_endo x1 x2 x3 x4 (edges = edges0), second"
   ]
  },
  {
   "cell_type": "markdown",
   "id": "f46f6e48",
   "metadata": {},
   "source": [
    "# 3. GMM"
   ]
  },
  {
   "cell_type": "markdown",
   "id": "f93fa637",
   "metadata": {},
   "source": [
    "## 3.1. Assumptions\n",
    "\n",
    "<br>\n",
    "\n",
    "<font size=\"3\">\n",
    "    \n",
    "We define the matrices $\\mathbf{D}=[\\mathbf{W}\\mathbf{y}, \\mathbf{W}\\mathbf{X}, \\widetilde{\\mathbf{X}}]$ to be the matrix of regressors of the linear-in-means model and $\\mathbf{Z}=[\\mathbf{W}_{N,0}^{p}\\mathbf{X},\\mathbf{W}_{N,0}^{p-1}\\mathbf{X},\\dots,\\mathbf{W}_{N,0}\\mathbf{X}, \\widetilde{\\mathbf{X}}]$ to be the matrix of *instruments*.\n",
    "\n",
    "1. No correlated effects: $\\mathbb{E}[\\mathbf{v}|\\mathbf{X}, \\mathbf{W}_0] = 0$    \n",
    "2. the conditional probability $\\mathcal{F}(\\mathcal{G}, \\mathbf{v}\\mid \\mathcal{G}_{0},\\mathbf{X})$ is such that $\\Pr(w_{i,j}>0|\\mathcal{G}_{0},\\mathbf{X})=\\rho(w_{0;i,j},\\mathcal{G}_{0},\\mathbf{X},\\mathbf{v})$\n",
    "3. The matrix $\\mathbb{E}[\\sum_{i \\in \\mathcal{I}_{N}}\\mathbf{z}_{i}\\mathbf{d}_{i}^{\\top}]<\\infty$ has full column rank."
   ]
  },
  {
   "cell_type": "markdown",
   "id": "82d51f48",
   "metadata": {},
   "source": [
    "## 3.2. Estimation\n",
    "\n",
    "<br>\n",
    "\n",
    "<font size=\"3\">\n",
    "\n",
    "Standard linear GMM estimator:\n",
    "\n",
    "$$\\widehat{\\boldsymbol{\\psi}}_{\\text{GMM}} =  [\\mathbf{D}_{n}^{\\top}\\mathbf{Z}_{n}\\mathbf{A}_{n} \\mathbf{Z}_{n}^{\\top}\\mathbf{D}_{n}]^{-1} [\\mathbf{D}_{n}^{\\top}\\mathbf{Z}_{n}\\mathbf{A}_{n}\\mathbf{Z}_{n}^{\\top}\\mathbf{y}_{n}]$$\n",
    "\n",
    "where the full rank weighting matrix $\\mathbf{A}_{n}$ is assumed to converge in probability to $\\mathbf{A}$"
   ]
  },
  {
   "cell_type": "code",
   "execution_count": null,
   "id": "dd212ea2",
   "metadata": {},
   "outputs": [],
   "source": [
    "%%stata\n",
    "netivreg gmm y_endo x1 x2 x3 x4 (edges = edges0)"
   ]
  },
  {
   "cell_type": "markdown",
   "id": "0d98df87",
   "metadata": {},
   "source": [
    "# Real Data"
   ]
  },
  {
   "cell_type": "code",
   "execution_count": null,
   "id": "cd44ee2b",
   "metadata": {},
   "outputs": [],
   "source": [
    "%%stata\n",
    "use data/articles.dta, replace\n",
    "describe"
   ]
  },
  {
   "cell_type": "code",
   "execution_count": null,
   "id": "5ccbbaec",
   "metadata": {},
   "outputs": [],
   "source": [
    "%%stata\n",
    "gen citations = exp(lcitations)\n",
    "tabulate journal year, summarize(citations)"
   ]
  },
  {
   "cell_type": "code",
   "execution_count": null,
   "id": "5d0c0f2f",
   "metadata": {},
   "outputs": [],
   "source": [
    "%%stata\n",
    "summarize editor diff_gender isolated n_pages n_authors n_references"
   ]
  },
  {
   "cell_type": "code",
   "execution_count": null,
   "id": "ea791139",
   "metadata": {},
   "outputs": [],
   "source": [
    "%%stata\n",
    "frame reset\n",
    "frame create edges\n",
    "frame edges: use data/edges.dta\n",
    "frame edges: list in 1/5, table "
   ]
  },
  {
   "cell_type": "code",
   "execution_count": null,
   "id": "4d935b90",
   "metadata": {},
   "outputs": [],
   "source": [
    "%%stata\n",
    "frame create edges0\n",
    "frame edges: use data/edges0.dta\n",
    "frame edges: list in 1/5, table "
   ]
  },
  {
   "cell_type": "code",
   "execution_count": null,
   "id": "b6a75acf",
   "metadata": {},
   "outputs": [],
   "source": [
    "%%stata\n",
    "use data/articles.dta\n",
    "tabulate journal, g(journal)\n",
    "tabulate year, g(year)"
   ]
  },
  {
   "cell_type": "markdown",
   "id": "c8291bcb",
   "metadata": {},
   "source": [
    "## Real Data Analysis \n",
    "\n",
    "<br>\n",
    "\n",
    "<font size=\"3\">\n",
    "    \n",
    "    \n",
    "$$\n",
    "\\begin{align}\n",
    "  y_{i,r,t} ={}&\\alpha+\\beta\\sum_{j \\neq i}w_{i,j}y_{j,r,t}+\\sum_{j \\neq i}w_{i,j}\\mathbf{x}_{j,r,t}^{\\top}\\boldsymbol{\\delta}+ \\mathbf{x}_{i,r,t}^{\\top}\\boldsymbol{\\gamma}\\nonumber\\\\\n",
    "  & +\\lambda_{r}+\\lambda_{t}+v_{i,r,t}\\text{,}\n",
    "  \\label{modelo}\n",
    "\\end{align}\n",
    "$$\n",
    "\n",
    "- $y_{i,r,t}$ represents the natural logarithm of article $i$'s citations eight years post publication (lcitations) in journal $r$ in year $t$.\n",
    "- $\\mathbf{x}_{j,r,t}$ includes diff_gender and editor of article $j$ in journal $r$ in year $t$.\n",
    "- $\\mathbf{x}_{i,r,t}$ include the same characteristics for article $i$ plus its number of pages (n_pages), authors (n_authors), bibliographic references (n_references), and whether or not it shares a co-author relationship with other articles (isolated).\n",
    "- Fixed effects include journal ($\\lambda_{r}$) and year ($\\lambda_t$).\n",
    "- Co-authors' network ($\\mathbf{W}$) is endogenous and the alumni network ($\\mathbf{W_0}$) is pre-determined and is therefore assumed to be exogenous."
   ]
  },
  {
   "cell_type": "code",
   "execution_count": null,
   "id": "9d6cd3de-4dfe-48d0-8389-d246002e0e90",
   "metadata": {},
   "outputs": [],
   "source": [
    "%%stata\n",
    "use ../data/stata/articles.dta, replace\n",
    "describe"
   ]
  },
  {
   "cell_type": "code",
   "execution_count": null,
   "id": "af4d08fa-313d-49e8-b96d-05effe9c942f",
   "metadata": {},
   "outputs": [],
   "source": [
    "%%stata\n",
    "gen citations = exp(lcitations)\n",
    "tabulate journal year, summarize(citations)"
   ]
  },
  {
   "cell_type": "code",
   "execution_count": null,
   "id": "89fd074e-ecc8-4501-8b2e-618243d43136",
   "metadata": {},
   "outputs": [],
   "source": [
    "%%stata\n",
    "summarize editor diff_gender isolated n_pages n_authors n_references"
   ]
  },
  {
   "cell_type": "code",
   "execution_count": null,
   "id": "a5093a0a-8deb-423e-a436-77ea0290086c",
   "metadata": {},
   "outputs": [],
   "source": [
    "%%stata\n",
    "frame create edges1\n",
    "frame edges1: use ../data/stata/edges.dta\n",
    "frame edges1: list in 1/5, table "
   ]
  },
  {
   "cell_type": "code",
   "execution_count": null,
   "id": "18a3ae5c-16a0-4e06-9c23-38097d5457e7",
   "metadata": {},
   "outputs": [],
   "source": [
    "%%stata\n",
    "frame create edges2\n",
    "frame edges2: use ../data/stata/edges0.dta\n",
    "frame edges2: list in 1/5, table "
   ]
  },
  {
   "cell_type": "code",
   "execution_count": null,
   "id": "0c118a8a-d6a5-4284-a045-8707ac30023f",
   "metadata": {},
   "outputs": [],
   "source": [
    "%%stata\n",
    "use ../data/stata/articles.dta, replace\n",
    "tabulate journal, g(journal)\n",
    "tabulate year, g(year)"
   ]
  },
  {
   "cell_type": "code",
   "execution_count": null,
   "id": "78308e04-2888-4ce4-b540-427fed480e09",
   "metadata": {},
   "outputs": [],
   "source": [
    "%%stata\n",
    "netivreg g3sls lcitations editor diff_gender n_pages n_authors n_references ///\n",
    "isolated journal2-journal4 year2-year3 (edges1 = edges2), ///\n",
    "wx(editor diff_gender) cluster(c_coauthor)"
   ]
  },
  {
   "cell_type": "code",
   "execution_count": null,
   "id": "3ec0aeca",
   "metadata": {},
   "outputs": [],
   "source": [
    "%%stata\n",
    "netivreg gmm lcitations editor diff_gender n_pages n_authors n_references /// \n",
    "isolated journal2-journal4 year2-year3 (edges1 = edges2), wx(editor diff_gender) ///\n",
    "wz(editor diff_gender n_pages n_authors n_references isolated) maxp(4)"
   ]
  }
 ],
 "metadata": {
  "kernelspec": {
   "display_name": "Python 3 (ipykernel)",
   "language": "python",
   "name": "python3"
  },
  "language_info": {
   "codemirror_mode": {
    "name": "ipython",
    "version": 3
   },
   "file_extension": ".py",
   "mimetype": "text/x-python",
   "name": "python",
   "nbconvert_exporter": "python",
   "pygments_lexer": "ipython3",
   "version": "3.9.7"
  }
 },
 "nbformat": 4,
 "nbformat_minor": 5
}
