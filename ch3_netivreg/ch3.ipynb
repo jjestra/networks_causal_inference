{
 "cells": [
  {
   "cell_type": "markdown",
   "id": "ebd76dad",
   "metadata": {},
   "source": [
    "# <span style=\"color:darkblue\">netivreg: Estimation of Peer Efects in Endogenous Social Networks</span> \n",
    "\n",
    "Pablo Estrada, Juan Estrada, Kim P. Huynh, David T. Jacho-Chavez and Leonardo Sanchez-Aragon"
   ]
  },
  {
   "cell_type": "markdown",
   "id": "d82e44e0",
   "metadata": {},
   "source": [
    "<font size=\"3\"> \n",
    "    \n",
    "The command **netivreg** implements the following estimators for endogenous linear-in-means models:\n",
    "    \n",
    "- Generalized Two-Stage Least Squares (G2SLS)\n",
    "- Generalized Three-Stage Least Squares (G3SLS)\n",
    "- Generalized Method of Moments (GMM)"
   ]
  },
  {
   "cell_type": "markdown",
   "id": "2f8a1fa9",
   "metadata": {},
   "source": [
    "# Start Stata from Python"
   ]
  },
  {
   "cell_type": "code",
   "execution_count": 2,
   "id": "bc4ae68f",
   "metadata": {},
   "outputs": [
    {
     "name": "stdout",
     "output_type": "stream",
     "text": [
      "\n",
      "  ___  ____  ____  ____  ____ ®\n",
      " /__    /   ____/   /   ____/      17.0\n",
      "___/   /   /___/   /   /___/       MP—Parallel Edition\n",
      "\n",
      " Statistics and Data Science       Copyright 1985-2021 StataCorp LLC\n",
      "                                   StataCorp\n",
      "                                   4905 Lakeway Drive\n",
      "                                   College Station, Texas 77845 USA\n",
      "                                   800-STATA-PC        https://www.stata.com\n",
      "                                   979-696-4600        stata@stata.com\n",
      "\n",
      "Stata license: Single-user 4-core  perpetual\n",
      "Serial number: 501706303466\n",
      "  Licensed to: Pablo Estrada\n",
      "               Emory University\n",
      "\n",
      "Notes:\n",
      "      1. Unicode is supported; see help unicode_advice.\n",
      "      2. More than 2 billion observations are allowed; see help obs_advice.\n",
      "      3. Maximum number of variables is set to 5,000; see help set_maxvar.\n"
     ]
    }
   ],
   "source": [
    "import stata_setup\n",
    "stata_setup.config('/Applications/Stata','mp')   # for macOS\n",
    "# stata_setup.config('/usr/local/stata17','mp')   # for ubuntu"
   ]
  },
  {
   "cell_type": "markdown",
   "id": "c46a3948",
   "metadata": {
    "tags": []
   },
   "source": [
    "# Simulated Data"
   ]
  },
  {
   "cell_type": "markdown",
   "id": "0dd18bd8",
   "metadata": {},
   "source": [
    "<font size=\"3\"> \n",
    "    \n",
    "We use the following version of the linear-in-means model:\n",
    "\n",
    "$$\n",
    "\\begin{align}\n",
    "y_{i}=&1+0.7\\sum_{j=1}^n\\overline{w}_{ij}y_{j}+0.33\\sum_{j=1}^n\\overline{w}_{ij}x_{1i}+0.33\\sum_{j=1}^n\\overline{w}_{ij}x_{2i}+0.33\\sum_{j=1}^n\\overline{w}_{ij}x_{3i}\\nonumber\\\\ \n",
    " &+0.33x_{1i}+0.33x_{2i}+0.33x_{3i}+v_{i}\\text{,}\\label{sim_equation}\n",
    "\\end{align}\n",
    "$$\n",
    "\n",
    "where $x_{ki}$ are drawn from an i.i.d. $\\sim N(0,3)$ for $k=1,2,3$, which are independent of each other. The weights $\\overline{w}_{ij}$ are row-normalized versions of the adjacency matrix $\\mathbf{W}=[w_{ij}]$, i.e., $\\overline{w}_{ij}=w_{ij}/\\sum_{j=1}^n w_{ij}$. \n",
    "    \n",
    "The $\\mathbf{W}$ adjacency matrix is generated from $\\mathbf{W}_0=[w_{0;ij}]$ which in turn is generated from random graph with a density of 0.01."
   ]
  },
  {
   "cell_type": "code",
   "execution_count": 3,
   "id": "036f5220",
   "metadata": {},
   "outputs": [
    {
     "name": "stdout",
     "output_type": "stream",
     "text": [
      "\n",
      ". use ../data/stata/data_sim.dta, replace\n",
      "\n",
      ". format y_endo y_exo x1 x2 x3 x4 %9.3f\n",
      "\n",
      ". list in 1/5, table \n",
      "\n",
      "     +--------------------------------------------------------+\n",
      "     | id   y_exo   y_endo       x1      x2       x3       x4 |\n",
      "     |--------------------------------------------------------|\n",
      "  1. |  1   4.072    4.555   -0.523   0.926    2.136   -0.546 |\n",
      "  2. |  2   4.584    4.665    2.611   1.455   -0.926    0.759 |\n",
      "  3. |  3   3.887    3.671    3.125   0.513   -2.718   -2.132 |\n",
      "  4. |  4   3.736    3.962   -2.674   1.504    1.769    0.091 |\n",
      "  5. |  5   6.360    7.002   -0.993   0.345    1.126    1.120 |\n",
      "     +--------------------------------------------------------+\n",
      "\n",
      ". \n"
     ]
    }
   ],
   "source": [
    "%%stata\n",
    "use ../data/stata/data_sim.dta, replace\n",
    "format y_endo y_exo x1 x2 x3 x4 %9.3f\n",
    "list in 1/5, table "
   ]
  },
  {
   "cell_type": "code",
   "execution_count": 4,
   "id": "6b280b86",
   "metadata": {},
   "outputs": [
    {
     "name": "stdout",
     "output_type": "stream",
     "text": [
      "\n",
      ". use ../data/stata/W_sim.dta, replace\n",
      "\n",
      ". list in 113/117, table \n",
      "\n",
      "     +-----------------+\n",
      "     | source   target |\n",
      "     |-----------------|\n",
      "113. |     28      259 |\n",
      "114. |     28      361 |\n",
      "115. |     29       67 |\n",
      "116. |     29       79 |\n",
      "117. |     29      196 |\n",
      "     +-----------------+\n",
      "\n",
      ". \n"
     ]
    }
   ],
   "source": [
    "%%stata\n",
    "use ../data/stata/W_sim.dta, replace\n",
    "list in 113/117, table "
   ]
  },
  {
   "cell_type": "code",
   "execution_count": 5,
   "id": "73e56c27",
   "metadata": {},
   "outputs": [
    {
     "name": "stdout",
     "output_type": "stream",
     "text": [
      "\n",
      ". use ../data/stata/W0_sim.dta, replace\n",
      "\n",
      ". list in 113/117, table \n",
      "\n",
      "     +-----------------+\n",
      "     | source   target |\n",
      "     |-----------------|\n",
      "113. |     30      167 |\n",
      "114. |     30      325 |\n",
      "115. |     31       38 |\n",
      "116. |     31       83 |\n",
      "117. |     31      132 |\n",
      "     +-----------------+\n",
      "\n",
      ". \n"
     ]
    }
   ],
   "source": [
    "%%stata\n",
    "use ../data/stata/W0_sim.dta, replace\n",
    "list in 113/117, table "
   ]
  },
  {
   "cell_type": "markdown",
   "id": "fbcdad35",
   "metadata": {},
   "source": [
    "# 1. G2SLS"
   ]
  },
  {
   "cell_type": "markdown",
   "id": "2d053e97",
   "metadata": {},
   "source": [
    "## 1.1. Assumptions\n",
    "\n",
    "<br>\n",
    "\n",
    "<font size=\"3\">\n",
    "\n",
    "1. No correlated effects: $\\mathbb{E}[\\mathbf{v}|\\mathbf{X}, \\mathbf{W}] = 0$\n",
    "    \n",
    "2. Relevance: $\\mathbf{I}$, $\\mathbf{W}$, $\\mathbf{W}^{2}$ and $\\gamma\\beta + \\delta \\neq 0$"
   ]
  },
  {
   "cell_type": "markdown",
   "id": "5a8f52e0",
   "metadata": {},
   "source": [
    "## 1.2. Estimation\n",
    "\n",
    "<br>\n",
    "\n",
    "<font size=\"3\">\n",
    "\n",
    "- **Step 1:**\n",
    "    \n",
    "Regress $\\mathbf{y}$ on $\\boldsymbol{\\iota}$, $\\mathbf{X}$, $\\mathbf{W}\\mathbf{y}$, and $\\mathbf{W}\\mathbf{X}$ by 2SLS using $\\boldsymbol{\\iota}$, $\\mathbf{X}$, $\\mathbf{W}^{2}\\mathbf{X}$, and $\\mathbf{W}\\mathbf{X}$ as instruments. \n",
    "    \n",
    "- **Step 2:**\n",
    "\n",
    "Regress $\\mathbf{y}$ on $\\boldsymbol{\\iota}$, $\\mathbf{X}$, and $[\\widehat{\\mathbf{W}\\mathbf{y}} \\quad \\widehat{\\mathbf{W}\\mathbf{X}}]$ by IV using $\\boldsymbol{\\iota}$, $\\mathbf{X}$, and $[\\widehat{\\mathbf{Z}} \\quad \\widehat{\\mathbf{W}\\mathbf{X}}]$ as instruments, where $\\widehat{\\mathbf{Z}}$ is the optimal instrument."
   ]
  },
  {
   "cell_type": "code",
   "execution_count": 6,
   "id": "1c6b876e",
   "metadata": {},
   "outputs": [
    {
     "name": "stderr",
     "output_type": "stream",
     "text": [
      "Exception in thread Stata:\n",
      "Traceback (most recent call last):\n",
      "  File \"/Users/pablo/opt/anaconda3/envs/env_netivreg/lib/python3.8/threading.py\", line 932, in _bootstrap_inner\n",
      "    self.run()\n",
      "  File \"/Applications/Stata/utilities/pystata/core/stout.py\", line 176, in run\n",
      "    raise SystemError(output)\n",
      "SystemError: \n",
      ". use ../data/stata/data_sim.dta, replace\n",
      "\n",
      ". frame create edges\n",
      "\n",
      ". frame edges: use ../data/stata/W_sim.dta\n",
      "\n",
      ". netivreg g3sls y_exo x1 x2 x3 x4 (edges = edges) \n",
      "command netivreg is unrecognized\n",
      "r(199);\n",
      "r(199);\n",
      "\n"
     ]
    }
   ],
   "source": [
    "%%stata\n",
    "use ../data/stata/data_sim.dta, replace\n",
    "frame create edges\n",
    "frame edges: use ../data/stata/W_sim.dta\n",
    "netivreg g3sls y_exo x1 x2 x3 x4 (edges = edges) "
   ]
  },
  {
   "cell_type": "code",
   "execution_count": 7,
   "id": "59ed183b",
   "metadata": {},
   "outputs": [
    {
     "name": "stderr",
     "output_type": "stream",
     "text": [
      "Exception in thread Stata:\n",
      "Traceback (most recent call last):\n",
      "  File \"/Users/pablo/opt/anaconda3/envs/env_netivreg/lib/python3.8/threading.py\", line 932, in _bootstrap_inner\n",
      "    self.run()\n",
      "  File \"/Applications/Stata/utilities/pystata/core/stout.py\", line 169, in run\n",
      "    raise SystemError(output)\n",
      "SystemError: command netivreg is unrecognized\n",
      "r(199);\n",
      "\n"
     ]
    }
   ],
   "source": [
    "%%stata\n",
    "netivreg g3sls y_endo x1 x2 x3 x4 (edges = edges) "
   ]
  },
  {
   "cell_type": "markdown",
   "id": "9e138ad4",
   "metadata": {},
   "source": [
    "# 2. G3SLS"
   ]
  },
  {
   "cell_type": "markdown",
   "id": "3c41966b",
   "metadata": {},
   "source": [
    "## 2.1. Assumptions\n",
    "\n",
    "<br>\n",
    "\n",
    "<font size=\"3\">\n",
    "\n",
    "1. No correlated effects: $\\mathbb{E}[\\mathbf{v}|\\mathbf{X}, \\mathbf{W}_0] = 0$\n",
    "    \n",
    "2. Relevance: Relevance: $\\mathbf{I}$, $\\mathbf{W}_{0}$, $\\mathbf{W}_{0}^{2}$ and $\\gamma\\boldsymbol{\\pi}_{1}^{\\top}\\theta+\\boldsymbol{\\pi}_{2}^{\\top}\\theta \\neq 0$"
   ]
  },
  {
   "cell_type": "markdown",
   "id": "b4e8755f",
   "metadata": {},
   "source": [
    "## 2.2. Estimation\n",
    "\n",
    "<br>\n",
    "\n",
    "<font size=\"3\">\n",
    "\n",
    "- **Step 1:**\n",
    "\n",
    "Regress $\\mathbf{W}\\mathbf{S}$ on $\\mathbf{W}_0\\mathbf{S}$ by OLS. Get $\\widehat{\\mathbf{W}\\mathbf{S}}$ and $\\widehat{\\mathbf{U}}$.\n",
    "    \n",
    "    \n",
    "    \n",
    "- **Step 2:**\n",
    "    \n",
    "    \n",
    "Regress $\\mathbf{y}$ on $\\boldsymbol{\\iota}$, $\\mathbf{X}$, $\\mathbf{W}_{0}\\mathbf{y}$, and $\\mathbf{W}_{0}\\mathbf{X}$ by 2SLS using $\\boldsymbol{\\iota}$, $\\mathbf{X}$, $\\mathbf{W}_{0}^{2}\\mathbf{X}$, and $\\mathbf{W}_{0}\\mathbf{X}$ as instruments. From the equation \n",
    "    \n",
    "    \n",
    "$$\\widehat{\\alpha}_{\\text{2SLS}}\\boldsymbol{\\iota}+\\widehat{\\theta}^\\ast_{\\text{2SLS}}\\mathbf{W}_{0}\\mathbf{S}+\\widehat{\\gamma}_{\\text{2SLS}}\\mathbf{X},$$\n",
    "    \n",
    "    \n",
    "    \n",
    "get the parameters $[\\widehat{\\alpha}_{\\text{2SLS}},\\widehat{\\gamma}_{\\text{2SLS}},\\widehat{\\theta}_{\\text{2SLS}}]^{\\top}$ where $\\widehat{\\boldsymbol{\\theta}}_{\\text{2SLS}} = \\widehat{\\Pi}^{-1}\\widehat{\\theta}^\\ast_{\\text{2SLS}}$.\n",
    "    \n",
    "    \n",
    "- **Step 3:**\n",
    "    \n",
    "    \n",
    "\n",
    "Regress $\\mathbf{y}$ on $\\boldsymbol{\\iota}$, $\\mathbf{X}$, and $\\widehat{\\mathbf{W}\\mathbf{S}}$ by IV using $\\boldsymbol{\\iota}$, $\\mathbf{X}$, and $[\\widehat{\\mathbf{Z}}\\quad \\mathbf{W}_{0}\\mathbf{X}]\\widehat{\\boldsymbol{\\Pi}}$ as instruments, where $\\widehat{\\mathbf{Z}}=\\mathbf{W}_{0}\\left(\\mathbf{I}-(\\widehat{\\boldsymbol{\\pi}}_1^\\top\\widehat{\\boldsymbol{\\theta}}_{\\text{2SLS}})\\mathbf{W}_{0}\\right)^{-1}\\left\\{\\widehat{\\alpha}_{\\text{2SLS}}\\boldsymbol{\\iota}+\\left(\\widehat{\\gamma}_{\\text{2SLS}}\\mathbf{I}+(\\widehat{\\boldsymbol{\\pi}}_2^\\top\\widehat{\\boldsymbol{\\theta}}_{\\text{2SLS}})\\mathbf{W}_{0}\\right)\\mathbf{X}\\right\\}$. From the equation\n",
    "    \n",
    "    \n",
    "    \n",
    "$$\\widehat{\\alpha}_{\\text{G3SLS}}\\boldsymbol{\\iota}+\\widehat{\\theta}_{\\text{G3SLS}}\\mathbf{W}\\mathbf{S}+\\widehat{\\gamma}_{\\text{G3SLS}}\\mathbf{X},$$\n",
    "    \n",
    "    \n",
    "    \n",
    "get the parameters $[\\widehat{\\alpha}_{\\text{G3SLS}},\\widehat{\\gamma}_{\\text{G3SLS}},\\widehat{\\beta}_{\\text{G3SLS}},\\widehat{\\delta}_{\\text{G3SLS}}]^{\\top}$ and the residuals $\\widehat{\\mathbf{v}}\\equiv\\mathbf{y}-\\widehat{\\alpha}_{\\text{G3SLS}}\\boldsymbol{\\iota}-\\widehat{\\gamma}_{\\text{G3SLS}}\\mathbf{X}-\\widehat{\\beta}_{\\text{G3SLS}}\\mathbf{W}\\mathbf{y}-\\widehat{\\delta}_{\\text{G3SLS}}\\mathbf{W}\\mathbf{X}$."
   ]
  },
  {
   "cell_type": "code",
   "execution_count": 8,
   "id": "6a15904d",
   "metadata": {},
   "outputs": [
    {
     "name": "stderr",
     "output_type": "stream",
     "text": [
      "Exception in thread Stata:\n",
      "Traceback (most recent call last):\n",
      "  File \"/Users/pablo/opt/anaconda3/envs/env_netivreg/lib/python3.8/threading.py\", line 932, in _bootstrap_inner\n",
      "    self.run()\n",
      "  File \"/Applications/Stata/utilities/pystata/core/stout.py\", line 176, in run\n",
      "    raise SystemError(output)\n",
      "SystemError: \n",
      ". frame create edges0\n",
      "\n",
      ". frame edges0: use ../data/stata/W0_sim.dta\n",
      "\n",
      ". netivreg g3sls y_endo x1 x2 x3 x4 (edges = edges0)\n",
      "command netivreg is unrecognized\n",
      "r(199);\n",
      "r(199);\n",
      "\n"
     ]
    }
   ],
   "source": [
    "%%stata\n",
    "frame create edges0\n",
    "frame edges0: use ../data/stata/W0_sim.dta\n",
    "netivreg g3sls y_endo x1 x2 x3 x4 (edges = edges0)"
   ]
  },
  {
   "cell_type": "code",
   "execution_count": 9,
   "id": "77bca7cc",
   "metadata": {},
   "outputs": [
    {
     "name": "stderr",
     "output_type": "stream",
     "text": [
      "Exception in thread Stata:\n",
      "Traceback (most recent call last):\n",
      "  File \"/Users/pablo/opt/anaconda3/envs/env_netivreg/lib/python3.8/threading.py\", line 932, in _bootstrap_inner\n",
      "    self.run()\n",
      "  File \"/Applications/Stata/utilities/pystata/core/stout.py\", line 169, in run\n",
      "    raise SystemError(output)\n",
      "SystemError\n"
     ]
    }
   ],
   "source": [
    "%%stata\n",
    "netivreg g3sls y_endo x1 x2 x3 x4 (edges = edges0), first"
   ]
  },
  {
   "cell_type": "code",
   "execution_count": 10,
   "id": "08f71862",
   "metadata": {},
   "outputs": [
    {
     "name": "stderr",
     "output_type": "stream",
     "text": [
      "Exception in thread Stata:\n",
      "Traceback (most recent call last):\n",
      "  File \"/Users/pablo/opt/anaconda3/envs/env_netivreg/lib/python3.8/threading.py\", line 932, in _bootstrap_inner\n",
      "    self.run()\n",
      "  File \"/Applications/Stata/utilities/pystata/core/stout.py\", line 169, in run\n",
      "    raise SystemError(output)\n",
      "SystemError: command netivreg is unrecognized\n",
      "r(199);\n",
      "\n"
     ]
    }
   ],
   "source": [
    "%%stata\n",
    "netivreg g3sls y_endo x1 x2 x3 x4 (edges = edges0), second"
   ]
  },
  {
   "cell_type": "markdown",
   "id": "f46f6e48",
   "metadata": {},
   "source": [
    "# 3. GMM"
   ]
  },
  {
   "cell_type": "markdown",
   "id": "f93fa637",
   "metadata": {},
   "source": [
    "## 3.1. Assumptions\n",
    "\n",
    "<br>\n",
    "\n",
    "<font size=\"3\">\n",
    "    \n",
    "We define the matrices $\\mathbf{D}=[\\mathbf{W}\\mathbf{y}, \\mathbf{W}\\mathbf{X}, \\widetilde{\\mathbf{X}}]$ to be the matrix of regressors of the linear-in-means model and $\\mathbf{Z}=[\\mathbf{W}_{N,0}^{p}\\mathbf{X},\\mathbf{W}_{N,0}^{p-1}\\mathbf{X},\\dots,\\mathbf{W}_{N,0}\\mathbf{X}, \\widetilde{\\mathbf{X}}]$ to be the matrix of *instruments*.\n",
    "\n",
    "1. No correlated effects: $\\mathbb{E}[\\mathbf{v}|\\mathbf{X}, \\mathbf{W}_0] = 0$    \n",
    "2. the conditional probability $\\mathcal{F}(\\mathcal{G}, \\mathbf{v}\\mid \\mathcal{G}_{0},\\mathbf{X})$ is such that $\\Pr(w_{i,j}>0|\\mathcal{G}_{0},\\mathbf{X})=\\rho(w_{0;i,j},\\mathcal{G}_{0},\\mathbf{X},\\mathbf{v})$\n",
    "3. The matrix $\\mathbb{E}[\\sum_{i \\in \\mathcal{I}_{N}}\\mathbf{z}_{i}\\mathbf{d}_{i}^{\\top}]<\\infty$ has full column rank."
   ]
  },
  {
   "cell_type": "markdown",
   "id": "82d51f48",
   "metadata": {},
   "source": [
    "## 3.2. Estimation\n",
    "\n",
    "<br>\n",
    "\n",
    "<font size=\"3\">\n",
    "\n",
    "Standard linear GMM estimator:\n",
    "\n",
    "$$\\widehat{\\boldsymbol{\\psi}}_{\\text{GMM}} =  [\\mathbf{D}_{n}^{\\top}\\mathbf{Z}_{n}\\mathbf{A}_{n} \\mathbf{Z}_{n}^{\\top}\\mathbf{D}_{n}]^{-1} [\\mathbf{D}_{n}^{\\top}\\mathbf{Z}_{n}\\mathbf{A}_{n}\\mathbf{Z}_{n}^{\\top}\\mathbf{y}_{n}]$$\n",
    "\n",
    "where the full rank weighting matrix $\\mathbf{A}_{n}$ is assumed to converge in probability to $\\mathbf{A}$"
   ]
  },
  {
   "cell_type": "code",
   "execution_count": 11,
   "id": "dd212ea2",
   "metadata": {},
   "outputs": [
    {
     "name": "stderr",
     "output_type": "stream",
     "text": [
      "Exception in thread Stata:\n",
      "Traceback (most recent call last):\n",
      "  File \"/Users/pablo/opt/anaconda3/envs/env_netivreg/lib/python3.8/threading.py\", line 932, in _bootstrap_inner\n",
      "    self.run()\n",
      "  File \"/Applications/Stata/utilities/pystata/core/stout.py\", line 169, in run\n",
      "    raise SystemError(output)\n",
      "SystemError: command netivreg is unrecognized\n",
      "r(199);\n",
      "\n"
     ]
    }
   ],
   "source": [
    "%%stata\n",
    "netivreg gmm y_endo x1 x2 x3 x4 (edges = edges0)"
   ]
  },
  {
   "cell_type": "markdown",
   "id": "0d98df87",
   "metadata": {},
   "source": [
    "# Real Data"
   ]
  },
  {
   "cell_type": "code",
   "execution_count": 12,
   "id": "cd44ee2b",
   "metadata": {},
   "outputs": [
    {
     "name": "stdout",
     "output_type": "stream",
     "text": [
      "\n",
      ". use data/articles.dta, replace\n",
      "(Data on articles published in the aer, eca, jpe, & qje between 2000-2002)\n",
      "\n",
      ". describe\n",
      "\n",
      "Contains data from data/articles.dta\n",
      " Observations:           729                  Data on articles published in\n",
      "                                                the aer, eca, jpe, & qje\n",
      "                                                between 2000-2002\n",
      "    Variables:            12                  12 Sep 2020 14:09\n",
      "-------------------------------------------------------------------------------\n",
      "Variable      Storage   Display    Value\n",
      "    name         type    format    label      Variable label\n",
      "-------------------------------------------------------------------------------\n",
      "id              int     %9.0g                 Article unique identifier\n",
      "lcitations      float   %9.0g                 Log of total citations 8 years\n",
      "                                                post publication\n",
      "editor          int     %8.0g                 1 if at least one of the\n",
      "                                                article's authors was an editor\n",
      "                                                of a T4 journal\n",
      "diff_gender     int     %8.0g                 1 if article's co-authors are of\n",
      "                                                different gender\n",
      "isolated        int     %8.0g                 1 if an article does not share a\n",
      "                                                co-authorship relationship with\n",
      "                                                others\n",
      "n_pages         byte    %8.0g                 Article's number of pages\n",
      "n_authors       int     %8.0g                 Article's number of authors\n",
      "n_references    int     %8.0g                 Article's number of bibliographic\n",
      "                                                references\n",
      "journal         int     %9.0g      journallab\n",
      "                                              Journal=aer,eca,jpe,qje\n",
      "year            int     %9.0g      yearlab    Year=2000,2001,2002\n",
      "c_alumni        int     %9.0g                 Alumni network components unique\n",
      "                                                identifiers\n",
      "c_coauthor      int     %8.0g                 Co-author network components\n",
      "                                                unique identifiers\n",
      "-------------------------------------------------------------------------------\n",
      "Sorted by: year  journal  id\n",
      "\n",
      ". \n"
     ]
    }
   ],
   "source": [
    "%%stata\n",
    "use data/articles.dta, replace\n",
    "describe"
   ]
  },
  {
   "cell_type": "code",
   "execution_count": 13,
   "id": "5ccbbaec",
   "metadata": {},
   "outputs": [
    {
     "name": "stdout",
     "output_type": "stream",
     "text": [
      "\n",
      ". gen citations = exp(lcitations)\n",
      "\n",
      ". tabulate journal year, summarize(citations)\n",
      "\n",
      "          Means, Standard Deviations and Frequencies of citations\n",
      "\n",
      "Journal=ae |\n",
      "r,eca,jpe, |      Year=2000,2001,2002\n",
      "       qje |      2000       2001       2002 |     Total\n",
      "-----------+---------------------------------+----------\n",
      "       aer | 52.417721  54.931821  48.652174 | 51.934364\n",
      "           | 73.653308  90.712233  49.893607 | 72.800192\n",
      "           |        79         88         92 |       259\n",
      "-----------+---------------------------------+----------\n",
      "       eca | 49.627451  43.328125  37.177779 | 42.195122\n",
      "           | 52.045351  51.688336  43.565161 | 48.397466\n",
      "           |        51         64         90 |       205\n",
      "-----------+---------------------------------+----------\n",
      "       jpe | 34.530612  32.863637  46.666667 | 38.141844\n",
      "           | 26.257619  30.229811  35.717172 | 31.362075\n",
      "           |        49         44         48 |       141\n",
      "-----------+---------------------------------+----------\n",
      "       qje | 59.380952  72.285714    102.475 | 77.653226\n",
      "           |  74.70297  47.771446  100.33303 | 78.338854\n",
      "           |        42         42         40 |       124\n",
      "-----------+---------------------------------+----------\n",
      "     Total | 49.131221  50.794119  52.448149 | 50.902607\n",
      "           | 61.651186  66.741361  60.112435 | 62.735929\n",
      "           |       221        238        270 |       729\n",
      "\n",
      ". \n"
     ]
    }
   ],
   "source": [
    "%%stata\n",
    "gen citations = exp(lcitations)\n",
    "tabulate journal year, summarize(citations)"
   ]
  },
  {
   "cell_type": "code",
   "execution_count": 14,
   "id": "5d0c0f2f",
   "metadata": {},
   "outputs": [
    {
     "name": "stdout",
     "output_type": "stream",
     "text": [
      "\n",
      "    Variable |        Obs        Mean    Std. dev.       Min        Max\n",
      "-------------+---------------------------------------------------------\n",
      "      editor |        729    .0452675     .208033          0          1\n",
      " diff_gender |        729    .1303155    .3368814          0          1\n",
      "    isolated |        729    .5281207    .4995513          0          1\n",
      "     n_pages |        729    25.15775    11.53631          3         76\n",
      "   n_authors |        729    1.888889    .7486251          1          5\n",
      "-------------+---------------------------------------------------------\n",
      "n_references |        729    31.40329    17.84755          0        177\n"
     ]
    }
   ],
   "source": [
    "%%stata\n",
    "summarize editor diff_gender isolated n_pages n_authors n_references"
   ]
  },
  {
   "cell_type": "code",
   "execution_count": 15,
   "id": "ea791139",
   "metadata": {},
   "outputs": [
    {
     "name": "stdout",
     "output_type": "stream",
     "text": [
      "\n",
      ". frame reset\n",
      "\n",
      ". frame create edges\n",
      "\n",
      ". frame edges: use data/edges.dta\n",
      "(Co-authorship network among articles published in the aer, eca, jpe, & qje bet\n",
      "> we)\n",
      "\n",
      ". frame edges: list in 1/5, table \n",
      "\n",
      "     +-----------------+\n",
      "     | source   target |\n",
      "     |-----------------|\n",
      "  1. |      4      472 |\n",
      "  2. |      5      221 |\n",
      "  3. |      5      463 |\n",
      "  4. |      5      478 |\n",
      "  5. |      5      665 |\n",
      "     +-----------------+\n",
      "\n",
      ". \n"
     ]
    }
   ],
   "source": [
    "%%stata\n",
    "frame reset\n",
    "frame create edges\n",
    "frame edges: use data/edges.dta\n",
    "frame edges: list in 1/5, table "
   ]
  },
  {
   "cell_type": "code",
   "execution_count": 16,
   "id": "4d935b90",
   "metadata": {},
   "outputs": [
    {
     "name": "stdout",
     "output_type": "stream",
     "text": [
      "\n",
      ". frame create edges0\n",
      "\n",
      ". frame edges: use data/edges0.dta\n",
      "(Alumni network among articles published in the aer, eca, jpe, & qje between 20\n",
      "> 00)\n",
      "\n",
      ". frame edges: list in 1/5, table \n",
      "\n",
      "     +-----------------+\n",
      "     | source   target |\n",
      "     |-----------------|\n",
      "  1. |      2      482 |\n",
      "  2. |      2      534 |\n",
      "  3. |      4      129 |\n",
      "  4. |      4      136 |\n",
      "  5. |      4      407 |\n",
      "     +-----------------+\n",
      "\n",
      ". \n"
     ]
    }
   ],
   "source": [
    "%%stata\n",
    "frame create edges0\n",
    "frame edges: use data/edges0.dta\n",
    "frame edges: list in 1/5, table "
   ]
  },
  {
   "cell_type": "code",
   "execution_count": 17,
   "id": "b6a75acf",
   "metadata": {},
   "outputs": [
    {
     "name": "stdout",
     "output_type": "stream",
     "text": [
      "\n",
      ". use data/articles.dta\n",
      "(Data on articles published in the aer, eca, jpe, & qje between 2000-2002)\n",
      "\n",
      ". tabulate journal, g(journal)\n",
      "\n",
      "Journal=aer |\n",
      ",eca,jpe,qj |\n",
      "          e |      Freq.     Percent        Cum.\n",
      "------------+-----------------------------------\n",
      "        aer |        259       35.53       35.53\n",
      "        eca |        205       28.12       63.65\n",
      "        jpe |        141       19.34       82.99\n",
      "        qje |        124       17.01      100.00\n",
      "------------+-----------------------------------\n",
      "      Total |        729      100.00\n",
      "\n",
      ". tabulate year, g(year)\n",
      "\n",
      "Year=2000,2 |\n",
      "   001,2002 |      Freq.     Percent        Cum.\n",
      "------------+-----------------------------------\n",
      "       2000 |        221       30.32       30.32\n",
      "       2001 |        238       32.65       62.96\n",
      "       2002 |        270       37.04      100.00\n",
      "------------+-----------------------------------\n",
      "      Total |        729      100.00\n",
      "\n",
      ". \n"
     ]
    }
   ],
   "source": [
    "%%stata\n",
    "use data/articles.dta\n",
    "tabulate journal, g(journal)\n",
    "tabulate year, g(year)"
   ]
  },
  {
   "cell_type": "markdown",
   "id": "c8291bcb",
   "metadata": {},
   "source": [
    "## Real Data Analysis \n",
    "\n",
    "<br>\n",
    "\n",
    "<font size=\"3\">\n",
    "    \n",
    "    \n",
    "$$\n",
    "\\begin{align}\n",
    "  y_{i,r,t} ={}&\\alpha+\\beta\\sum_{j \\neq i}w_{i,j}y_{j,r,t}+\\sum_{j \\neq i}w_{i,j}\\mathbf{x}_{j,r,t}^{\\top}\\boldsymbol{\\delta}+ \\mathbf{x}_{i,r,t}^{\\top}\\boldsymbol{\\gamma}\\nonumber\\\\\n",
    "  & +\\lambda_{r}+\\lambda_{t}+v_{i,r,t}\\text{,}\n",
    "  \\label{modelo}\n",
    "\\end{align}\n",
    "$$\n",
    "\n",
    "- $y_{i,r,t}$ represents the natural logarithm of article $i$'s citations eight years post publication (lcitations) in journal $r$ in year $t$.\n",
    "- $\\mathbf{x}_{j,r,t}$ includes diff_gender and editor of article $j$ in journal $r$ in year $t$.\n",
    "- $\\mathbf{x}_{i,r,t}$ include the same characteristics for article $i$ plus its number of pages (n_pages), authors (n_authors), bibliographic references (n_references), and whether or not it shares a co-author relationship with other articles (isolated).\n",
    "- Fixed effects include journal ($\\lambda_{r}$) and year ($\\lambda_t$).\n",
    "- Co-authors' network ($\\mathbf{W}$) is endogenous and the alumni network ($\\mathbf{W_0}$) is pre-determined and is therefore assumed to be exogenous."
   ]
  },
  {
   "cell_type": "code",
   "execution_count": 18,
   "id": "9d6cd3de-4dfe-48d0-8389-d246002e0e90",
   "metadata": {},
   "outputs": [
    {
     "name": "stdout",
     "output_type": "stream",
     "text": [
      "\n",
      ". use ../data/stata/articles.dta, replace\n",
      "(Data on articles published in the aer, eca, jpe, & qje between 2000-2002)\n",
      "\n",
      ". describe\n",
      "\n",
      "Contains data from ../data/stata/articles.dta\n",
      " Observations:           729                  Data on articles published in\n",
      "                                                the aer, eca, jpe, & qje\n",
      "                                                between 2000-2002\n",
      "    Variables:            12                  12 Sep 2020 14:09\n",
      "-------------------------------------------------------------------------------\n",
      "Variable      Storage   Display    Value\n",
      "    name         type    format    label      Variable label\n",
      "-------------------------------------------------------------------------------\n",
      "id              int     %9.0g                 Article unique identifier\n",
      "lcitations      float   %9.0g                 Log of total citations 8 years\n",
      "                                                post publication\n",
      "editor          int     %8.0g                 1 if at least one of the\n",
      "                                                article's authors was an editor\n",
      "                                                of a T4 journal\n",
      "diff_gender     int     %8.0g                 1 if article's co-authors are of\n",
      "                                                different gender\n",
      "isolated        int     %8.0g                 1 if an article does not share a\n",
      "                                                co-authorship relationship with\n",
      "                                                others\n",
      "n_pages         byte    %8.0g                 Article's number of pages\n",
      "n_authors       int     %8.0g                 Article's number of authors\n",
      "n_references    int     %8.0g                 Article's number of bibliographic\n",
      "                                                references\n",
      "journal         int     %9.0g      journallab\n",
      "                                              Journal=aer,eca,jpe,qje\n",
      "year            int     %9.0g      yearlab    Year=2000,2001,2002\n",
      "c_alumni        int     %9.0g                 Alumni network components unique\n",
      "                                                identifiers\n",
      "c_coauthor      int     %8.0g                 Co-author network components\n",
      "                                                unique identifiers\n",
      "-------------------------------------------------------------------------------\n",
      "Sorted by: year  journal  id\n",
      "\n",
      ". \n"
     ]
    }
   ],
   "source": [
    "%%stata\n",
    "use ../data/stata/articles.dta, replace\n",
    "describe"
   ]
  },
  {
   "cell_type": "code",
   "execution_count": 19,
   "id": "af4d08fa-313d-49e8-b96d-05effe9c942f",
   "metadata": {},
   "outputs": [
    {
     "name": "stdout",
     "output_type": "stream",
     "text": [
      "\n",
      ". gen citations = exp(lcitations)\n",
      "\n",
      ". tabulate journal year, summarize(citations)\n",
      "\n",
      "          Means, Standard Deviations and Frequencies of citations\n",
      "\n",
      "Journal=ae |\n",
      "r,eca,jpe, |      Year=2000,2001,2002\n",
      "       qje |      2000       2001       2002 |     Total\n",
      "-----------+---------------------------------+----------\n",
      "       aer | 52.417721  54.931821  48.652174 | 51.934364\n",
      "           | 73.653308  90.712233  49.893607 | 72.800192\n",
      "           |        79         88         92 |       259\n",
      "-----------+---------------------------------+----------\n",
      "       eca | 49.627451  43.328125  37.177779 | 42.195122\n",
      "           | 52.045351  51.688336  43.565161 | 48.397466\n",
      "           |        51         64         90 |       205\n",
      "-----------+---------------------------------+----------\n",
      "       jpe | 34.530612  32.863637  46.666667 | 38.141844\n",
      "           | 26.257619  30.229811  35.717172 | 31.362075\n",
      "           |        49         44         48 |       141\n",
      "-----------+---------------------------------+----------\n",
      "       qje | 59.380952  72.285714    102.475 | 77.653226\n",
      "           |  74.70297  47.771446  100.33303 | 78.338854\n",
      "           |        42         42         40 |       124\n",
      "-----------+---------------------------------+----------\n",
      "     Total | 49.131221  50.794119  52.448149 | 50.902607\n",
      "           | 61.651186  66.741361  60.112435 | 62.735929\n",
      "           |       221        238        270 |       729\n",
      "\n",
      ". \n"
     ]
    }
   ],
   "source": [
    "%%stata\n",
    "gen citations = exp(lcitations)\n",
    "tabulate journal year, summarize(citations)"
   ]
  },
  {
   "cell_type": "code",
   "execution_count": 20,
   "id": "89fd074e-ecc8-4501-8b2e-618243d43136",
   "metadata": {},
   "outputs": [
    {
     "name": "stdout",
     "output_type": "stream",
     "text": [
      "\n",
      "    Variable |        Obs        Mean    Std. dev.       Min        Max\n",
      "-------------+---------------------------------------------------------\n",
      "      editor |        729    .0452675     .208033          0          1\n",
      " diff_gender |        729    .1303155    .3368814          0          1\n",
      "    isolated |        729    .5281207    .4995513          0          1\n",
      "     n_pages |        729    25.15775    11.53631          3         76\n",
      "   n_authors |        729    1.888889    .7486251          1          5\n",
      "-------------+---------------------------------------------------------\n",
      "n_references |        729    31.40329    17.84755          0        177\n"
     ]
    }
   ],
   "source": [
    "%%stata\n",
    "summarize editor diff_gender isolated n_pages n_authors n_references"
   ]
  },
  {
   "cell_type": "code",
   "execution_count": 21,
   "id": "a5093a0a-8deb-423e-a436-77ea0290086c",
   "metadata": {},
   "outputs": [
    {
     "name": "stdout",
     "output_type": "stream",
     "text": [
      "\n",
      ". frame create edges1\n",
      "\n",
      ". frame edges1: use ../data/stata/edges.dta\n",
      "(Co-authorship network among articles published in the aer, eca, jpe, & qje bet\n",
      "> we)\n",
      "\n",
      ". frame edges1: list in 1/5, table \n",
      "\n",
      "     +-----------------+\n",
      "     | source   target |\n",
      "     |-----------------|\n",
      "  1. |      4      472 |\n",
      "  2. |      5      221 |\n",
      "  3. |      5      463 |\n",
      "  4. |      5      478 |\n",
      "  5. |      5      665 |\n",
      "     +-----------------+\n",
      "\n",
      ". \n"
     ]
    }
   ],
   "source": [
    "%%stata\n",
    "frame create edges1\n",
    "frame edges1: use ../data/stata/edges.dta\n",
    "frame edges1: list in 1/5, table "
   ]
  },
  {
   "cell_type": "code",
   "execution_count": 22,
   "id": "18a3ae5c-16a0-4e06-9c23-38097d5457e7",
   "metadata": {},
   "outputs": [
    {
     "name": "stdout",
     "output_type": "stream",
     "text": [
      "\n",
      ". frame create edges2\n",
      "\n",
      ". frame edges2: use ../data/stata/edges0.dta\n",
      "(Alumni network among articles published in the aer, eca, jpe, & qje between 20\n",
      "> 00)\n",
      "\n",
      ". frame edges2: list in 1/5, table \n",
      "\n",
      "     +-----------------+\n",
      "     | source   target |\n",
      "     |-----------------|\n",
      "  1. |      2      482 |\n",
      "  2. |      2      534 |\n",
      "  3. |      4      129 |\n",
      "  4. |      4      136 |\n",
      "  5. |      4      407 |\n",
      "     +-----------------+\n",
      "\n",
      ". \n"
     ]
    }
   ],
   "source": [
    "%%stata\n",
    "frame create edges2\n",
    "frame edges2: use ../data/stata/edges0.dta\n",
    "frame edges2: list in 1/5, table "
   ]
  },
  {
   "cell_type": "code",
   "execution_count": 23,
   "id": "0c118a8a-d6a5-4284-a045-8707ac30023f",
   "metadata": {},
   "outputs": [
    {
     "name": "stdout",
     "output_type": "stream",
     "text": [
      "\n",
      ". use ../data/stata/articles.dta, replace\n",
      "(Data on articles published in the aer, eca, jpe, & qje between 2000-2002)\n",
      "\n",
      ". tabulate journal, g(journal)\n",
      "\n",
      "Journal=aer |\n",
      ",eca,jpe,qj |\n",
      "          e |      Freq.     Percent        Cum.\n",
      "------------+-----------------------------------\n",
      "        aer |        259       35.53       35.53\n",
      "        eca |        205       28.12       63.65\n",
      "        jpe |        141       19.34       82.99\n",
      "        qje |        124       17.01      100.00\n",
      "------------+-----------------------------------\n",
      "      Total |        729      100.00\n",
      "\n",
      ". tabulate year, g(year)\n",
      "\n",
      "Year=2000,2 |\n",
      "   001,2002 |      Freq.     Percent        Cum.\n",
      "------------+-----------------------------------\n",
      "       2000 |        221       30.32       30.32\n",
      "       2001 |        238       32.65       62.96\n",
      "       2002 |        270       37.04      100.00\n",
      "------------+-----------------------------------\n",
      "      Total |        729      100.00\n",
      "\n",
      ". \n"
     ]
    }
   ],
   "source": [
    "%%stata\n",
    "use ../data/stata/articles.dta, replace\n",
    "tabulate journal, g(journal)\n",
    "tabulate year, g(year)"
   ]
  },
  {
   "cell_type": "code",
   "execution_count": 24,
   "id": "78308e04-2888-4ce4-b540-427fed480e09",
   "metadata": {},
   "outputs": [
    {
     "name": "stderr",
     "output_type": "stream",
     "text": [
      "Exception in thread Stata:\n",
      "Traceback (most recent call last):\n",
      "  File \"/Users/pablo/opt/anaconda3/envs/env_netivreg/lib/python3.8/threading.py\", line 932, in _bootstrap_inner\n",
      "    self.run()\n",
      "  File \"/Applications/Stata/utilities/pystata/core/stout.py\", line 176, in run\n",
      "    raise SystemError(output)\n",
      "SystemError: \n",
      ". netivreg g3sls lcitations editor diff_gender n_pages n_authors n_references /\n",
      "> //\n",
      "> isolated journal2-journal4 year2-year3 (edges1 = edges2), ///\n",
      "> wx(editor diff_gender) cluster(c_coauthor)\n",
      "command netivreg is unrecognized\n",
      "r(199);\n",
      "r(199);\n",
      "\n"
     ]
    }
   ],
   "source": [
    "%%stata\n",
    "netivreg g3sls lcitations editor diff_gender n_pages n_authors n_references ///\n",
    "isolated journal2-journal4 year2-year3 (edges1 = edges2), ///\n",
    "wx(editor diff_gender) cluster(c_coauthor)"
   ]
  },
  {
   "cell_type": "code",
   "execution_count": 25,
   "id": "3ec0aeca",
   "metadata": {},
   "outputs": [
    {
     "name": "stderr",
     "output_type": "stream",
     "text": [
      "Exception in thread Stata:\n",
      "Traceback (most recent call last):\n",
      "  File \"/Users/pablo/opt/anaconda3/envs/env_netivreg/lib/python3.8/threading.py\", line 932, in _bootstrap_inner\n",
      "    self.run()\n",
      "  File \"/Applications/Stata/utilities/pystata/core/stout.py\", line 176, in run\n",
      "    raise SystemError(output)\n",
      "SystemError: \n",
      ". netivreg gmm lcitations editor diff_gender n_pages n_authors n_references ///\n",
      ">  \n",
      "> isolated journal2-journal4 year2-year3 (edges1 = edges2), wx(editor diff_gend\n",
      "> er) ///\n",
      "> wz(editor diff_gender n_pages n_authors n_references isolated) maxp(4)\n",
      "command netivreg is unrecognized\n",
      "r(199);\n",
      "r(199);\n",
      "\n"
     ]
    }
   ],
   "source": [
    "%%stata\n",
    "netivreg gmm lcitations editor diff_gender n_pages n_authors n_references /// \n",
    "isolated journal2-journal4 year2-year3 (edges1 = edges2), wx(editor diff_gender) ///\n",
    "wz(editor diff_gender n_pages n_authors n_references isolated) maxp(4)"
   ]
  }
 ],
 "metadata": {
  "kernelspec": {
   "display_name": "Python [conda env:env_netivreg]",
   "language": "python",
   "name": "conda-env-env_netivreg-py"
  },
  "language_info": {
   "codemirror_mode": {
    "name": "ipython",
    "version": 3
   },
   "file_extension": ".py",
   "mimetype": "text/x-python",
   "name": "python",
   "nbconvert_exporter": "python",
   "pygments_lexer": "ipython3",
   "version": "3.8.13"
  }
 },
 "nbformat": 4,
 "nbformat_minor": 5
}
