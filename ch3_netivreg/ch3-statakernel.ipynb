{
 "cells": [
  {
   "cell_type": "markdown",
   "id": "ebd76dad",
   "metadata": {},
   "source": [
    "# <span style=\"color:darkblue\">netivreg: Estimation of Peer Efects in Endogenous Social Networks</span> \n",
    "\n",
    "Pablo Estrada, Juan Estrada, Kim P. Huynh, David T. Jacho-Chavez and Leonardo Sanchez-Aragon"
   ]
  },
  {
   "cell_type": "markdown",
   "id": "2f8a1fa9",
   "metadata": {},
   "source": [
    "# Stata Command: netivreg"
   ]
  },
  {
   "cell_type": "markdown",
   "id": "0e32777d",
   "metadata": {},
   "source": [
    "<font size=\"3\"> \n",
    "    \n",
    "The command **netivreg** implements the following estimators for endogenous linear-in-means models:\n",
    "    \n",
    "- Generalized Two-Stage Least Squares (G2SLS)\n",
    "- Generalized Three-Stage Least Squares (G3SLS)\n",
    "- Generalized Method of Moments (GMM)"
   ]
  },
  {
   "cell_type": "markdown",
   "id": "c46a3948",
   "metadata": {},
   "source": [
    "# Simulated Data"
   ]
  },
  {
   "cell_type": "markdown",
   "id": "4ddb2b34",
   "metadata": {},
   "source": [
    "<font size=\"3\"> \n",
    "    \n",
    "We use the following version of the linear-in-means model:\n",
    "\n",
    "$$\n",
    "\\begin{align}\n",
    "y_{i}=&1+0.7\\sum_{j=1}^n\\overline{w}_{ij}y_{j}+0.33\\sum_{j=1}^n\\overline{w}_{ij}x_{1i}+0.33\\sum_{j=1}^n\\overline{w}_{ij}x_{2i}+0.33\\sum_{j=1}^n\\overline{w}_{ij}x_{3i}\\nonumber\\\\ \n",
    " &+0.33x_{1i}+0.33x_{2i}+0.33x_{3i}+v_{i}\\text{,}\\label{sim_equation}\n",
    "\\end{align}\n",
    "$$\n",
    "\n",
    "where $x_{ki}$ are drawn from an i.i.d. $\\sim N(0,3)$ for $k=1,2,3$, which are independent of each other. The weights $\\overline{w}_{ij}$ are row-normalized versions of the adjacency matrix $\\mathbf{W}=[w_{ij}]$, i.e., $\\overline{w}_{ij}=w_{ij}/\\sum_{j=1}^n w_{ij}$. \n",
    "    \n",
    "The $\\mathbf{W}$ adjacency matrix is generated from $\\mathbf{W}_0=[w_{0;ij}]$ which in turn is generated from random graph with a density of 0.01."
   ]
  },
  {
   "cell_type": "code",
   "execution_count": null,
   "id": "036f5220",
   "metadata": {},
   "outputs": [],
   "source": [
    "use ../data/stata/data_sim.dta, replace\n",
    "format y_endo y_exo x1 x2 x3 x4 %9.3f\n",
    "list in 1/5, table "
   ]
  },
  {
   "cell_type": "code",
   "execution_count": 2,
   "id": "6b280b86",
   "metadata": {},
   "outputs": [
    {
     "name": "stdout",
     "output_type": "stream",
     "text": [
      "\n",
      "\n",
      "\n",
      "     +-----------------+\n",
      "     | source   target |\n",
      "     |-----------------|\n",
      "113. |     28      259 |\n",
      "114. |     28      361 |\n",
      "115. |     29       67 |\n",
      "116. |     29       79 |\n",
      "117. |     29      196 |\n",
      "     +-----------------+\n"
     ]
    }
   ],
   "source": [
    "use ../data/stata/W_sim.dta, replace\n",
    "list in 113/117, table "
   ]
  },
  {
   "cell_type": "code",
   "execution_count": 3,
   "id": "73e56c27",
   "metadata": {},
   "outputs": [
    {
     "name": "stdout",
     "output_type": "stream",
     "text": [
      "\n",
      "\n",
      "\n",
      "     +-----------------+\n",
      "     | source   target |\n",
      "     |-----------------|\n",
      "113. |     30      167 |\n",
      "114. |     30      325 |\n",
      "115. |     31       38 |\n",
      "116. |     31       83 |\n",
      "117. |     31      132 |\n",
      "     +-----------------+\n"
     ]
    }
   ],
   "source": [
    "use ../data/stata/W0_sim.dta, replace\n",
    "list in 113/117, table "
   ]
  },
  {
   "cell_type": "markdown",
   "id": "fbcdad35",
   "metadata": {},
   "source": [
    "# 1. G2SLS"
   ]
  },
  {
   "cell_type": "markdown",
   "id": "2d053e97",
   "metadata": {},
   "source": [
    "## 1.1. Assumptions"
   ]
  },
  {
   "cell_type": "markdown",
   "id": "8de8916e",
   "metadata": {},
   "source": [
    "<font size=\"3\">\n",
    "\n",
    "1. No correlated effects: $\\mathbb{E}[\\mathbf{v}|\\mathbf{X}, \\mathbf{W}] = 0$\n",
    "    \n",
    "2. Relevance: $\\mathbf{I}$, $\\mathbf{W}$, $\\mathbf{W}^{2}$ and $\\gamma\\beta + \\delta \\neq 0$"
   ]
  },
  {
   "cell_type": "markdown",
   "id": "5a8f52e0",
   "metadata": {},
   "source": [
    "## 1.2. Estimation\n",
    "\n",
    "<br>\n",
    "\n",
    "<font size=\"3\">\n",
    "\n",
    "- **Step 1:**\n",
    "    \n",
    "Regress $\\mathbf{y}$ on $\\boldsymbol{\\iota}$, $\\mathbf{X}$, $\\mathbf{W}\\mathbf{y}$, and $\\mathbf{W}\\mathbf{X}$ by 2SLS using $\\boldsymbol{\\iota}$, $\\mathbf{X}$, $\\mathbf{W}^{2}\\mathbf{X}$, and $\\mathbf{W}\\mathbf{X}$ as instruments. \n",
    "    \n",
    "- **Step 3:**\n",
    "\n",
    "Regress $\\mathbf{y}$ on $\\boldsymbol{\\iota}$, $\\mathbf{X}$, and $[\\widehat{\\mathbf{W}\\mathbf{y}} \\quad \\widehat{\\mathbf{W}\\mathbf{X}}]$ by IV using $\\boldsymbol{\\iota}$, $\\mathbf{X}$, and $[\\widehat{\\mathbf{Z}} \\quad \\widehat{\\mathbf{W}\\mathbf{X}}]$ as instruments, where $\\widehat{\\mathbf{Z}}$ is the optimal instrument."
   ]
  },
  {
   "cell_type": "code",
   "execution_count": 4,
   "id": "1c6b876e",
   "metadata": {},
   "outputs": [
    {
     "name": "stdout",
     "output_type": "stream",
     "text": [
      "\n",
      "\n",
      "\n",
      "\n",
      "\n",
      "Network IV (G3SLS) Regression                         Number of obs =      400\n",
      "                                                      Wald chi2(10)  =  2021.41\n",
      "                                                      Prob > chi2   =   0.0000\n",
      "                                                      R-squared     =   0.8571\n",
      "                                                      Root MSE      =     .966\n",
      "------------------------------------------------------------------------------\n",
      "       y_exo | Coefficient  Std. err.      t    P>|t|     [95% conf. interval]\n",
      "-------------+----------------------------------------------------------------\n",
      "W_y          |\n",
      "       y_exo |   .7187389   .0459317    15.65   0.000     .6284341    .8090436\n",
      "-------------+----------------------------------------------------------------\n",
      "W_x          |\n",
      "          x1 |   .3628661   .0614882     5.90   0.000     .2419763    .4837559\n",
      "          x2 |   .3197861    .051635     6.19   0.000     .2182683     .421304\n",
      "          x3 |   .3968142   .0558112     7.11   0.000     .2870856    .5065427\n",
      "          x4 |   .0671387   .0886706     0.76   0.449    -.1071935    .2414709\n",
      "-------------+----------------------------------------------------------------\n",
      "X            |\n",
      "          x1 |   .3749567   .0303577    12.35   0.000     .3152716    .4346419\n",
      "          x2 |   .3971781   .0302632    13.12   0.000     .3376787    .4566774\n",
      "          x3 |   .3118756   .0282055    11.06   0.000     .2564218    .3673295\n",
      "          x4 |   .0614943   .0490757     1.25   0.211    -.0349917    .1579803\n",
      "       _cons |   .9875521   .1453766     6.79   0.000     .7017322    1.273372\n",
      "------------------------------------------------------------------------------\n"
     ]
    }
   ],
   "source": [
    "use ../data/stata/data_sim.dta, replace\n",
    "frame create edges\n",
    "frame edges: use ../data/stata/W_sim.dta\n",
    "netivreg g3sls y_exo x1 x2 x3 x4 (edges = edges) "
   ]
  },
  {
   "cell_type": "code",
   "execution_count": 5,
   "id": "59ed183b",
   "metadata": {},
   "outputs": [
    {
     "name": "stdout",
     "output_type": "stream",
     "text": [
      "\n",
      "Network IV (G3SLS) Regression                         Number of obs =      400\n",
      "                                                      Wald chi2(10)  =  1797.04\n",
      "                                                      Prob > chi2   =   0.0000\n",
      "                                                      R-squared     =   0.8379\n",
      "                                                      Root MSE      =    1.104\n",
      "------------------------------------------------------------------------------\n",
      "      y_endo | Coefficient  Std. err.      t    P>|t|     [95% conf. interval]\n",
      "-------------+----------------------------------------------------------------\n",
      "W_y          |\n",
      "      y_endo |   .9775033   .0571161    17.11   0.000     .8652093    1.089797\n",
      "-------------+----------------------------------------------------------------\n",
      "W_x          |\n",
      "          x1 |   .1499146   .0678751     2.21   0.028     .0164676    .2833615\n",
      "          x2 |   .1307811    .058853     2.22   0.027     .0150721      .24649\n",
      "          x3 |    .247199   .0626421     3.95   0.000     .1240406    .3703573\n",
      "          x4 |    .067066   .0943664     0.71   0.478    -.1184645    .2525964\n",
      "-------------+----------------------------------------------------------------\n",
      "X            |\n",
      "          x1 |   .3444555   .0350054     9.84   0.000     .2756326    .4132784\n",
      "          x2 |   .3254792   .0347623     9.36   0.000     .2571344    .3938241\n",
      "          x3 |   .2759635   .0316605     8.72   0.000     .2137169      .33821\n",
      "          x4 |   .0595883   .0571877     1.04   0.298    -.0528464    .1720231\n",
      "       _cons |   .1586211   .2008155     0.79   0.430    -.2361952    .5534375\n",
      "------------------------------------------------------------------------------\n"
     ]
    }
   ],
   "source": [
    "netivreg g3sls y_endo x1 x2 x3 x4 (edges = edges) "
   ]
  },
  {
   "cell_type": "markdown",
   "id": "9e138ad4",
   "metadata": {},
   "source": [
    "# 2. G3SLS"
   ]
  },
  {
   "cell_type": "markdown",
   "id": "3c41966b",
   "metadata": {},
   "source": [
    "## 2.1. Assumptions"
   ]
  },
  {
   "cell_type": "markdown",
   "id": "000f2ad2",
   "metadata": {},
   "source": [
    "<font size=\"3\">\n",
    "\n",
    "1. No correlated effects: $\\mathbb{E}[\\mathbf{v}|\\mathbf{X}, \\mathbf{W}_0] = 0$\n",
    "    \n",
    "2. Relevance: Relevance: $\\mathbf{I}$, $\\mathbf{W}_{0}$, $\\mathbf{W}_{0}^{2}$ and $\\gamma\\boldsymbol{\\pi}_{1}^{\\top}\\theta+\\boldsymbol{\\pi}_{2}^{\\top}\\theta \\neq 0$"
   ]
  },
  {
   "cell_type": "markdown",
   "id": "b4e8755f",
   "metadata": {},
   "source": [
    "## 2.2. Estimation\n",
    "\n",
    "<br>\n",
    "\n",
    "<font size=\"3\">\n",
    "\n",
    "- **Step 1:**\n",
    "\n",
    "Regress $\\mathbf{W}\\mathbf{S}$ on $\\mathbf{W}_0\\mathbf{S}$ by OLS. Get $\\widehat{\\mathbf{W}\\mathbf{S}}$ and $\\widehat{\\mathbf{U}}$.\n",
    "    \n",
    "    \n",
    "    \n",
    "- **Step 2:**\n",
    "    \n",
    "    \n",
    "Regress $\\mathbf{y}$ on $\\boldsymbol{\\iota}$, $\\mathbf{X}$, $\\mathbf{W}_{0}\\mathbf{y}$, and $\\mathbf{W}_{0}\\mathbf{X}$ by 2SLS using $\\boldsymbol{\\iota}$, $\\mathbf{X}$, $\\mathbf{W}_{0}^{2}\\mathbf{X}$, and $\\mathbf{W}_{0}\\mathbf{X}$ as instruments. From the equation \n",
    "    \n",
    "    \n",
    "$$\\widehat{\\alpha}_{\\text{2SLS}}\\boldsymbol{\\iota}+\\widehat{\\theta}^\\ast_{\\text{2SLS}}\\mathbf{W}_{0}\\mathbf{S}+\\widehat{\\gamma}_{\\text{2SLS}}\\mathbf{X},$$\n",
    "    \n",
    "    \n",
    "    \n",
    "get the parameters $[\\widehat{\\alpha}_{\\text{2SLS}},\\widehat{\\gamma}_{\\text{2SLS}},\\widehat{\\theta}_{\\text{2SLS}}]^{\\top}$ where $\\widehat{\\boldsymbol{\\theta}}_{\\text{2SLS}} = \\widehat{\\Pi}^{-1}\\widehat{\\theta}^\\ast_{\\text{2SLS}}$.\n",
    "    \n",
    "    \n",
    "- **Step 3:**\n",
    "    \n",
    "    \n",
    "\n",
    "Regress $\\mathbf{y}$ on $\\boldsymbol{\\iota}$, $\\mathbf{X}$, and $\\widehat{\\mathbf{W}\\mathbf{S}}$ by IV using $\\boldsymbol{\\iota}$, $\\mathbf{X}$, and $[\\widehat{\\mathbf{Z}}\\quad \\mathbf{W}_{0}\\mathbf{X}]\\widehat{\\boldsymbol{\\Pi}}$ as instruments, where $\\widehat{\\mathbf{Z}}=\\mathbf{W}_{0}\\left(\\mathbf{I}-(\\widehat{\\boldsymbol{\\pi}}_1^\\top\\widehat{\\boldsymbol{\\theta}}_{\\text{2SLS}})\\mathbf{W}_{0}\\right)^{-1}\\left\\{\\widehat{\\alpha}_{\\text{2SLS}}\\boldsymbol{\\iota}+\\left(\\widehat{\\gamma}_{\\text{2SLS}}\\mathbf{I}+(\\widehat{\\boldsymbol{\\pi}}_2^\\top\\widehat{\\boldsymbol{\\theta}}_{\\text{2SLS}})\\mathbf{W}_{0}\\right)\\mathbf{X}\\right\\}$. From the equation\n",
    "    \n",
    "    \n",
    "    \n",
    "$$\\widehat{\\alpha}_{\\text{G3SLS}}\\boldsymbol{\\iota}+\\widehat{\\theta}_{\\text{G3SLS}}\\mathbf{W}\\mathbf{S}+\\widehat{\\gamma}_{\\text{G3SLS}}\\mathbf{X},$$\n",
    "    \n",
    "    \n",
    "    \n",
    "get the parameters $[\\widehat{\\alpha}_{\\text{G3SLS}},\\widehat{\\gamma}_{\\text{G3SLS}},\\widehat{\\beta}_{\\text{G3SLS}},\\widehat{\\delta}_{\\text{G3SLS}}]^{\\top}$ and the residuals $\\widehat{\\mathbf{v}}\\equiv\\mathbf{y}-\\widehat{\\alpha}_{\\text{G3SLS}}\\boldsymbol{\\iota}-\\widehat{\\gamma}_{\\text{G3SLS}}\\mathbf{X}-\\widehat{\\beta}_{\\text{G3SLS}}\\mathbf{W}\\mathbf{y}-\\widehat{\\delta}_{\\text{G3SLS}}\\mathbf{W}\\mathbf{X}$."
   ]
  },
  {
   "cell_type": "code",
   "execution_count": 6,
   "id": "6a15904d",
   "metadata": {},
   "outputs": [
    {
     "name": "stdout",
     "output_type": "stream",
     "text": [
      "\n",
      "\n",
      "\n",
      "\n",
      "Network IV (G3SLS) Regression                         Number of obs =      400\n",
      "                                                      Wald chi2(10)  =   822.26\n",
      "                                                      Prob > chi2   =   0.0000\n",
      "                                                      R-squared     =   0.8176\n",
      "                                                      Root MSE      =    1.194\n",
      "------------------------------------------------------------------------------\n",
      "      y_endo | Coefficient  Std. err.      t    P>|t|     [95% conf. interval]\n",
      "-------------+----------------------------------------------------------------\n",
      "W_y          |\n",
      "      y_endo |   .7059194   .0934719     7.55   0.000     .5221476    .8896911\n",
      "-------------+----------------------------------------------------------------\n",
      "W_x          |\n",
      "          x1 |   .3464024   .1277675     2.71   0.007     .0952031    .5976017\n",
      "          x2 |   .3280795   .0870187     3.77   0.000     .1569951    .4991639\n",
      "          x3 |   .3615469   .0926147     3.90   0.000     .1794604    .5436334\n",
      "          x4 |   .0500988   .1476019     0.34   0.734    -.2400962    .3402939\n",
      "-------------+----------------------------------------------------------------\n",
      "X            |\n",
      "          x1 |   .3782985   .0560235     6.75   0.000     .2681526    .4884443\n",
      "          x2 |   .3287283   .0426851     7.70   0.000     .2448066    .4126499\n",
      "          x3 |   .3442047   .0483468     7.12   0.000     .2491518    .4392576\n",
      "          x4 |   .0895948   .0745045     1.20   0.230    -.0568859    .2360756\n",
      "       _cons |   1.035534   .3189017     3.25   0.001     .4085523    1.662515\n",
      "------------------------------------------------------------------------------\n"
     ]
    }
   ],
   "source": [
    "frame create edges0\n",
    "frame edges0: use ../data/stata/W0_sim.dta\n",
    "netivreg g3sls y_endo x1 x2 x3 x4 (edges = edges0)"
   ]
  },
  {
   "cell_type": "code",
   "execution_count": 7,
   "id": "77bca7cc",
   "metadata": {},
   "outputs": [
    {
     "name": "stdout",
     "output_type": "stream",
     "text": [
      "\n",
      "Projection of W on W0\n",
      "------------------------------------------------------------------------------\n",
      "             | Coefficient  Std. err.      t    P>|t|     [95% conf. interval]\n",
      "-------------+----------------------------------------------------------------\n",
      "W_y_endo     |\n",
      "   W0_y_endo |   .9927161   .0110994    89.44   0.000     .9708939    1.014538\n",
      "       W0_x1 |   .0038403   .0419735     0.09   0.927    -.0786823     .086363\n",
      "       W0_x2 |  -.0030277   .0372046    -0.08   0.935    -.0761744     .070119\n",
      "       W0_x3 |   .0010825   .0378073     0.03   0.977    -.0732492    .0754142\n",
      "       W0_x4 |    .002885   .0664465     0.04   0.965    -.1277531     .133523\n",
      "-------------+----------------------------------------------------------------\n",
      "W_x1         |\n",
      "   W0_y_endo |  -.0924276   .0041002   -22.54   0.000    -.1004889   -.0843663\n",
      "       W0_x1 |   .8743972   .0155054    56.39   0.000     .8439126    .9048817\n",
      "       W0_x2 |   .0074888   .0137437     0.54   0.586    -.0195322    .0345098\n",
      "       W0_x3 |   .0466023   .0139664     3.34   0.001     .0191436    .0740611\n",
      "       W0_x4 |   .0143088   .0245459     0.58   0.560      -.03395    .0625676\n",
      "-------------+----------------------------------------------------------------\n",
      "W_x2         |\n",
      "   W0_y_endo |  -.0142514   .0034378    -4.15   0.000    -.0210103   -.0074925\n",
      "       W0_x1 |   -.010898   .0130003    -0.84   0.402    -.0364575    .0146614\n",
      "       W0_x2 |   .9506398   .0115233    82.50   0.000     .9279843    .9732953\n",
      "       W0_x3 |   .0197406   .0117099     1.69   0.093    -.0032819    .0427631\n",
      "       W0_x4 |   .0103946   .0205802     0.51   0.614    -.0300675    .0508567\n",
      "-------------+----------------------------------------------------------------\n",
      "W_x3         |\n",
      "   W0_y_endo |  -.0311842   .0037837    -8.24   0.000    -.0386233   -.0237451\n",
      "       W0_x1 |   .0378469   .0143085     2.65   0.008     .0097153    .0659784\n",
      "       W0_x2 |   .0052678   .0126829     0.42   0.678    -.0196675    .0302031\n",
      "       W0_x3 |   .9225525   .0128883    71.58   0.000     .8972132    .9478918\n",
      "       W0_x4 |  -.0186094   .0226513    -0.82   0.412    -.0631432    .0259244\n",
      "-------------+----------------------------------------------------------------\n",
      "W_x4         |\n",
      "   W0_y_endo |   .0140097   .0025567     5.48   0.000     .0089831    .0190363\n",
      "       W0_x1 |   .0419752   .0096683     4.34   0.000     .0229667    .0609838\n",
      "       W0_x2 |    .021705   .0085698     2.53   0.012     .0048561    .0385539\n",
      "       W0_x3 |  -.0496623   .0087087    -5.70   0.000    -.0667841   -.0325404\n",
      "       W0_x4 |   .8994643   .0153055    58.77   0.000     .8693726    .9295559\n",
      "------------------------------------------------------------------------------\n",
      "\n",
      "\n",
      "Network IV (G3SLS) Regression                         Number of obs =      400\n",
      "                                                      Wald chi2(10)  =   822.26\n",
      "                                                      Prob > chi2   =   0.0000\n",
      "                                                      R-squared     =   0.8176\n",
      "                                                      Root MSE      =    1.194\n",
      "------------------------------------------------------------------------------\n",
      "      y_endo | Coefficient  Std. err.      t    P>|t|     [95% conf. interval]\n",
      "-------------+----------------------------------------------------------------\n",
      "W_y          |\n",
      "      y_endo |   .7059194   .0934719     7.55   0.000     .5221476    .8896911\n",
      "-------------+----------------------------------------------------------------\n",
      "W_x          |\n",
      "          x1 |   .3464024   .1277675     2.71   0.007     .0952031    .5976017\n",
      "          x2 |   .3280795   .0870187     3.77   0.000     .1569951    .4991639\n",
      "          x3 |   .3615469   .0926147     3.90   0.000     .1794604    .5436334\n",
      "          x4 |   .0500988   .1476019     0.34   0.734    -.2400962    .3402939\n",
      "-------------+----------------------------------------------------------------\n",
      "X            |\n",
      "          x1 |   .3782985   .0560235     6.75   0.000     .2681526    .4884443\n",
      "          x2 |   .3287283   .0426851     7.70   0.000     .2448066    .4126499\n",
      "          x3 |   .3442047   .0483468     7.12   0.000     .2491518    .4392576\n",
      "          x4 |   .0895948   .0745045     1.20   0.230    -.0568859    .2360756\n",
      "       _cons |   1.035534   .3189017     3.25   0.001     .4085523    1.662515\n",
      "------------------------------------------------------------------------------\n"
     ]
    }
   ],
   "source": [
    "netivreg g3sls y_endo x1 x2 x3 x4 (edges = edges0), first"
   ]
  },
  {
   "cell_type": "code",
   "execution_count": 8,
   "id": "08f71862",
   "metadata": {},
   "outputs": [
    {
     "name": "stdout",
     "output_type": "stream",
     "text": [
      "\n",
      "\n",
      "2SLS Regression                                       Number of obs =      400\n",
      "                                                      Wald chi2(10)  =   839.20\n",
      "                                                      Prob > chi2   =   0.0000\n",
      "                                                      R-squared     =   0.8095\n",
      "                                                      Root MSE      =    1.224\n",
      "------------------------------------------------------------------------------\n",
      "      y_endo | Coefficient  Std. err.      t    P>|t|     [95% conf. interval]\n",
      "-------------+----------------------------------------------------------------\n",
      "W_y          |\n",
      "      y_endo |   .6568384   .1030623     6.37   0.000     .4542113    .8594655\n",
      "-------------+----------------------------------------------------------------\n",
      "W_x          |\n",
      "          x1 |   .3798965   .1172551     3.24   0.001     .1493653    .6104278\n",
      "          x2 |   .3556006   .0846906     4.20   0.000     .1890934    .5221079\n",
      "          x3 |   .3883685   .0915501     4.24   0.000      .208375     .568362\n",
      "          x4 |   .0558494   .1324023     0.42   0.673    -.2044623     .316161\n",
      "-------------+----------------------------------------------------------------\n",
      "X            |\n",
      "          x1 |    .386902   .0569697     6.79   0.000     .2748958    .4989081\n",
      "          x2 |   .3387842   .0433598     7.81   0.000     .2535361    .4240324\n",
      "          x3 |     .35358   .0498306     7.10   0.000     .2556099    .4515501\n",
      "          x4 |   .0933147   .0753217     1.24   0.216    -.0547726    .2414021\n",
      "       _cons |   1.194332   .3562142     3.35   0.001     .4939918    1.894673\n",
      "------------------------------------------------------------------------------\n",
      "\n",
      "\n",
      "Network IV (G3SLS) Regression                         Number of obs =      400\n",
      "                                                      Wald chi2(10)  =   822.26\n",
      "                                                      Prob > chi2   =   0.0000\n",
      "                                                      R-squared     =   0.8176\n",
      "                                                      Root MSE      =    1.194\n",
      "------------------------------------------------------------------------------\n",
      "      y_endo | Coefficient  Std. err.      t    P>|t|     [95% conf. interval]\n",
      "-------------+----------------------------------------------------------------\n",
      "W_y          |\n",
      "      y_endo |   .7059194   .0934719     7.55   0.000     .5221476    .8896911\n",
      "-------------+----------------------------------------------------------------\n",
      "W_x          |\n",
      "          x1 |   .3464024   .1277675     2.71   0.007     .0952031    .5976017\n",
      "          x2 |   .3280795   .0870187     3.77   0.000     .1569951    .4991639\n",
      "          x3 |   .3615469   .0926147     3.90   0.000     .1794604    .5436334\n",
      "          x4 |   .0500988   .1476019     0.34   0.734    -.2400962    .3402939\n",
      "-------------+----------------------------------------------------------------\n",
      "X            |\n",
      "          x1 |   .3782985   .0560235     6.75   0.000     .2681526    .4884443\n",
      "          x2 |   .3287283   .0426851     7.70   0.000     .2448066    .4126499\n",
      "          x3 |   .3442047   .0483468     7.12   0.000     .2491518    .4392576\n",
      "          x4 |   .0895948   .0745045     1.20   0.230    -.0568859    .2360756\n",
      "       _cons |   1.035534   .3189017     3.25   0.001     .4085523    1.662515\n",
      "------------------------------------------------------------------------------\n"
     ]
    }
   ],
   "source": [
    "netivreg g3sls y_endo x1 x2 x3 x4 (edges = edges0), second"
   ]
  },
  {
   "cell_type": "markdown",
   "id": "f46f6e48",
   "metadata": {},
   "source": [
    "# 3. GMM"
   ]
  },
  {
   "cell_type": "markdown",
   "id": "f93fa637",
   "metadata": {},
   "source": [
    "## 3.1. Assumptions"
   ]
  },
  {
   "cell_type": "markdown",
   "id": "bd191065",
   "metadata": {},
   "source": [
    "<font size=\"3\">\n",
    "    \n",
    "We define the matrices $\\mathbf{D}=[\\mathbf{W}\\mathbf{y}, \\mathbf{W}\\mathbf{X}, \\widetilde{\\mathbf{X}}]$ to be the matrix of regressors of the linear-in-means model and $\\mathbf{Z}=[\\mathbf{W}_{N,0}^{p}\\mathbf{X},\\mathbf{W}_{N,0}^{p-1}\\mathbf{X},\\dots,\\mathbf{W}_{N,0}\\mathbf{X}, \\widetilde{\\mathbf{X}}]$ to be the matrix of *instruments*.\n",
    "\n",
    "1. No correlated effects: $\\mathbb{E}[\\mathbf{v}|\\mathbf{X}, \\mathbf{W}_0] = 0$    \n",
    "2. the conditional probability $\\mathcal{F}(\\mathcal{G}, \\mathbf{v}\\mid \\mathcal{G}_{0},\\mathbf{X})$ is such that $\\Pr(w_{i,j}>0|\\mathcal{G}_{0},\\mathbf{X})=\\rho(w_{0;i,j},\\mathcal{G}_{0},\\mathbf{X},\\mathbf{v})$\n",
    "3. The matrix $\\mathbb{E}[\\sum_{i \\in \\mathcal{I}_{N}}\\mathbf{z}_{i}\\mathbf{d}_{i}^{\\top}]<\\infty$ has full column rank."
   ]
  },
  {
   "cell_type": "markdown",
   "id": "82d51f48",
   "metadata": {},
   "source": [
    "## 3.2. Estimation\n",
    "\n",
    "<br>\n",
    "\n",
    "<font size=\"3\">\n",
    "\n",
    "Standard linear GMM estimator:\n",
    "\n",
    "$$\\widehat{\\boldsymbol{\\psi}}_{\\text{GMM}} =  [\\mathbf{D}_{n}^{\\top}\\mathbf{Z}_{n}\\mathbf{A}_{n} \\mathbf{Z}_{n}^{\\top}\\mathbf{D}_{n}]^{-1} [\\mathbf{D}_{n}^{\\top}\\mathbf{Z}_{n}\\mathbf{A}_{n}\\mathbf{Z}_{n}^{\\top}\\mathbf{y}_{n}]$$\n",
    "\n",
    "where the full rank weighting matrix $\\mathbf{A}_{n}$ is assumed to converge in probability to $\\mathbf{A}$"
   ]
  },
  {
   "cell_type": "code",
   "execution_count": 9,
   "id": "dd212ea2",
   "metadata": {},
   "outputs": [
    {
     "name": "stdout",
     "output_type": "stream",
     "text": [
      "\n",
      "Network IV (GMM) Regression                           Number of obs =      400\n",
      "                                                      Wald chi2(10)  =  5414.09\n",
      "                                                      Prob > chi2   =   0.0000\n",
      "                                                      R-squared     =   0.8166\n",
      "                                                      Root MSE      =    1.194\n",
      "------------------------------------------------------------------------------\n",
      "      y_endo | Coefficient  Std. err.      t    P>|t|     [95% conf. interval]\n",
      "-------------+----------------------------------------------------------------\n",
      "W_y          |\n",
      "      y_endo |   .7039281    .076149     9.24   0.000     .5542141     .853642\n",
      "-------------+----------------------------------------------------------------\n",
      "W_x          |\n",
      "          x1 |   .3493545   .0781754     4.47   0.000     .1956565    .5030524\n",
      "          x2 |   .3245619   .0617699     5.25   0.000     .2031183    .4460055\n",
      "          x3 |   .3614537   .0623149     5.80   0.000     .2389385    .4839689\n",
      "          x4 |   .0621016   .0714393     0.87   0.385    -.0783528    .2025561\n",
      "-------------+----------------------------------------------------------------\n",
      "X            |\n",
      "          x1 |   .3877009   .0324968    11.93   0.000       .32381    .4515918\n",
      "          x2 |   .3859661   .0204085    18.91   0.000     .3458416    .4260905\n",
      "          x3 |   .3290334   .0246893    13.33   0.000     .2804925    .3775742\n",
      "          x4 |   .0275173   .0521742     0.53   0.598    -.0750606    .1300951\n",
      "       _cons |   1.025602   .2586684     3.96   0.000     .5170425    1.534161\n",
      "------------------------------------------------------------------------------\n"
     ]
    }
   ],
   "source": [
    "netivreg gmm y_endo x1 x2 x3 x4 (edges = edges0)"
   ]
  },
  {
   "cell_type": "markdown",
   "id": "0d98df87",
   "metadata": {},
   "source": [
    "# Real Data"
   ]
  },
  {
   "cell_type": "code",
   "execution_count": 10,
   "id": "cd44ee2b",
   "metadata": {},
   "outputs": [
    {
     "name": "stdout",
     "output_type": "stream",
     "text": [
      "\n",
      "(Data on articles published in the aer, eca, jpe, & qje between 2000-2002)\n",
      "\n",
      "\n",
      "Contains data from ../data/stata/articles.dta\n",
      " Observations:           729                  Data on articles published in\n",
      "                                                the aer, eca, jpe, & qje between\n",
      "                                                2000-2002\n",
      "    Variables:            12                  12 Sep 2020 14:09\n",
      "--------------------------------------------------------------------------------\n",
      "Variable      Storage   Display    Value\n",
      "    name         type    format    label      Variable label\n",
      "--------------------------------------------------------------------------------\n",
      "id              int     %9.0g                 Article unique identifier\n",
      "lcitations      float   %9.0g                 Log of total citations 8 years\n",
      "                                                post publication\n",
      "editor          int     %8.0g                 1 if at least one of the article's\n",
      "                                                authors was an editor of a T4\n",
      "                                                journal\n",
      "diff_gender     int     %8.0g                 1 if article's co-authors are of\n",
      "                                                different gender\n",
      "isolated        int     %8.0g                 1 if an article does not share a\n",
      "                                                co-authorship relationship with\n",
      "                                                others\n",
      "n_pages         byte    %8.0g                 Article's number of pages\n",
      "n_authors       int     %8.0g                 Article's number of authors\n",
      "n_references    int     %8.0g                 Article's number of bibliographic\n",
      "                                                references\n",
      "journal         int     %9.0g      journallab\n",
      "                                              Journal=aer,eca,jpe,qje\n",
      "year            int     %9.0g      yearlab    Year=2000,2001,2002\n",
      "c_alumni        int     %9.0g                 Alumni network components unique\n",
      "                                                identifiers\n",
      "c_coauthor      int     %8.0g                 Co-author network components\n",
      "                                                unique identifiers\n",
      "--------------------------------------------------------------------------------\n",
      "Sorted by: year  journal  id\n"
     ]
    }
   ],
   "source": [
    "use ../data/stata/articles.dta, replace\n",
    "describe"
   ]
  },
  {
   "cell_type": "code",
   "execution_count": 11,
   "id": "5ccbbaec",
   "metadata": {},
   "outputs": [
    {
     "name": "stdout",
     "output_type": "stream",
     "text": [
      "\n",
      "\n",
      "\n",
      "          Means, Standard Deviations and Frequencies of citations\n",
      "\n",
      "Journal=ae |\n",
      "r,eca,jpe, |      Year=2000,2001,2002\n",
      "       qje |      2000       2001       2002 |     Total\n",
      "-----------+---------------------------------+----------\n",
      "       aer | 52.417721  54.931821  48.652174 | 51.934364\n",
      "           | 73.653308  90.712233  49.893607 | 72.800192\n",
      "           |        79         88         92 |       259\n",
      "-----------+---------------------------------+----------\n",
      "       eca | 49.627451  43.328125  37.177779 | 42.195122\n",
      "           | 52.045351  51.688336  43.565161 | 48.397466\n",
      "           |        51         64         90 |       205\n",
      "-----------+---------------------------------+----------\n",
      "       jpe | 34.530612  32.863637  46.666667 | 38.141844\n",
      "           | 26.257619  30.229811  35.717172 | 31.362075\n",
      "           |        49         44         48 |       141\n",
      "-----------+---------------------------------+----------\n",
      "       qje | 59.380952  72.285714    102.475 | 77.653226\n",
      "           |  74.70297  47.771446  100.33303 | 78.338854\n",
      "           |        42         42         40 |       124\n",
      "-----------+---------------------------------+----------\n",
      "     Total | 49.131221  50.794119  52.448149 | 50.902607\n",
      "           | 61.651186  66.741361  60.112435 | 62.735929\n",
      "           |       221        238        270 |       729\n"
     ]
    }
   ],
   "source": [
    "gen citations = exp(lcitations)\n",
    "tabulate journal year, summarize(citations)"
   ]
  },
  {
   "cell_type": "code",
   "execution_count": 12,
   "id": "5d0c0f2f",
   "metadata": {},
   "outputs": [
    {
     "name": "stdout",
     "output_type": "stream",
     "text": [
      "\n",
      "    Variable |        Obs        Mean    Std. dev.       Min        Max\n",
      "-------------+---------------------------------------------------------\n",
      "      editor |        729    .0452675     .208033          0          1\n",
      " diff_gender |        729    .1303155    .3368814          0          1\n",
      "    isolated |        729    .5281207    .4995513          0          1\n",
      "     n_pages |        729    25.15775    11.53631          3         76\n",
      "   n_authors |        729    1.888889    .7486251          1          5\n",
      "-------------+---------------------------------------------------------\n",
      "n_references |        729    31.40329    17.84755          0        177\n"
     ]
    }
   ],
   "source": [
    "summarize editor diff_gender isolated n_pages n_authors n_references"
   ]
  },
  {
   "cell_type": "code",
   "execution_count": 13,
   "id": "ea791139",
   "metadata": {},
   "outputs": [
    {
     "name": "stdout",
     "output_type": "stream",
     "text": [
      "\n",
      "\n",
      "\n",
      "(Co-authorship network among articles published in the aer, eca, jpe, & qje betw\n",
      "> e)\n",
      "\n",
      "\n",
      "     +-----------------+\n",
      "     | source   target |\n",
      "     |-----------------|\n",
      "  1. |      4      472 |\n",
      "  2. |      5      221 |\n",
      "  3. |      5      463 |\n",
      "  4. |      5      478 |\n",
      "  5. |      5      665 |\n",
      "     +-----------------+\n"
     ]
    }
   ],
   "source": [
    "frame reset\n",
    "frame create edges\n",
    "frame edges: use ../data/stata/edges.dta\n",
    "frame edges: list in 1/5, table "
   ]
  },
  {
   "cell_type": "code",
   "execution_count": 14,
   "id": "4d935b90",
   "metadata": {},
   "outputs": [
    {
     "name": "stdout",
     "output_type": "stream",
     "text": [
      "\n",
      "\n",
      "(Alumni network among articles published in the aer, eca, jpe, & qje between 200\n",
      "> 0)\n",
      "\n",
      "\n",
      "     +-----------------+\n",
      "     | source   target |\n",
      "     |-----------------|\n",
      "  1. |      2      482 |\n",
      "  2. |      2      534 |\n",
      "  3. |      4      129 |\n",
      "  4. |      4      136 |\n",
      "  5. |      4      407 |\n",
      "     +-----------------+\n"
     ]
    }
   ],
   "source": [
    "frame create edges0\n",
    "frame edges: use ../data/stata/edges0.dta\n",
    "frame edges: list in 1/5, table "
   ]
  },
  {
   "cell_type": "code",
   "execution_count": 15,
   "id": "b6a75acf",
   "metadata": {},
   "outputs": [
    {
     "name": "stdout",
     "output_type": "stream",
     "text": [
      "\n",
      "(Data on articles published in the aer, eca, jpe, & qje between 2000-2002)\n",
      "\n",
      "\n",
      "Journal=aer |\n",
      ",eca,jpe,qj |\n",
      "          e |      Freq.     Percent        Cum.\n",
      "------------+-----------------------------------\n",
      "        aer |        259       35.53       35.53\n",
      "        eca |        205       28.12       63.65\n",
      "        jpe |        141       19.34       82.99\n",
      "        qje |        124       17.01      100.00\n",
      "------------+-----------------------------------\n",
      "      Total |        729      100.00\n",
      "\n",
      "\n",
      "Year=2000,2 |\n",
      "   001,2002 |      Freq.     Percent        Cum.\n",
      "------------+-----------------------------------\n",
      "       2000 |        221       30.32       30.32\n",
      "       2001 |        238       32.65       62.96\n",
      "       2002 |        270       37.04      100.00\n",
      "------------+-----------------------------------\n",
      "      Total |        729      100.00\n"
     ]
    }
   ],
   "source": [
    "use ../data/stata/articles.dta\n",
    "tabulate journal, g(journal)\n",
    "tabulate year, g(year)"
   ]
  },
  {
   "cell_type": "code",
   "execution_count": 16,
   "id": "32bc014f",
   "metadata": {},
   "outputs": [
    {
     "name": "stdout",
     "output_type": "stream",
     "text": [
      "Traceback (most recent call last):\n",
      "  File \"<stdin>\", line 1, in <module>\n",
      "  File \"<stdin>\", line 19, in calc_netivreg\n",
      "  File \"/Users/pablo/opt/anaconda3/lib/python3.9/site-packages/networkx/linalg/g\n",
      "> raphmatrix.py\", line 157, in adjacency_matrix\n",
      "    return nx.to_scipy_sparse_matrix(G, nodelist=nodelist, dtype=dtype, weight=w\n",
      "> eight)\n",
      "  File \"/Users/pablo/opt/anaconda3/lib/python3.9/site-packages/networkx/convert_\n",
      "> matrix.py\", line 868, in to_scipy_sparse_matrix\n",
      "    raise nx.NetworkXError(f\"Node {n} in nodelist is not in G\")\n",
      "networkx.exception.NetworkXError: Node 1 in nodelist is not in G\n"
     ]
    },
    {
     "name": "stderr",
     "output_type": "stream",
     "text": [
      "r(7102);\n"
     ]
    },
    {
     "name": "stdout",
     "output_type": "stream",
     "text": [
      "\n"
     ]
    }
   ],
   "source": [
    "netivreg g3sls lcitations editor diff_gender n_pages n_authors n_references ///\n",
    "                          isolated journal2-journal4 year2-year3 (edges = edges0), ///\n",
    "                          wx(editor diff_gender) cluster(c_coauthor)"
   ]
  },
  {
   "cell_type": "code",
   "execution_count": null,
   "id": "f82ef18c",
   "metadata": {},
   "outputs": [],
   "source": []
  },
  {
   "cell_type": "code",
   "execution_count": null,
   "id": "dd910066",
   "metadata": {},
   "outputs": [],
   "source": []
  }
 ],
 "metadata": {
  "kernelspec": {
   "display_name": "Stata",
   "language": "stata",
   "name": "stata"
  },
  "language_info": {
   "codemirror_mode": "stata",
   "file_extension": ".do",
   "mimetype": "text/x-stata",
   "name": "stata",
   "version": "15.1"
  }
 },
 "nbformat": 4,
 "nbformat_minor": 5
}
